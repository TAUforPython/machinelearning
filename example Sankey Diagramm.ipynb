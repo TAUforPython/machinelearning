{
  "cells": [
    {
      "cell_type": "markdown",
      "metadata": {
        "id": "view-in-github",
        "colab_type": "text"
      },
      "source": [
        "<a href=\"https://colab.research.google.com/github/TAUforPython/machinelearning/blob/main/example%20Sankey%20Diagramm.ipynb\" target=\"_parent\"><img src=\"https://colab.research.google.com/assets/colab-badge.svg\" alt=\"Open In Colab\"/></a>"
      ]
    },
    {
      "cell_type": "markdown",
      "source": [
        "# Sankey diagramm"
      ],
      "metadata": {
        "id": "0rjW2A73PfFG"
      },
      "id": "0rjW2A73PfFG"
    },
    {
      "cell_type": "code",
      "source": [
        "import plotly.graph_objects as go\n",
        "import numpy as np\n",
        "import plotly.graph_objects as go\n",
        "import numpy as np\n",
        "import matplotlib.pyplot as plt"
      ],
      "metadata": {
        "id": "ev5hNj10P98S"
      },
      "id": "ev5hNj10P98S",
      "execution_count": 1,
      "outputs": []
    },
    {
      "cell_type": "code",
      "execution_count": 2,
      "id": "868246e6",
      "metadata": {
        "id": "868246e6"
      },
      "outputs": [],
      "source": [
        "mean_power = [1.48711646e-08, -2.97902704e-08, 2.27012944e-08, -3.90742408e-09, -1.59587564e-08, 1.93142363e-08]\n",
        "mean_power = [x**2 for x in mean_power]\n",
        "mean_variance = [2.94230489e-10, 2.73464515e-10, 2.57522813e-10, 2.90793371e-10, 2.62333203e-10, 2.61792757e-10]"
      ]
    },
    {
      "cell_type": "code",
      "source": [
        "# Параметры\n",
        "window_size = 20  # размер окна в секундах\n",
        "fs = 256  # частота дискретизации\n",
        "n_windows = 6  # 120 секунд / 10 секунд\n",
        "\n",
        "# Инициализация массивов для хранения данных\n",
        "all_power = []\n",
        "all_variance = []\n",
        "all_times = []"
      ],
      "metadata": {
        "id": "6wYDQxyxQABX"
      },
      "id": "6wYDQxyxQABX",
      "execution_count": 3,
      "outputs": []
    },
    {
      "cell_type": "code",
      "source": [
        "# Создаем узлы (каждое окно представлено двумя узлами: мощность и дисперсия)\n",
        "nodes = {\n",
        "    'label': [f'Окно {i+1} Мощность' for i in range(n_windows)] +\n",
        "            [f'Окно {i+1} Дисперсия' for i in range(n_windows)],\n",
        "    'color': ['blue'] * n_windows + ['red'] * n_windows\n",
        "}\n",
        "\n",
        "# Создаем связи между узлами\n",
        "links = {\n",
        "    'source': [],  # индексы источников (узлов)\n",
        "    'target': [],  # индексы целей (узлов)\n",
        "    'value': []    # значения потоков\n",
        "}\n",
        "\n",
        "# Связи между окнами мощности\n",
        "links['source'] = list(range(n_windows - 1))\n",
        "links['target'] = list(range(1, n_windows))\n",
        "\n",
        "# Связи между окнами дисперсии (смещены на n_windows)\n",
        "links['source'] += list(range(n_windows, 2*n_windows - 1))\n",
        "links['target'] += list(range(n_windows + 1, 2*n_windows))\n",
        "\n",
        "\n",
        "# Проверка исходных данных перед построением\n",
        "print(\"Проверка данных:\")\n",
        "print(f\"Средняя мощность по окнам: {mean_power}\")\n",
        "print(f\"Средняя дисперсия по окнам: {mean_variance}\")\n",
        "print(f\"Сумма мощностей: {np.sum(mean_power):.15f}\")\n",
        "print(f\"Сумма дисперсий: {np.sum(mean_variance):.15f}\")"
      ],
      "metadata": {
        "colab": {
          "base_uri": "https://localhost:8080/"
        },
        "id": "ap1R0ow6Qo-A",
        "outputId": "9a73a963-4b24-4fc2-c7f0-46b96efd04ce"
      },
      "id": "ap1R0ow6Qo-A",
      "execution_count": 4,
      "outputs": [
        {
          "output_type": "stream",
          "name": "stdout",
          "text": [
            "Проверка данных:\n",
            "Средняя мощность по окнам: [2.2115153656029319e-16, 8.874602105051162e-16, 5.153487674354714e-16, 1.5267962940963844e-17, 2.546819058345409e-16, 3.7303972385223775e-16]\n",
            "Средняя дисперсия по окнам: [2.94230489e-10, 2.73464515e-10, 2.57522813e-10, 2.90793371e-10, 2.62333203e-10, 2.61792757e-10]\n",
            "Сумма мощностей: 0.000000000000002\n",
            "Сумма дисперсий: 0.000000001640137\n"
          ]
        }
      ]
    },
    {
      "cell_type": "code",
      "source": [
        "# Если суммы близки к нулю - проблема в данных\n",
        "if np.sum(mean_power) < 1e-10 or np.sum(mean_variance) < 1e-10:\n",
        "    print(\"\\nДанные близки к нулю\")\n",
        "    print(\"1. Правильность выделения временных окон\")\n",
        "    print(\"2. Корректность расчёта мощности и дисперсии\")\n",
        "    print(\"3. Не все ли каналы ЭЭГ содержат нулевые значения\")"
      ],
      "metadata": {
        "colab": {
          "base_uri": "https://localhost:8080/"
        },
        "id": "YSS4pgpfRKMw",
        "outputId": "23d1e73e-ec14-4344-9f7c-1e4abd25ad05"
      },
      "id": "YSS4pgpfRKMw",
      "execution_count": 5,
      "outputs": [
        {
          "output_type": "stream",
          "name": "stdout",
          "text": [
            "\n",
            "Данные близки к нулю\n",
            "1. Правильность выделения временных окон\n",
            "2. Корректность расчёта мощности и дисперсии\n",
            "3. Не все ли каналы ЭЭГ содержат нулевые значения\n"
          ]
        }
      ]
    },
    {
      "cell_type": "code",
      "source": [
        "    # Альтернативный вариант нормализации - мин-макс scaling\n",
        "    power_norm = (mean_power - np.min(mean_power)) / (np.max(mean_power) - np.min(mean_power))\n",
        "    variance_norm = (mean_variance - np.min(mean_variance)) / (np.max(mean_variance) - np.min(mean_variance))\n",
        "\n",
        "    # Убедимся, что нет нулевых значений после нормализации\n",
        "    power_norm = np.clip(power_norm, 0.1, None)  # минимальное значение 0.1\n",
        "    variance_norm = np.clip(variance_norm, 0.1, None)\n",
        "\n",
        "    print(\"\\nНормализованные значения:\")\n",
        "    print(f\"Мощность: {power_norm}\")\n",
        "    print(f\"Дисперсия: {variance_norm}\")"
      ],
      "metadata": {
        "colab": {
          "base_uri": "https://localhost:8080/"
        },
        "id": "2LrZKFQoROBO",
        "outputId": "43b17310-014c-4ea5-ed68-fd9757d5ef69"
      },
      "id": "2LrZKFQoROBO",
      "execution_count": 6,
      "outputs": [
        {
          "output_type": "stream",
          "name": "stdout",
          "text": [
            "\n",
            "Нормализованные значения:\n",
            "Мощность: [0.23605297 1.         0.57336075 0.1        0.27449676 0.41019828]\n",
            "Дисперсия: [1.         0.43428797 0.1        0.90636514 0.13104589 0.11632292]\n"
          ]
        }
      ]
    },
    {
      "cell_type": "code",
      "source": [
        "# первое значение - это 120-ая секунда\n",
        "# последнее значение - это сам приступ\n",
        "plt.plot(power_norm,'r',variance_norm,'b')"
      ],
      "metadata": {
        "colab": {
          "base_uri": "https://localhost:8080/",
          "height": 464
        },
        "id": "RD0OPNZlRPIH",
        "outputId": "8aeb5f78-e12e-4f00-b888-784f5b20a2eb"
      },
      "id": "RD0OPNZlRPIH",
      "execution_count": 7,
      "outputs": [
        {
          "output_type": "execute_result",
          "data": {
            "text/plain": [
              "[<matplotlib.lines.Line2D at 0x7ba88f98f110>,\n",
              " <matplotlib.lines.Line2D at 0x7ba88f12cbd0>]"
            ]
          },
          "metadata": {},
          "execution_count": 7
        },
        {
          "output_type": "display_data",
          "data": {
            "text/plain": [
              "<Figure size 640x480 with 1 Axes>"
            ],
            "image/png": "[encoded data removed]"
          },
          "metadata": {}
        }
      ]
    },
    {
      "cell_type": "code",
      "source": [
        "    # Обновляем значения связей\n",
        "    #links['value'] = list(power_norm[:-1]) + list(variance_norm[:-1])\n",
        "    links['value'] = list(power_norm) + list(variance_norm)\n",
        "\n",
        "    # Красивый желтый цвет для всех связей\n",
        "    link_colors = ['rgba(255, 215, 0, 0.8)'] * len(links['source'])\n",
        "\n",
        "    # Создаем временные метки от 120 до 0 секунд с шагом window_size\n",
        "    time_labels = [f\"{120 - i*window_size} сек\" for i in range(n_windows)]\n",
        "\n",
        "    # Обновляем метки узлов\n",
        "    nodes['label'] = [f\"{t} Мощность\" for t in time_labels] + [f\"{t} Дисперсия\" for t in time_labels]"
      ],
      "metadata": {
        "id": "Cn6e0rOuTJ0a"
      },
      "id": "Cn6e0rOuTJ0a",
      "execution_count": 8,
      "outputs": []
    },
    {
      "cell_type": "code",
      "source": [
        "\n",
        "    # Создаём улучшенную диаграмму с временными метками\n",
        "    fig = go.Figure(go.Sankey(\n",
        "        node=dict(\n",
        "            pad=20,\n",
        "            thickness=20,\n",
        "            line=dict(color=\"black\", width=1),\n",
        "            label=nodes['label'],\n",
        "            color=nodes['color'],\n",
        "            x=[i/(n_windows-1) for i in range(n_windows)]*2,  # равномерное распределение\n",
        "            y=[0.8]*n_windows + [0.2]*n_windows  # мощность сверху, дисперсия снизу\n",
        "        ),\n",
        "        link=dict(\n",
        "            source=links['source'],\n",
        "            target=links['target'],\n",
        "            value=links['value'],\n",
        "            color=link_colors,  # Желтый цвет для всех связей\n",
        "            hoverinfo='all',\n",
        "            hovertemplate='<b>%{source.label}</b> → <b>%{target.label}</b><br>Интенсивность: %{value:.2f}<extra></extra>'\n",
        "        ),\n",
        "        arrangement='freeform'  # лучше сохраняет заданные позиции\n",
        "    ))\n",
        "\n",
        "    fig.update_layout(\n",
        "        title_text=f\"<b>Динамика параметров ЭЭГ перед приступом ({window_size}сек окна)</b><br>Синий - мощность, Красный - дисперсия, Желтый - связи\",\n",
        "        title_font_size=18,\n",
        "        font=dict(size=14),\n",
        "        height=700,\n",
        "        width=1000,\n",
        "        plot_bgcolor='white',\n",
        "        xaxis_title=\"Время до приступа (сек)\",\n",
        "        annotations=[\n",
        "            dict(\n",
        "                x=0.5,\n",
        "                y=-0.15,\n",
        "                showarrow=False,\n",
        "                text=\"Ось X показывает время до начала приступа (0 сек - момент приступа)\",\n",
        "                xref=\"paper\",\n",
        "                yref=\"paper\"\n",
        "            )\n",
        "        ]\n",
        "    )\n",
        "\n",
        "    fig.show()\n",
        "\n",
        ""
      ],
      "metadata": {
        "colab": {
          "base_uri": "https://localhost:8080/",
          "height": 717
        },
        "id": "AfuAWRf6UCM1",
        "outputId": "edf46f37-06c4-4aae-ad4e-25dc94764249"
      },
      "id": "AfuAWRf6UCM1",
      "execution_count": 10,
      "outputs": [
        {
          "output_type": "display_data",
          "data": {
            "text/html": [
              "<html>\n",
              "<head><meta charset=\"utf-8\" /></head>\n",
              "<body>\n",
              "    <div>            <script src=\"https://cdnjs.cloudflare.com/ajax/libs/mathjax/2.7.5/MathJax.js?config=TeX-AMS-MML_SVG\"></script><script type=\"text/javascript\">if (window.MathJax && window.MathJax.Hub && window.MathJax.Hub.Config) {window.MathJax.Hub.Config({SVG: {font: \"STIX-Web\"}});}</script>                <script type=\"text/javascript\">window.PlotlyConfig = {MathJaxConfig: 'local'};</script>\n",
              "        <script charset=\"utf-8\" src=\"https://cdn.plot.ly/plotly-2.35.2.min.js\"></script>                <div id=\"9232ca85-7921-4659-bb56-9698297245fc\" class=\"plotly-graph-div\" style=\"height:700px; width:1000px;\"></div>            <script type=\"text/javascript\">                                    window.PLOTLYENV=window.PLOTLYENV || {};                                    if (document.getElementById(\"9232ca85-7921-4659-bb56-9698297245fc\")) {                    Plotly.newPlot(                        \"9232ca85-7921-4659-bb56-9698297245fc\",                        [{\"arrangement\":\"freeform\",\"link\":{\"color\":[\"rgba(255, 215, 0, 0.8)\",\"rgba(255, 215, 0, 0.8)\",\"rgba(255, 215, 0, 0.8)\",\"rgba(255, 215, 0, 0.8)\",\"rgba(255, 215, 0, 0.8)\",\"rgba(255, 215, 0, 0.8)\",\"rgba(255, 215, 0, 0.8)\",\"rgba(255, 215, 0, 0.8)\",\"rgba(255, 215, 0, 0.8)\",\"rgba(255, 215, 0, 0.8)\"],\"hoverinfo\":\"all\",\"hovertemplate\":\"\\u003cb\\u003e%{source.label}\\u003c\\u002fb\\u003e → \\u003cb\\u003e%{target.label}\\u003c\\u002fb\\u003e\\u003cbr\\u003eИнтенсивность: %{value:.2f}\\u003cextra\\u003e\\u003c\\u002fextra\\u003e\",\"source\":[0,1,2,3,4,6,7,8,9,10],\"target\":[1,2,3,4,5,7,8,9,10,11],\"value\":[0.2360529736354782,1.0,0.5733607537685952,0.1,0.27449675637705945,0.4101982812968751,1.0,0.434287967454001,0.1,0.9063651428110024,0.13104588805894404,0.11632291839995525]},\"node\":{\"color\":[\"blue\",\"blue\",\"blue\",\"blue\",\"blue\",\"blue\",\"red\",\"red\",\"red\",\"red\",\"red\",\"red\"],\"label\":[\"120 сек Мощность\",\"100 сек Мощность\",\"80 сек Мощность\",\"60 сек Мощность\",\"40 сек Мощность\",\"20 сек Мощность\",\"120 сек Дисперсия\",\"100 сек Дисперсия\",\"80 сек Дисперсия\",\"60 сек Дисперсия\",\"40 сек Дисперсия\",\"20 сек Дисперсия\"],\"line\":{\"color\":\"black\",\"width\":1},\"pad\":20,\"thickness\":20,\"x\":[0.0,0.2,0.4,0.6,0.8,1.0,0.0,0.2,0.4,0.6,0.8,1.0],\"y\":[0.8,0.8,0.8,0.8,0.8,0.8,0.2,0.2,0.2,0.2,0.2,0.2]},\"type\":\"sankey\"}],                        {\"template\":{\"data\":{\"histogram2dcontour\":[{\"type\":\"histogram2dcontour\",\"colorbar\":{\"outlinewidth\":0,\"ticks\":\"\"},\"colorscale\":[[0.0,\"#0d0887\"],[0.1111111111111111,\"#46039f\"],[0.2222222222222222,\"#7201a8\"],[0.3333333333333333,\"#9c179e\"],[0.4444444444444444,\"#bd3786\"],[0.5555555555555556,\"#d8576b\"],[0.6666666666666666,\"#ed7953\"],[0.7777777777777778,\"#fb9f3a\"],[0.8888888888888888,\"#fdca26\"],[1.0,\"#f0f921\"]]}],\"choropleth\":[{\"type\":\"choropleth\",\"colorbar\":{\"outlinewidth\":0,\"ticks\":\"\"}}],\"histogram2d\":[{\"type\":\"histogram2d\",\"colorbar\":{\"outlinewidth\":0,\"ticks\":\"\"},\"colorscale\":[[0.0,\"#0d0887\"],[0.1111111111111111,\"#46039f\"],[0.2222222222222222,\"#7201a8\"],[0.3333333333333333,\"#9c179e\"],[0.4444444444444444,\"#bd3786\"],[0.5555555555555556,\"#d8576b\"],[0.6666666666666666,\"#ed7953\"],[0.7777777777777778,\"#fb9f3a\"],[0.8888888888888888,\"#fdca26\"],[1.0,\"#f0f921\"]]}],\"heatmap\":[{\"type\":\"heatmap\",\"colorbar\":{\"outlinewidth\":0,\"ticks\":\"\"},\"colorscale\":[[0.0,\"#0d0887\"],[0.1111111111111111,\"#46039f\"],[0.2222222222222222,\"#7201a8\"],[0.3333333333333333,\"#9c179e\"],[0.4444444444444444,\"#bd3786\"],[0.5555555555555556,\"#d8576b\"],[0.6666666666666666,\"#ed7953\"],[0.7777777777777778,\"#fb9f3a\"],[0.8888888888888888,\"#fdca26\"],[1.0,\"#f0f921\"]]}],\"heatmapgl\":[{\"type\":\"heatmapgl\",\"colorbar\":{\"outlinewidth\":0,\"ticks\":\"\"},\"colorscale\":[[0.0,\"#0d0887\"],[0.1111111111111111,\"#46039f\"],[0.2222222222222222,\"#7201a8\"],[0.3333333333333333,\"#9c179e\"],[0.4444444444444444,\"#bd3786\"],[0.5555555555555556,\"#d8576b\"],[0.6666666666666666,\"#ed7953\"],[0.7777777777777778,\"#fb9f3a\"],[0.8888888888888888,\"#fdca26\"],[1.0,\"#f0f921\"]]}],\"contourcarpet\":[{\"type\":\"contourcarpet\",\"colorbar\":{\"outlinewidth\":0,\"ticks\":\"\"}}],\"contour\":[{\"type\":\"contour\",\"colorbar\":{\"outlinewidth\":0,\"ticks\":\"\"},\"colorscale\":[[0.0,\"#0d0887\"],[0.1111111111111111,\"#46039f\"],[0.2222222222222222,\"#7201a8\"],[0.3333333333333333,\"#9c179e\"],[0.4444444444444444,\"#bd3786\"],[0.5555555555555556,\"#d8576b\"],[0.6666666666666666,\"#ed7953\"],[0.7777777777777778,\"#fb9f3a\"],[0.8888888888888888,\"#fdca26\"],[1.0,\"#f0f921\"]]}],\"surface\":[{\"type\":\"surface\",\"colorbar\":{\"outlinewidth\":0,\"ticks\":\"\"},\"colorscale\":[[0.0,\"#0d0887\"],[0.1111111111111111,\"#46039f\"],[0.2222222222222222,\"#7201a8\"],[0.3333333333333333,\"#9c179e\"],[0.4444444444444444,\"#bd3786\"],[0.5555555555555556,\"#d8576b\"],[0.6666666666666666,\"#ed7953\"],[0.7777777777777778,\"#fb9f3a\"],[0.8888888888888888,\"#fdca26\"],[1.0,\"#f0f921\"]]}],\"mesh3d\":[{\"type\":\"mesh3d\",\"colorbar\":{\"outlinewidth\":0,\"ticks\":\"\"}}],\"scatter\":[{\"fillpattern\":{\"fillmode\":\"overlay\",\"size\":10,\"solidity\":0.2},\"type\":\"scatter\"}],\"parcoords\":[{\"type\":\"parcoords\",\"line\":{\"colorbar\":{\"outlinewidth\":0,\"ticks\":\"\"}}}],\"scatterpolargl\":[{\"type\":\"scatterpolargl\",\"marker\":{\"colorbar\":{\"outlinewidth\":0,\"ticks\":\"\"}}}],\"bar\":[{\"error_x\":{\"color\":\"#2a3f5f\"},\"error_y\":{\"color\":\"#2a3f5f\"},\"marker\":{\"line\":{\"color\":\"#E5ECF6\",\"width\":0.5},\"pattern\":{\"fillmode\":\"overlay\",\"size\":10,\"solidity\":0.2}},\"type\":\"bar\"}],\"scattergeo\":[{\"type\":\"scattergeo\",\"marker\":{\"colorbar\":{\"outlinewidth\":0,\"ticks\":\"\"}}}],\"scatterpolar\":[{\"type\":\"scatterpolar\",\"marker\":{\"colorbar\":{\"outlinewidth\":0,\"ticks\":\"\"}}}],\"histogram\":[{\"marker\":{\"pattern\":{\"fillmode\":\"overlay\",\"size\":10,\"solidity\":0.2}},\"type\":\"histogram\"}],\"scattergl\":[{\"type\":\"scattergl\",\"marker\":{\"colorbar\":{\"outlinewidth\":0,\"ticks\":\"\"}}}],\"scatter3d\":[{\"type\":\"scatter3d\",\"line\":{\"colorbar\":{\"outlinewidth\":0,\"ticks\":\"\"}},\"marker\":{\"colorbar\":{\"outlinewidth\":0,\"ticks\":\"\"}}}],\"scattermapbox\":[{\"type\":\"scattermapbox\",\"marker\":{\"colorbar\":{\"outlinewidth\":0,\"ticks\":\"\"}}}],\"scatterternary\":[{\"type\":\"scatterternary\",\"marker\":{\"colorbar\":{\"outlinewidth\":0,\"ticks\":\"\"}}}],\"scattercarpet\":[{\"type\":\"scattercarpet\",\"marker\":{\"colorbar\":{\"outlinewidth\":0,\"ticks\":\"\"}}}],\"carpet\":[{\"aaxis\":{\"endlinecolor\":\"#2a3f5f\",\"gridcolor\":\"white\",\"linecolor\":\"white\",\"minorgridcolor\":\"white\",\"startlinecolor\":\"#2a3f5f\"},\"baxis\":{\"endlinecolor\":\"#2a3f5f\",\"gridcolor\":\"white\",\"linecolor\":\"white\",\"minorgridcolor\":\"white\",\"startlinecolor\":\"#2a3f5f\"},\"type\":\"carpet\"}],\"table\":[{\"cells\":{\"fill\":{\"color\":\"#EBF0F8\"},\"line\":{\"color\":\"white\"}},\"header\":{\"fill\":{\"color\":\"#C8D4E3\"},\"line\":{\"color\":\"white\"}},\"type\":\"table\"}],\"barpolar\":[{\"marker\":{\"line\":{\"color\":\"#E5ECF6\",\"width\":0.5},\"pattern\":{\"fillmode\":\"overlay\",\"size\":10,\"solidity\":0.2}},\"type\":\"barpolar\"}],\"pie\":[{\"automargin\":true,\"type\":\"pie\"}]},\"layout\":{\"autotypenumbers\":\"strict\",\"colorway\":[\"#636efa\",\"#EF553B\",\"#00cc96\",\"#ab63fa\",\"#FFA15A\",\"#19d3f3\",\"#FF6692\",\"#B6E880\",\"#FF97FF\",\"#FECB52\"],\"font\":{\"color\":\"#2a3f5f\"},\"hovermode\":\"closest\",\"hoverlabel\":{\"align\":\"left\"},\"paper_bgcolor\":\"white\",\"plot_bgcolor\":\"#E5ECF6\",\"polar\":{\"bgcolor\":\"#E5ECF6\",\"angularaxis\":{\"gridcolor\":\"white\",\"linecolor\":\"white\",\"ticks\":\"\"},\"radialaxis\":{\"gridcolor\":\"white\",\"linecolor\":\"white\",\"ticks\":\"\"}},\"ternary\":{\"bgcolor\":\"#E5ECF6\",\"aaxis\":{\"gridcolor\":\"white\",\"linecolor\":\"white\",\"ticks\":\"\"},\"baxis\":{\"gridcolor\":\"white\",\"linecolor\":\"white\",\"ticks\":\"\"},\"caxis\":{\"gridcolor\":\"white\",\"linecolor\":\"white\",\"ticks\":\"\"}},\"coloraxis\":{\"colorbar\":{\"outlinewidth\":0,\"ticks\":\"\"}},\"colorscale\":{\"sequential\":[[0.0,\"#0d0887\"],[0.1111111111111111,\"#46039f\"],[0.2222222222222222,\"#7201a8\"],[0.3333333333333333,\"#9c179e\"],[0.4444444444444444,\"#bd3786\"],[0.5555555555555556,\"#d8576b\"],[0.6666666666666666,\"#ed7953\"],[0.7777777777777778,\"#fb9f3a\"],[0.8888888888888888,\"#fdca26\"],[1.0,\"#f0f921\"]],\"sequentialminus\":[[0.0,\"#0d0887\"],[0.1111111111111111,\"#46039f\"],[0.2222222222222222,\"#7201a8\"],[0.3333333333333333,\"#9c179e\"],[0.4444444444444444,\"#bd3786\"],[0.5555555555555556,\"#d8576b\"],[0.6666666666666666,\"#ed7953\"],[0.7777777777777778,\"#fb9f3a\"],[0.8888888888888888,\"#fdca26\"],[1.0,\"#f0f921\"]],\"diverging\":[[0,\"#8e0152\"],[0.1,\"#c51b7d\"],[0.2,\"#de77ae\"],[0.3,\"#f1b6da\"],[0.4,\"#fde0ef\"],[0.5,\"#f7f7f7\"],[0.6,\"#e6f5d0\"],[0.7,\"#b8e186\"],[0.8,\"#7fbc41\"],[0.9,\"#4d9221\"],[1,\"#276419\"]]},\"xaxis\":{\"gridcolor\":\"white\",\"linecolor\":\"white\",\"ticks\":\"\",\"title\":{\"standoff\":15},\"zerolinecolor\":\"white\",\"automargin\":true,\"zerolinewidth\":2},\"yaxis\":{\"gridcolor\":\"white\",\"linecolor\":\"white\",\"ticks\":\"\",\"title\":{\"standoff\":15},\"zerolinecolor\":\"white\",\"automargin\":true,\"zerolinewidth\":2},\"scene\":{\"xaxis\":{\"backgroundcolor\":\"#E5ECF6\",\"gridcolor\":\"white\",\"linecolor\":\"white\",\"showbackground\":true,\"ticks\":\"\",\"zerolinecolor\":\"white\",\"gridwidth\":2},\"yaxis\":{\"backgroundcolor\":\"#E5ECF6\",\"gridcolor\":\"white\",\"linecolor\":\"white\",\"showbackground\":true,\"ticks\":\"\",\"zerolinecolor\":\"white\",\"gridwidth\":2},\"zaxis\":{\"backgroundcolor\":\"#E5ECF6\",\"gridcolor\":\"white\",\"linecolor\":\"white\",\"showbackground\":true,\"ticks\":\"\",\"zerolinecolor\":\"white\",\"gridwidth\":2}},\"shapedefaults\":{\"line\":{\"color\":\"#2a3f5f\"}},\"annotationdefaults\":{\"arrowcolor\":\"#2a3f5f\",\"arrowhead\":0,\"arrowwidth\":1},\"geo\":{\"bgcolor\":\"white\",\"landcolor\":\"#E5ECF6\",\"subunitcolor\":\"white\",\"showland\":true,\"showlakes\":true,\"lakecolor\":\"white\"},\"title\":{\"x\":0.05},\"mapbox\":{\"style\":\"light\"}}},\"title\":{\"font\":{\"size\":18},\"text\":\"\\u003cb\\u003eДинамика параметров ЭЭГ перед приступом (20сек окна)\\u003c\\u002fb\\u003e\\u003cbr\\u003eСиний - мощность, Красный - дисперсия, Желтый - связи\"},\"font\":{\"size\":14},\"height\":700,\"width\":1000,\"plot_bgcolor\":\"white\",\"xaxis\":{\"title\":{\"text\":\"Время до приступа (сек)\"}},\"annotations\":[{\"showarrow\":false,\"text\":\"Ось X показывает время до начала приступа (0 сек - момент приступа)\",\"x\":0.5,\"xref\":\"paper\",\"y\":-0.15,\"yref\":\"paper\"}]},                        {\"responsive\": true}                    ).then(function(){\n",
              "                            \n",
              "var gd = document.getElementById('9232ca85-7921-4659-bb56-9698297245fc');\n",
              "var x = new MutationObserver(function (mutations, observer) {{\n",
              "        var display = window.getComputedStyle(gd).display;\n",
              "        if (!display || display === 'none') {{\n",
              "            console.log([gd, 'removed!']);\n",
              "            Plotly.purge(gd);\n",
              "            observer.disconnect();\n",
              "        }}\n",
              "}});\n",
              "\n",
              "// Listen for the removal of the full notebook cells\n",
              "var notebookContainer = gd.closest('#notebook-container');\n",
              "if (notebookContainer) {{\n",
              "    x.observe(notebookContainer, {childList: true});\n",
              "}}\n",
              "\n",
              "// Listen for the clearing of the current output cell\n",
              "var outputEl = gd.closest('.output');\n",
              "if (outputEl) {{\n",
              "    x.observe(outputEl, {childList: true});\n",
              "}}\n",
              "\n",
              "                        })                };                            </script>        </div>\n",
              "</body>\n",
              "</html>"
            ]
          },
          "metadata": {}
        }
      ]
    },
    {
      "cell_type": "code",
      "source": [
        "\n",
        "    # Добавляем обратные связи\n",
        "    reverse_links = {\n",
        "        #'source': links['target'][:-1],  # Берем все узлы, кроме последнего (чтобы не выйти за границы)\n",
        "        #'target': links['source'][:-1],\n",
        "        #'value': links['value'][:-1]   # Уменьшаем вес обратных связей для наглядности\n",
        "        'source': links['target'][::-1],  # Берем все узлы, кроме последнего (чтобы не выйти за границы)\n",
        "        'target': links['source'][::-1],\n",
        "        'value': links['value'][1:][::-1]   # Уменьшаем вес обратных связей для наглядности\n",
        "    }\n",
        "\n",
        "    # Объединяем прямые и обратные связи\n",
        "    all_links = {\n",
        "        'source': links['source'] + reverse_links['source'],\n",
        "        'target': links['target'] + reverse_links['target'],\n",
        "        'value': links['value'] + reverse_links['value']\n",
        "    }\n",
        "\n",
        "    # Разные цвета для прямых и обратных связей\n",
        "    link_colors = (\n",
        "        ['rgba(0, 255, 0, 0.6)'] * len(links['source']) +  # Зеленый для прямых связей\n",
        "        ['rgba(255, 165, 0, 0.4)'] * len(reverse_links['source'])  # Оранжевый для обратных\n",
        "    )\n",
        "\n",
        "    fig = go.Figure(go.Sankey(\n",
        "        node=dict(\n",
        "            pad=20,\n",
        "            thickness=20,\n",
        "            line=dict(color=\"black\", width=1),\n",
        "            label=nodes['label'],\n",
        "            color=nodes['color'],\n",
        "            x=[i/(n_windows-1) for i in range(n_windows)]*2,\n",
        "            y=[0.8]*n_windows + [0.2]*n_windows\n",
        "        ),\n",
        "        link=dict(\n",
        "            source=all_links['source'],\n",
        "            target=all_links['target'],\n",
        "            value=all_links['value'],\n",
        "            color=link_colors,\n",
        "            hoverinfo='all',\n",
        "            hovertemplate='<b>%{source.label}</b> → <b>%{target.label}</b><br>Интенсивность: %{value:.2f}<extra></extra>'\n",
        "        ),\n",
        "        arrangement='freeform'\n",
        "    ))\n",
        "\n",
        "    fig.update_layout(\n",
        "        title_text=f\"<b>Динамика параметров ЭЭГ перед приступом ({window_size}сек окна)</b><br>\"\n",
        "                   \"Синий - мощность, Красный - дисперсия<br>\"\n",
        "                   \"Зеленый → прямые связи, Оранжевый ← обратные\",\n",
        "        title_font_size=18,\n",
        "        font=dict(size=14),\n",
        "        height=700,\n",
        "        width=1000,\n",
        "        plot_bgcolor='white',\n",
        "        annotations=[\n",
        "            dict(\n",
        "                x=0.5,\n",
        "                y=-0.15,\n",
        "                showarrow=False,\n",
        "                text=\"Ось X показывает время до начала приступа (0 сек - момент приступа)\",\n",
        "                xref=\"paper\",\n",
        "                yref=\"paper\"\n",
        "            )\n",
        "        ]\n",
        "    )\n",
        "\n",
        "    fig.show()\n",
        "\n",
        ""
      ],
      "metadata": {
        "colab": {
          "base_uri": "https://localhost:8080/",
          "height": 717
        },
        "id": "2-xbZzA5S__T",
        "outputId": "00507ea5-36a0-49a4-df1c-35f4ff543350"
      },
      "id": "2-xbZzA5S__T",
      "execution_count": 11,
      "outputs": [
        {
          "output_type": "display_data",
          "data": {
            "text/html": [
              "<html>\n",
              "<head><meta charset=\"utf-8\" /></head>\n",
              "<body>\n",
              "    <div>            <script src=\"https://cdnjs.cloudflare.com/ajax/libs/mathjax/2.7.5/MathJax.js?config=TeX-AMS-MML_SVG\"></script><script type=\"text/javascript\">if (window.MathJax && window.MathJax.Hub && window.MathJax.Hub.Config) {window.MathJax.Hub.Config({SVG: {font: \"STIX-Web\"}});}</script>                <script type=\"text/javascript\">window.PlotlyConfig = {MathJaxConfig: 'local'};</script>\n",
              "        <script charset=\"utf-8\" src=\"https://cdn.plot.ly/plotly-2.35.2.min.js\"></script>                <div id=\"c17ce3b3-dd40-4b65-86c4-ac1fc7f8e026\" class=\"plotly-graph-div\" style=\"height:700px; width:1000px;\"></div>            <script type=\"text/javascript\">                                    window.PLOTLYENV=window.PLOTLYENV || {};                                    if (document.getElementById(\"c17ce3b3-dd40-4b65-86c4-ac1fc7f8e026\")) {                    Plotly.newPlot(                        \"c17ce3b3-dd40-4b65-86c4-ac1fc7f8e026\",                        [{\"arrangement\":\"freeform\",\"link\":{\"color\":[\"rgba(0, 255, 0, 0.6)\",\"rgba(0, 255, 0, 0.6)\",\"rgba(0, 255, 0, 0.6)\",\"rgba(0, 255, 0, 0.6)\",\"rgba(0, 255, 0, 0.6)\",\"rgba(0, 255, 0, 0.6)\",\"rgba(0, 255, 0, 0.6)\",\"rgba(0, 255, 0, 0.6)\",\"rgba(0, 255, 0, 0.6)\",\"rgba(0, 255, 0, 0.6)\",\"rgba(255, 165, 0, 0.4)\",\"rgba(255, 165, 0, 0.4)\",\"rgba(255, 165, 0, 0.4)\",\"rgba(255, 165, 0, 0.4)\",\"rgba(255, 165, 0, 0.4)\",\"rgba(255, 165, 0, 0.4)\",\"rgba(255, 165, 0, 0.4)\",\"rgba(255, 165, 0, 0.4)\",\"rgba(255, 165, 0, 0.4)\",\"rgba(255, 165, 0, 0.4)\"],\"hoverinfo\":\"all\",\"hovertemplate\":\"\\u003cb\\u003e%{source.label}\\u003c\\u002fb\\u003e → \\u003cb\\u003e%{target.label}\\u003c\\u002fb\\u003e\\u003cbr\\u003eИнтенсивность: %{value:.2f}\\u003cextra\\u003e\\u003c\\u002fextra\\u003e\",\"source\":[0,1,2,3,4,6,7,8,9,10,11,10,9,8,7,5,4,3,2,1],\"target\":[1,2,3,4,5,7,8,9,10,11,10,9,8,7,6,4,3,2,1,0],\"value\":[0.2360529736354782,1.0,0.5733607537685952,0.1,0.27449675637705945,0.4101982812968751,1.0,0.434287967454001,0.1,0.9063651428110024,0.13104588805894404,0.11632291839995525,0.11632291839995525,0.13104588805894404,0.9063651428110024,0.1,0.434287967454001,1.0,0.4101982812968751,0.27449675637705945,0.1,0.5733607537685952,1.0]},\"node\":{\"color\":[\"blue\",\"blue\",\"blue\",\"blue\",\"blue\",\"blue\",\"red\",\"red\",\"red\",\"red\",\"red\",\"red\"],\"label\":[\"120 сек Мощность\",\"100 сек Мощность\",\"80 сек Мощность\",\"60 сек Мощность\",\"40 сек Мощность\",\"20 сек Мощность\",\"120 сек Дисперсия\",\"100 сек Дисперсия\",\"80 сек Дисперсия\",\"60 сек Дисперсия\",\"40 сек Дисперсия\",\"20 сек Дисперсия\"],\"line\":{\"color\":\"black\",\"width\":1},\"pad\":20,\"thickness\":20,\"x\":[0.0,0.2,0.4,0.6,0.8,1.0,0.0,0.2,0.4,0.6,0.8,1.0],\"y\":[0.8,0.8,0.8,0.8,0.8,0.8,0.2,0.2,0.2,0.2,0.2,0.2]},\"type\":\"sankey\"}],                        {\"template\":{\"data\":{\"histogram2dcontour\":[{\"type\":\"histogram2dcontour\",\"colorbar\":{\"outlinewidth\":0,\"ticks\":\"\"},\"colorscale\":[[0.0,\"#0d0887\"],[0.1111111111111111,\"#46039f\"],[0.2222222222222222,\"#7201a8\"],[0.3333333333333333,\"#9c179e\"],[0.4444444444444444,\"#bd3786\"],[0.5555555555555556,\"#d8576b\"],[0.6666666666666666,\"#ed7953\"],[0.7777777777777778,\"#fb9f3a\"],[0.8888888888888888,\"#fdca26\"],[1.0,\"#f0f921\"]]}],\"choropleth\":[{\"type\":\"choropleth\",\"colorbar\":{\"outlinewidth\":0,\"ticks\":\"\"}}],\"histogram2d\":[{\"type\":\"histogram2d\",\"colorbar\":{\"outlinewidth\":0,\"ticks\":\"\"},\"colorscale\":[[0.0,\"#0d0887\"],[0.1111111111111111,\"#46039f\"],[0.2222222222222222,\"#7201a8\"],[0.3333333333333333,\"#9c179e\"],[0.4444444444444444,\"#bd3786\"],[0.5555555555555556,\"#d8576b\"],[0.6666666666666666,\"#ed7953\"],[0.7777777777777778,\"#fb9f3a\"],[0.8888888888888888,\"#fdca26\"],[1.0,\"#f0f921\"]]}],\"heatmap\":[{\"type\":\"heatmap\",\"colorbar\":{\"outlinewidth\":0,\"ticks\":\"\"},\"colorscale\":[[0.0,\"#0d0887\"],[0.1111111111111111,\"#46039f\"],[0.2222222222222222,\"#7201a8\"],[0.3333333333333333,\"#9c179e\"],[0.4444444444444444,\"#bd3786\"],[0.5555555555555556,\"#d8576b\"],[0.6666666666666666,\"#ed7953\"],[0.7777777777777778,\"#fb9f3a\"],[0.8888888888888888,\"#fdca26\"],[1.0,\"#f0f921\"]]}],\"heatmapgl\":[{\"type\":\"heatmapgl\",\"colorbar\":{\"outlinewidth\":0,\"ticks\":\"\"},\"colorscale\":[[0.0,\"#0d0887\"],[0.1111111111111111,\"#46039f\"],[0.2222222222222222,\"#7201a8\"],[0.3333333333333333,\"#9c179e\"],[0.4444444444444444,\"#bd3786\"],[0.5555555555555556,\"#d8576b\"],[0.6666666666666666,\"#ed7953\"],[0.7777777777777778,\"#fb9f3a\"],[0.8888888888888888,\"#fdca26\"],[1.0,\"#f0f921\"]]}],\"contourcarpet\":[{\"type\":\"contourcarpet\",\"colorbar\":{\"outlinewidth\":0,\"ticks\":\"\"}}],\"contour\":[{\"type\":\"contour\",\"colorbar\":{\"outlinewidth\":0,\"ticks\":\"\"},\"colorscale\":[[0.0,\"#0d0887\"],[0.1111111111111111,\"#46039f\"],[0.2222222222222222,\"#7201a8\"],[0.3333333333333333,\"#9c179e\"],[0.4444444444444444,\"#bd3786\"],[0.5555555555555556,\"#d8576b\"],[0.6666666666666666,\"#ed7953\"],[0.7777777777777778,\"#fb9f3a\"],[0.8888888888888888,\"#fdca26\"],[1.0,\"#f0f921\"]]}],\"surface\":[{\"type\":\"surface\",\"colorbar\":{\"outlinewidth\":0,\"ticks\":\"\"},\"colorscale\":[[0.0,\"#0d0887\"],[0.1111111111111111,\"#46039f\"],[0.2222222222222222,\"#7201a8\"],[0.3333333333333333,\"#9c179e\"],[0.4444444444444444,\"#bd3786\"],[0.5555555555555556,\"#d8576b\"],[0.6666666666666666,\"#ed7953\"],[0.7777777777777778,\"#fb9f3a\"],[0.8888888888888888,\"#fdca26\"],[1.0,\"#f0f921\"]]}],\"mesh3d\":[{\"type\":\"mesh3d\",\"colorbar\":{\"outlinewidth\":0,\"ticks\":\"\"}}],\"scatter\":[{\"fillpattern\":{\"fillmode\":\"overlay\",\"size\":10,\"solidity\":0.2},\"type\":\"scatter\"}],\"parcoords\":[{\"type\":\"parcoords\",\"line\":{\"colorbar\":{\"outlinewidth\":0,\"ticks\":\"\"}}}],\"scatterpolargl\":[{\"type\":\"scatterpolargl\",\"marker\":{\"colorbar\":{\"outlinewidth\":0,\"ticks\":\"\"}}}],\"bar\":[{\"error_x\":{\"color\":\"#2a3f5f\"},\"error_y\":{\"color\":\"#2a3f5f\"},\"marker\":{\"line\":{\"color\":\"#E5ECF6\",\"width\":0.5},\"pattern\":{\"fillmode\":\"overlay\",\"size\":10,\"solidity\":0.2}},\"type\":\"bar\"}],\"scattergeo\":[{\"type\":\"scattergeo\",\"marker\":{\"colorbar\":{\"outlinewidth\":0,\"ticks\":\"\"}}}],\"scatterpolar\":[{\"type\":\"scatterpolar\",\"marker\":{\"colorbar\":{\"outlinewidth\":0,\"ticks\":\"\"}}}],\"histogram\":[{\"marker\":{\"pattern\":{\"fillmode\":\"overlay\",\"size\":10,\"solidity\":0.2}},\"type\":\"histogram\"}],\"scattergl\":[{\"type\":\"scattergl\",\"marker\":{\"colorbar\":{\"outlinewidth\":0,\"ticks\":\"\"}}}],\"scatter3d\":[{\"type\":\"scatter3d\",\"line\":{\"colorbar\":{\"outlinewidth\":0,\"ticks\":\"\"}},\"marker\":{\"colorbar\":{\"outlinewidth\":0,\"ticks\":\"\"}}}],\"scattermapbox\":[{\"type\":\"scattermapbox\",\"marker\":{\"colorbar\":{\"outlinewidth\":0,\"ticks\":\"\"}}}],\"scatterternary\":[{\"type\":\"scatterternary\",\"marker\":{\"colorbar\":{\"outlinewidth\":0,\"ticks\":\"\"}}}],\"scattercarpet\":[{\"type\":\"scattercarpet\",\"marker\":{\"colorbar\":{\"outlinewidth\":0,\"ticks\":\"\"}}}],\"carpet\":[{\"aaxis\":{\"endlinecolor\":\"#2a3f5f\",\"gridcolor\":\"white\",\"linecolor\":\"white\",\"minorgridcolor\":\"white\",\"startlinecolor\":\"#2a3f5f\"},\"baxis\":{\"endlinecolor\":\"#2a3f5f\",\"gridcolor\":\"white\",\"linecolor\":\"white\",\"minorgridcolor\":\"white\",\"startlinecolor\":\"#2a3f5f\"},\"type\":\"carpet\"}],\"table\":[{\"cells\":{\"fill\":{\"color\":\"#EBF0F8\"},\"line\":{\"color\":\"white\"}},\"header\":{\"fill\":{\"color\":\"#C8D4E3\"},\"line\":{\"color\":\"white\"}},\"type\":\"table\"}],\"barpolar\":[{\"marker\":{\"line\":{\"color\":\"#E5ECF6\",\"width\":0.5},\"pattern\":{\"fillmode\":\"overlay\",\"size\":10,\"solidity\":0.2}},\"type\":\"barpolar\"}],\"pie\":[{\"automargin\":true,\"type\":\"pie\"}]},\"layout\":{\"autotypenumbers\":\"strict\",\"colorway\":[\"#636efa\",\"#EF553B\",\"#00cc96\",\"#ab63fa\",\"#FFA15A\",\"#19d3f3\",\"#FF6692\",\"#B6E880\",\"#FF97FF\",\"#FECB52\"],\"font\":{\"color\":\"#2a3f5f\"},\"hovermode\":\"closest\",\"hoverlabel\":{\"align\":\"left\"},\"paper_bgcolor\":\"white\",\"plot_bgcolor\":\"#E5ECF6\",\"polar\":{\"bgcolor\":\"#E5ECF6\",\"angularaxis\":{\"gridcolor\":\"white\",\"linecolor\":\"white\",\"ticks\":\"\"},\"radialaxis\":{\"gridcolor\":\"white\",\"linecolor\":\"white\",\"ticks\":\"\"}},\"ternary\":{\"bgcolor\":\"#E5ECF6\",\"aaxis\":{\"gridcolor\":\"white\",\"linecolor\":\"white\",\"ticks\":\"\"},\"baxis\":{\"gridcolor\":\"white\",\"linecolor\":\"white\",\"ticks\":\"\"},\"caxis\":{\"gridcolor\":\"white\",\"linecolor\":\"white\",\"ticks\":\"\"}},\"coloraxis\":{\"colorbar\":{\"outlinewidth\":0,\"ticks\":\"\"}},\"colorscale\":{\"sequential\":[[0.0,\"#0d0887\"],[0.1111111111111111,\"#46039f\"],[0.2222222222222222,\"#7201a8\"],[0.3333333333333333,\"#9c179e\"],[0.4444444444444444,\"#bd3786\"],[0.5555555555555556,\"#d8576b\"],[0.6666666666666666,\"#ed7953\"],[0.7777777777777778,\"#fb9f3a\"],[0.8888888888888888,\"#fdca26\"],[1.0,\"#f0f921\"]],\"sequentialminus\":[[0.0,\"#0d0887\"],[0.1111111111111111,\"#46039f\"],[0.2222222222222222,\"#7201a8\"],[0.3333333333333333,\"#9c179e\"],[0.4444444444444444,\"#bd3786\"],[0.5555555555555556,\"#d8576b\"],[0.6666666666666666,\"#ed7953\"],[0.7777777777777778,\"#fb9f3a\"],[0.8888888888888888,\"#fdca26\"],[1.0,\"#f0f921\"]],\"diverging\":[[0,\"#8e0152\"],[0.1,\"#c51b7d\"],[0.2,\"#de77ae\"],[0.3,\"#f1b6da\"],[0.4,\"#fde0ef\"],[0.5,\"#f7f7f7\"],[0.6,\"#e6f5d0\"],[0.7,\"#b8e186\"],[0.8,\"#7fbc41\"],[0.9,\"#4d9221\"],[1,\"#276419\"]]},\"xaxis\":{\"gridcolor\":\"white\",\"linecolor\":\"white\",\"ticks\":\"\",\"title\":{\"standoff\":15},\"zerolinecolor\":\"white\",\"automargin\":true,\"zerolinewidth\":2},\"yaxis\":{\"gridcolor\":\"white\",\"linecolor\":\"white\",\"ticks\":\"\",\"title\":{\"standoff\":15},\"zerolinecolor\":\"white\",\"automargin\":true,\"zerolinewidth\":2},\"scene\":{\"xaxis\":{\"backgroundcolor\":\"#E5ECF6\",\"gridcolor\":\"white\",\"linecolor\":\"white\",\"showbackground\":true,\"ticks\":\"\",\"zerolinecolor\":\"white\",\"gridwidth\":2},\"yaxis\":{\"backgroundcolor\":\"#E5ECF6\",\"gridcolor\":\"white\",\"linecolor\":\"white\",\"showbackground\":true,\"ticks\":\"\",\"zerolinecolor\":\"white\",\"gridwidth\":2},\"zaxis\":{\"backgroundcolor\":\"#E5ECF6\",\"gridcolor\":\"white\",\"linecolor\":\"white\",\"showbackground\":true,\"ticks\":\"\",\"zerolinecolor\":\"white\",\"gridwidth\":2}},\"shapedefaults\":{\"line\":{\"color\":\"#2a3f5f\"}},\"annotationdefaults\":{\"arrowcolor\":\"#2a3f5f\",\"arrowhead\":0,\"arrowwidth\":1},\"geo\":{\"bgcolor\":\"white\",\"landcolor\":\"#E5ECF6\",\"subunitcolor\":\"white\",\"showland\":true,\"showlakes\":true,\"lakecolor\":\"white\"},\"title\":{\"x\":0.05},\"mapbox\":{\"style\":\"light\"}}},\"title\":{\"font\":{\"size\":18},\"text\":\"\\u003cb\\u003eДинамика параметров ЭЭГ перед приступом (20сек окна)\\u003c\\u002fb\\u003e\\u003cbr\\u003eСиний - мощность, Красный - дисперсия\\u003cbr\\u003eЗеленый → прямые связи, Оранжевый ← обратные\"},\"font\":{\"size\":14},\"height\":700,\"width\":1000,\"plot_bgcolor\":\"white\",\"annotations\":[{\"showarrow\":false,\"text\":\"Ось X показывает время до начала приступа (0 сек - момент приступа)\",\"x\":0.5,\"xref\":\"paper\",\"y\":-0.15,\"yref\":\"paper\"}]},                        {\"responsive\": true}                    ).then(function(){\n",
              "                            \n",
              "var gd = document.getElementById('c17ce3b3-dd40-4b65-86c4-ac1fc7f8e026');\n",
              "var x = new MutationObserver(function (mutations, observer) {{\n",
              "        var display = window.getComputedStyle(gd).display;\n",
              "        if (!display || display === 'none') {{\n",
              "            console.log([gd, 'removed!']);\n",
              "            Plotly.purge(gd);\n",
              "            observer.disconnect();\n",
              "        }}\n",
              "}});\n",
              "\n",
              "// Listen for the removal of the full notebook cells\n",
              "var notebookContainer = gd.closest('#notebook-container');\n",
              "if (notebookContainer) {{\n",
              "    x.observe(notebookContainer, {childList: true});\n",
              "}}\n",
              "\n",
              "// Listen for the clearing of the current output cell\n",
              "var outputEl = gd.closest('.output');\n",
              "if (outputEl) {{\n",
              "    x.observe(outputEl, {childList: true});\n",
              "}}\n",
              "\n",
              "                        })                };                            </script>        </div>\n",
              "</body>\n",
              "</html>"
            ]
          },
          "metadata": {}
        }
      ]
    },
    {
      "cell_type": "markdown",
      "source": [
        "# One Sankey Diagramm for Power and Variance"
      ],
      "metadata": {
        "id": "c4Qsyo85ieta"
      },
      "id": "c4Qsyo85ieta"
    },
    {
      "cell_type": "code",
      "source": [
        "# Параметры\n",
        "window_size = 20  # размер окна в секундах\n",
        "fs = 256  # частота дискретизации\n",
        "n_windows = 7  # 120 секунд / 10 секунд\n",
        "\n",
        "# Инициализация массивов для хранения данных\n",
        "all_power = []\n",
        "all_variance = []\n",
        "all_times = []"
      ],
      "metadata": {
        "id": "_DpYwcELjQ_f"
      },
      "id": "_DpYwcELjQ_f",
      "execution_count": 13,
      "outputs": []
    },
    {
      "cell_type": "code",
      "source": [
        "# Создаем узлы (каждое окно представлено двумя узлами: мощность и дисперсия)\n",
        "nodes = {\n",
        "    'label': [f'Окно {i+1} Мощность' for i in range(n_windows)] +\n",
        "            [f'Окно {i+1} Дисперсия' for i in range(n_windows)],\n",
        "    'color': ['blue'] * n_windows + ['red'] * n_windows\n",
        "}\n",
        "\n",
        "# Создаем связи между узлами\n",
        "links = {\n",
        "    'source': [],  # индексы источников (узлов)\n",
        "    'target': [],  # индексы целей (узлов)\n",
        "    'value': []    # значения потоков\n",
        "}\n",
        "\n",
        "# Связи между окнами мощности\n",
        "links['source'] = list(range(n_windows - 1))\n",
        "links['target'] = list(range(1, n_windows))\n",
        "\n",
        "\n",
        "# Проверка исходных данных перед построением\n",
        "print(\"Проверка данных:\")\n",
        "print(f\"Средняя мощность по окнам: {mean_power}\")\n",
        "print(f\"Средняя дисперсия по окнам: {mean_variance}\")\n",
        "print(f\"Сумма мощностей: {np.sum(mean_power):.15f}\")\n",
        "print(f\"Сумма дисперсий: {np.sum(mean_variance):.15f}\")"
      ],
      "metadata": {
        "colab": {
          "base_uri": "https://localhost:8080/"
        },
        "id": "RQBTaXItijqN",
        "outputId": "70a2a5a5-93c6-4d0d-8558-99e97bc8408b"
      },
      "id": "RQBTaXItijqN",
      "execution_count": 14,
      "outputs": [
        {
          "output_type": "stream",
          "name": "stdout",
          "text": [
            "Проверка данных:\n",
            "Средняя мощность по окнам: [2.2115153656029319e-16, 8.874602105051162e-16, 5.153487674354714e-16, 1.5267962940963844e-17, 2.546819058345409e-16, 3.7303972385223775e-16]\n",
            "Средняя дисперсия по окнам: [2.94230489e-10, 2.73464515e-10, 2.57522813e-10, 2.90793371e-10, 2.62333203e-10, 2.61792757e-10]\n",
            "Сумма мощностей: 0.000000000000002\n",
            "Сумма дисперсий: 0.000000001640137\n"
          ]
        }
      ]
    },
    {
      "cell_type": "code",
      "source": [
        "    # Обновляем значения связей\n",
        "    #links['value'] = list(power_norm[:-1]) + list(variance_norm[:-1])\n",
        "    links['value'] = list(power_norm)\n",
        "\n",
        "    # Красивый желтый цвет для всех связей\n",
        "    link_colors = ['rgba(255, 215, 0, 0.8)'] * len(links['source'])\n",
        "\n",
        "    # Создаем временные метки от 120 до 0 секунд с шагом window_size\n",
        "    time_labels = [f\"{120 - i*window_size} сек\" for i in range(n_windows)]\n",
        "\n",
        "    # Обновляем метки узлов\n",
        "    nodes['label'] = [f\"{t} Мощность\" for t in time_labels] + [f\"{t} Дисперсия\" for t in time_labels]"
      ],
      "metadata": {
        "id": "_U9UoAMyiSna"
      },
      "id": "_U9UoAMyiSna",
      "execution_count": 15,
      "outputs": []
    },
    {
      "cell_type": "code",
      "source": [
        "list(variance_norm)"
      ],
      "metadata": {
        "colab": {
          "base_uri": "https://localhost:8080/"
        },
        "id": "IiW66ipVpAEq",
        "outputId": "afaa7f54-d584-49b3-b864-ce33e9d440a5"
      },
      "id": "IiW66ipVpAEq",
      "execution_count": 29,
      "outputs": [
        {
          "output_type": "execute_result",
          "data": {
            "text/plain": [
              "[np.float64(1.0),\n",
              " np.float64(0.434287967454001),\n",
              " np.float64(0.1),\n",
              " np.float64(0.9063651428110024),\n",
              " np.float64(0.13104588805894404),\n",
              " np.float64(0.11632291839995525)]"
            ]
          },
          "metadata": {},
          "execution_count": 29
        }
      ]
    },
    {
      "cell_type": "code",
      "source": [
        "all_links"
      ],
      "metadata": {
        "colab": {
          "base_uri": "https://localhost:8080/"
        },
        "id": "VdGwNGjnpO9K",
        "outputId": "009f0860-6c8d-4edf-9019-06d3f9e760ac"
      },
      "id": "VdGwNGjnpO9K",
      "execution_count": 30,
      "outputs": [
        {
          "output_type": "execute_result",
          "data": {
            "text/plain": [
              "{'source': [0, 1, 2, 3, 4, 5, 6, 5, 4, 3, 2, 1],\n",
              " 'target': [1, 2, 3, 4, 5, 6, 5, 4, 3, 2, 1, 0],\n",
              " 'value': [np.float64(0.2360529736354782),\n",
              "  np.float64(1.0),\n",
              "  np.float64(0.5733607537685952),\n",
              "  np.float64(0.1),\n",
              "  np.float64(0.27449675637705945),\n",
              "  np.float64(0.4101982812968751),\n",
              "  np.float64(1.0),\n",
              "  np.float64(0.434287967454001),\n",
              "  np.float64(0.1),\n",
              "  np.float64(0.9063651428110024),\n",
              "  np.float64(0.13104588805894404),\n",
              "  np.float64(0.11632291839995525)]}"
            ]
          },
          "metadata": {},
          "execution_count": 30
        }
      ]
    },
    {
      "cell_type": "code",
      "source": [
        "\n",
        "    # Добавляем обратные связи\n",
        "    reverse_links = {\n",
        "        #'source': links['target'][:-1],  # Берем все узлы, кроме последнего (чтобы не выйти за границы)\n",
        "        #'target': links['source'][:-1],\n",
        "        #'value': links['value'][:-1]   # Уменьшаем вес обратных связей для наглядности\n",
        "        'source': links['target'][::-1],  # Берем все узлы, кроме последнего (чтобы не выйти за границы)\n",
        "        'target': links['source'][::-1],\n",
        "        'value': list(variance_norm)[::-1]   # Уменьшаем вес обратных связей для наглядности\n",
        "    }\n",
        "\n",
        "    # Объединяем прямые и обратные связи\n",
        "    all_links = {\n",
        "        'source': links['source'] + reverse_links['source'],\n",
        "        'target': links['target'] + reverse_links['target'],\n",
        "        'value': links['value'] + reverse_links['value']\n",
        "    }\n",
        "\n",
        "    # Разные цвета для прямых и обратных связей\n",
        "    link_colors = (\n",
        "        ['rgba(0, 255, 0, 0.6)'] * len(links['source']) +  # Зеленый для прямых связей\n",
        "        ['rgba(255, 165, 0, 0.4)'] * len(reverse_links['source'])  # Оранжевый для обратных\n",
        "    )\n",
        "\n",
        "    fig = go.Figure(go.Sankey(\n",
        "        node=dict(\n",
        "            pad=20,\n",
        "            thickness=20,\n",
        "            line=dict(color=\"black\", width=1),\n",
        "            label=nodes['label'],\n",
        "            color=nodes['color'],\n",
        "            x=[i/(n_windows-1) for i in range(n_windows)],\n",
        "            y=[0.5]*n_windows\n",
        "        ),\n",
        "        link=dict(\n",
        "            source=all_links['source'],\n",
        "            target=all_links['target'],\n",
        "            value=all_links['value'],\n",
        "            color=link_colors,\n",
        "            hoverinfo='all',\n",
        "            hovertemplate='<b>%{source.label}</b> → <b>%{target.label}</b><br>Интенсивность: %{value:.2f}<extra></extra>'\n",
        "        ),\n",
        "        arrangement='freeform'\n",
        "    ))\n",
        "\n",
        "    fig.update_layout(\n",
        "        title_text=f\"<b>Динамика параметров ЭЭГ перед приступом ({window_size}сек окна)</b><br>\"\n",
        "                   \"Синий - временная точка до приступа<br>\"\n",
        "                   \"Зеленый → прямые связи, показыают мощность, Оранжевый ← показывают дисперсию\",\n",
        "        title_font_size=18,\n",
        "        font=dict(size=14),\n",
        "        height=700,\n",
        "        width=1000,\n",
        "        plot_bgcolor='white',\n",
        "        annotations=[\n",
        "            dict(\n",
        "                x=0.5,\n",
        "                y=-0.15,\n",
        "                showarrow=False,\n",
        "                text=\"Ось X показывает время до начала приступа (0 сек - момент приступа)\",\n",
        "                xref=\"paper\",\n",
        "                yref=\"paper\"\n",
        "            )\n",
        "        ]\n",
        "    )\n",
        "\n",
        "    fig.show()\n",
        "\n",
        ""
      ],
      "metadata": {
        "colab": {
          "base_uri": "https://localhost:8080/",
          "height": 717
        },
        "id": "eo94cHtHepMr",
        "outputId": "fc6c909d-0da8-463f-cb6f-c37a5dcaf641"
      },
      "id": "eo94cHtHepMr",
      "execution_count": 31,
      "outputs": [
        {
          "output_type": "display_data",
          "data": {
            "text/html": [
              "<html>\n",
              "<head><meta charset=\"utf-8\" /></head>\n",
              "<body>\n",
              "    <div>            <script src=\"https://cdnjs.cloudflare.com/ajax/libs/mathjax/2.7.5/MathJax.js?config=TeX-AMS-MML_SVG\"></script><script type=\"text/javascript\">if (window.MathJax && window.MathJax.Hub && window.MathJax.Hub.Config) {window.MathJax.Hub.Config({SVG: {font: \"STIX-Web\"}});}</script>                <script type=\"text/javascript\">window.PlotlyConfig = {MathJaxConfig: 'local'};</script>\n",
              "        <script charset=\"utf-8\" src=\"https://cdn.plot.ly/plotly-2.35.2.min.js\"></script>                <div id=\"d4b3dcbb-9e16-4b55-9589-6b8f38b9ec2c\" class=\"plotly-graph-div\" style=\"height:700px; width:1000px;\"></div>            <script type=\"text/javascript\">                                    window.PLOTLYENV=window.PLOTLYENV || {};                                    if (document.getElementById(\"d4b3dcbb-9e16-4b55-9589-6b8f38b9ec2c\")) {                    Plotly.newPlot(                        \"d4b3dcbb-9e16-4b55-9589-6b8f38b9ec2c\",                        [{\"arrangement\":\"freeform\",\"link\":{\"color\":[\"rgba(0, 255, 0, 0.6)\",\"rgba(0, 255, 0, 0.6)\",\"rgba(0, 255, 0, 0.6)\",\"rgba(0, 255, 0, 0.6)\",\"rgba(0, 255, 0, 0.6)\",\"rgba(0, 255, 0, 0.6)\",\"rgba(255, 165, 0, 0.4)\",\"rgba(255, 165, 0, 0.4)\",\"rgba(255, 165, 0, 0.4)\",\"rgba(255, 165, 0, 0.4)\",\"rgba(255, 165, 0, 0.4)\",\"rgba(255, 165, 0, 0.4)\"],\"hoverinfo\":\"all\",\"hovertemplate\":\"\\u003cb\\u003e%{source.label}\\u003c\\u002fb\\u003e → \\u003cb\\u003e%{target.label}\\u003c\\u002fb\\u003e\\u003cbr\\u003eИнтенсивность: %{value:.2f}\\u003cextra\\u003e\\u003c\\u002fextra\\u003e\",\"source\":[0,1,2,3,4,5,6,5,4,3,2,1],\"target\":[1,2,3,4,5,6,5,4,3,2,1,0],\"value\":[0.2360529736354782,1.0,0.5733607537685952,0.1,0.27449675637705945,0.4101982812968751,0.11632291839995525,0.13104588805894404,0.9063651428110024,0.1,0.434287967454001,1.0]},\"node\":{\"color\":[\"blue\",\"blue\",\"blue\",\"blue\",\"blue\",\"blue\",\"blue\",\"red\",\"red\",\"red\",\"red\",\"red\",\"red\",\"red\"],\"label\":[\"120 сек Мощность\",\"100 сек Мощность\",\"80 сек Мощность\",\"60 сек Мощность\",\"40 сек Мощность\",\"20 сек Мощность\",\"0 сек Мощность\",\"120 сек Дисперсия\",\"100 сек Дисперсия\",\"80 сек Дисперсия\",\"60 сек Дисперсия\",\"40 сек Дисперсия\",\"20 сек Дисперсия\",\"0 сек Дисперсия\"],\"line\":{\"color\":\"black\",\"width\":1},\"pad\":20,\"thickness\":20,\"x\":[0.0,0.16666666666666666,0.3333333333333333,0.5,0.6666666666666666,0.8333333333333334,1.0],\"y\":[0.5,0.5,0.5,0.5,0.5,0.5,0.5]},\"type\":\"sankey\"}],                        {\"template\":{\"data\":{\"histogram2dcontour\":[{\"type\":\"histogram2dcontour\",\"colorbar\":{\"outlinewidth\":0,\"ticks\":\"\"},\"colorscale\":[[0.0,\"#0d0887\"],[0.1111111111111111,\"#46039f\"],[0.2222222222222222,\"#7201a8\"],[0.3333333333333333,\"#9c179e\"],[0.4444444444444444,\"#bd3786\"],[0.5555555555555556,\"#d8576b\"],[0.6666666666666666,\"#ed7953\"],[0.7777777777777778,\"#fb9f3a\"],[0.8888888888888888,\"#fdca26\"],[1.0,\"#f0f921\"]]}],\"choropleth\":[{\"type\":\"choropleth\",\"colorbar\":{\"outlinewidth\":0,\"ticks\":\"\"}}],\"histogram2d\":[{\"type\":\"histogram2d\",\"colorbar\":{\"outlinewidth\":0,\"ticks\":\"\"},\"colorscale\":[[0.0,\"#0d0887\"],[0.1111111111111111,\"#46039f\"],[0.2222222222222222,\"#7201a8\"],[0.3333333333333333,\"#9c179e\"],[0.4444444444444444,\"#bd3786\"],[0.5555555555555556,\"#d8576b\"],[0.6666666666666666,\"#ed7953\"],[0.7777777777777778,\"#fb9f3a\"],[0.8888888888888888,\"#fdca26\"],[1.0,\"#f0f921\"]]}],\"heatmap\":[{\"type\":\"heatmap\",\"colorbar\":{\"outlinewidth\":0,\"ticks\":\"\"},\"colorscale\":[[0.0,\"#0d0887\"],[0.1111111111111111,\"#46039f\"],[0.2222222222222222,\"#7201a8\"],[0.3333333333333333,\"#9c179e\"],[0.4444444444444444,\"#bd3786\"],[0.5555555555555556,\"#d8576b\"],[0.6666666666666666,\"#ed7953\"],[0.7777777777777778,\"#fb9f3a\"],[0.8888888888888888,\"#fdca26\"],[1.0,\"#f0f921\"]]}],\"heatmapgl\":[{\"type\":\"heatmapgl\",\"colorbar\":{\"outlinewidth\":0,\"ticks\":\"\"},\"colorscale\":[[0.0,\"#0d0887\"],[0.1111111111111111,\"#46039f\"],[0.2222222222222222,\"#7201a8\"],[0.3333333333333333,\"#9c179e\"],[0.4444444444444444,\"#bd3786\"],[0.5555555555555556,\"#d8576b\"],[0.6666666666666666,\"#ed7953\"],[0.7777777777777778,\"#fb9f3a\"],[0.8888888888888888,\"#fdca26\"],[1.0,\"#f0f921\"]]}],\"contourcarpet\":[{\"type\":\"contourcarpet\",\"colorbar\":{\"outlinewidth\":0,\"ticks\":\"\"}}],\"contour\":[{\"type\":\"contour\",\"colorbar\":{\"outlinewidth\":0,\"ticks\":\"\"},\"colorscale\":[[0.0,\"#0d0887\"],[0.1111111111111111,\"#46039f\"],[0.2222222222222222,\"#7201a8\"],[0.3333333333333333,\"#9c179e\"],[0.4444444444444444,\"#bd3786\"],[0.5555555555555556,\"#d8576b\"],[0.6666666666666666,\"#ed7953\"],[0.7777777777777778,\"#fb9f3a\"],[0.8888888888888888,\"#fdca26\"],[1.0,\"#f0f921\"]]}],\"surface\":[{\"type\":\"surface\",\"colorbar\":{\"outlinewidth\":0,\"ticks\":\"\"},\"colorscale\":[[0.0,\"#0d0887\"],[0.1111111111111111,\"#46039f\"],[0.2222222222222222,\"#7201a8\"],[0.3333333333333333,\"#9c179e\"],[0.4444444444444444,\"#bd3786\"],[0.5555555555555556,\"#d8576b\"],[0.6666666666666666,\"#ed7953\"],[0.7777777777777778,\"#fb9f3a\"],[0.8888888888888888,\"#fdca26\"],[1.0,\"#f0f921\"]]}],\"mesh3d\":[{\"type\":\"mesh3d\",\"colorbar\":{\"outlinewidth\":0,\"ticks\":\"\"}}],\"scatter\":[{\"fillpattern\":{\"fillmode\":\"overlay\",\"size\":10,\"solidity\":0.2},\"type\":\"scatter\"}],\"parcoords\":[{\"type\":\"parcoords\",\"line\":{\"colorbar\":{\"outlinewidth\":0,\"ticks\":\"\"}}}],\"scatterpolargl\":[{\"type\":\"scatterpolargl\",\"marker\":{\"colorbar\":{\"outlinewidth\":0,\"ticks\":\"\"}}}],\"bar\":[{\"error_x\":{\"color\":\"#2a3f5f\"},\"error_y\":{\"color\":\"#2a3f5f\"},\"marker\":{\"line\":{\"color\":\"#E5ECF6\",\"width\":0.5},\"pattern\":{\"fillmode\":\"overlay\",\"size\":10,\"solidity\":0.2}},\"type\":\"bar\"}],\"scattergeo\":[{\"type\":\"scattergeo\",\"marker\":{\"colorbar\":{\"outlinewidth\":0,\"ticks\":\"\"}}}],\"scatterpolar\":[{\"type\":\"scatterpolar\",\"marker\":{\"colorbar\":{\"outlinewidth\":0,\"ticks\":\"\"}}}],\"histogram\":[{\"marker\":{\"pattern\":{\"fillmode\":\"overlay\",\"size\":10,\"solidity\":0.2}},\"type\":\"histogram\"}],\"scattergl\":[{\"type\":\"scattergl\",\"marker\":{\"colorbar\":{\"outlinewidth\":0,\"ticks\":\"\"}}}],\"scatter3d\":[{\"type\":\"scatter3d\",\"line\":{\"colorbar\":{\"outlinewidth\":0,\"ticks\":\"\"}},\"marker\":{\"colorbar\":{\"outlinewidth\":0,\"ticks\":\"\"}}}],\"scattermapbox\":[{\"type\":\"scattermapbox\",\"marker\":{\"colorbar\":{\"outlinewidth\":0,\"ticks\":\"\"}}}],\"scatterternary\":[{\"type\":\"scatterternary\",\"marker\":{\"colorbar\":{\"outlinewidth\":0,\"ticks\":\"\"}}}],\"scattercarpet\":[{\"type\":\"scattercarpet\",\"marker\":{\"colorbar\":{\"outlinewidth\":0,\"ticks\":\"\"}}}],\"carpet\":[{\"aaxis\":{\"endlinecolor\":\"#2a3f5f\",\"gridcolor\":\"white\",\"linecolor\":\"white\",\"minorgridcolor\":\"white\",\"startlinecolor\":\"#2a3f5f\"},\"baxis\":{\"endlinecolor\":\"#2a3f5f\",\"gridcolor\":\"white\",\"linecolor\":\"white\",\"minorgridcolor\":\"white\",\"startlinecolor\":\"#2a3f5f\"},\"type\":\"carpet\"}],\"table\":[{\"cells\":{\"fill\":{\"color\":\"#EBF0F8\"},\"line\":{\"color\":\"white\"}},\"header\":{\"fill\":{\"color\":\"#C8D4E3\"},\"line\":{\"color\":\"white\"}},\"type\":\"table\"}],\"barpolar\":[{\"marker\":{\"line\":{\"color\":\"#E5ECF6\",\"width\":0.5},\"pattern\":{\"fillmode\":\"overlay\",\"size\":10,\"solidity\":0.2}},\"type\":\"barpolar\"}],\"pie\":[{\"automargin\":true,\"type\":\"pie\"}]},\"layout\":{\"autotypenumbers\":\"strict\",\"colorway\":[\"#636efa\",\"#EF553B\",\"#00cc96\",\"#ab63fa\",\"#FFA15A\",\"#19d3f3\",\"#FF6692\",\"#B6E880\",\"#FF97FF\",\"#FECB52\"],\"font\":{\"color\":\"#2a3f5f\"},\"hovermode\":\"closest\",\"hoverlabel\":{\"align\":\"left\"},\"paper_bgcolor\":\"white\",\"plot_bgcolor\":\"#E5ECF6\",\"polar\":{\"bgcolor\":\"#E5ECF6\",\"angularaxis\":{\"gridcolor\":\"white\",\"linecolor\":\"white\",\"ticks\":\"\"},\"radialaxis\":{\"gridcolor\":\"white\",\"linecolor\":\"white\",\"ticks\":\"\"}},\"ternary\":{\"bgcolor\":\"#E5ECF6\",\"aaxis\":{\"gridcolor\":\"white\",\"linecolor\":\"white\",\"ticks\":\"\"},\"baxis\":{\"gridcolor\":\"white\",\"linecolor\":\"white\",\"ticks\":\"\"},\"caxis\":{\"gridcolor\":\"white\",\"linecolor\":\"white\",\"ticks\":\"\"}},\"coloraxis\":{\"colorbar\":{\"outlinewidth\":0,\"ticks\":\"\"}},\"colorscale\":{\"sequential\":[[0.0,\"#0d0887\"],[0.1111111111111111,\"#46039f\"],[0.2222222222222222,\"#7201a8\"],[0.3333333333333333,\"#9c179e\"],[0.4444444444444444,\"#bd3786\"],[0.5555555555555556,\"#d8576b\"],[0.6666666666666666,\"#ed7953\"],[0.7777777777777778,\"#fb9f3a\"],[0.8888888888888888,\"#fdca26\"],[1.0,\"#f0f921\"]],\"sequentialminus\":[[0.0,\"#0d0887\"],[0.1111111111111111,\"#46039f\"],[0.2222222222222222,\"#7201a8\"],[0.3333333333333333,\"#9c179e\"],[0.4444444444444444,\"#bd3786\"],[0.5555555555555556,\"#d8576b\"],[0.6666666666666666,\"#ed7953\"],[0.7777777777777778,\"#fb9f3a\"],[0.8888888888888888,\"#fdca26\"],[1.0,\"#f0f921\"]],\"diverging\":[[0,\"#8e0152\"],[0.1,\"#c51b7d\"],[0.2,\"#de77ae\"],[0.3,\"#f1b6da\"],[0.4,\"#fde0ef\"],[0.5,\"#f7f7f7\"],[0.6,\"#e6f5d0\"],[0.7,\"#b8e186\"],[0.8,\"#7fbc41\"],[0.9,\"#4d9221\"],[1,\"#276419\"]]},\"xaxis\":{\"gridcolor\":\"white\",\"linecolor\":\"white\",\"ticks\":\"\",\"title\":{\"standoff\":15},\"zerolinecolor\":\"white\",\"automargin\":true,\"zerolinewidth\":2},\"yaxis\":{\"gridcolor\":\"white\",\"linecolor\":\"white\",\"ticks\":\"\",\"title\":{\"standoff\":15},\"zerolinecolor\":\"white\",\"automargin\":true,\"zerolinewidth\":2},\"scene\":{\"xaxis\":{\"backgroundcolor\":\"#E5ECF6\",\"gridcolor\":\"white\",\"linecolor\":\"white\",\"showbackground\":true,\"ticks\":\"\",\"zerolinecolor\":\"white\",\"gridwidth\":2},\"yaxis\":{\"backgroundcolor\":\"#E5ECF6\",\"gridcolor\":\"white\",\"linecolor\":\"white\",\"showbackground\":true,\"ticks\":\"\",\"zerolinecolor\":\"white\",\"gridwidth\":2},\"zaxis\":{\"backgroundcolor\":\"#E5ECF6\",\"gridcolor\":\"white\",\"linecolor\":\"white\",\"showbackground\":true,\"ticks\":\"\",\"zerolinecolor\":\"white\",\"gridwidth\":2}},\"shapedefaults\":{\"line\":{\"color\":\"#2a3f5f\"}},\"annotationdefaults\":{\"arrowcolor\":\"#2a3f5f\",\"arrowhead\":0,\"arrowwidth\":1},\"geo\":{\"bgcolor\":\"white\",\"landcolor\":\"#E5ECF6\",\"subunitcolor\":\"white\",\"showland\":true,\"showlakes\":true,\"lakecolor\":\"white\"},\"title\":{\"x\":0.05},\"mapbox\":{\"style\":\"light\"}}},\"title\":{\"font\":{\"size\":18},\"text\":\"\\u003cb\\u003eДинамика параметров ЭЭГ перед приступом (20сек окна)\\u003c\\u002fb\\u003e\\u003cbr\\u003eСиний - временная точка до приступа\\u003cbr\\u003eЗеленый → прямые связи, показыают мощность, Оранжевый ← показывают дисперсию\"},\"font\":{\"size\":14},\"height\":700,\"width\":1000,\"plot_bgcolor\":\"white\",\"annotations\":[{\"showarrow\":false,\"text\":\"Ось X показывает время до начала приступа (0 сек - момент приступа)\",\"x\":0.5,\"xref\":\"paper\",\"y\":-0.15,\"yref\":\"paper\"}]},                        {\"responsive\": true}                    ).then(function(){\n",
              "                            \n",
              "var gd = document.getElementById('d4b3dcbb-9e16-4b55-9589-6b8f38b9ec2c');\n",
              "var x = new MutationObserver(function (mutations, observer) {{\n",
              "        var display = window.getComputedStyle(gd).display;\n",
              "        if (!display || display === 'none') {{\n",
              "            console.log([gd, 'removed!']);\n",
              "            Plotly.purge(gd);\n",
              "            observer.disconnect();\n",
              "        }}\n",
              "}});\n",
              "\n",
              "// Listen for the removal of the full notebook cells\n",
              "var notebookContainer = gd.closest('#notebook-container');\n",
              "if (notebookContainer) {{\n",
              "    x.observe(notebookContainer, {childList: true});\n",
              "}}\n",
              "\n",
              "// Listen for the clearing of the current output cell\n",
              "var outputEl = gd.closest('.output');\n",
              "if (outputEl) {{\n",
              "    x.observe(outputEl, {childList: true});\n",
              "}}\n",
              "\n",
              "                        })                };                            </script>        </div>\n",
              "</body>\n",
              "</html>"
            ]
          },
          "metadata": {}
        }
      ]
    },
    {
      "cell_type": "code",
      "source": [],
      "metadata": {
        "id": "WLOyybduohmt"
      },
      "id": "WLOyybduohmt",
      "execution_count": null,
      "outputs": []
    }
  ],
  "metadata": {
    "kernelspec": {
      "display_name": "Python 3",
      "language": "python",
      "name": "python3"
    },
    "language_info": {
      "codemirror_mode": {
        "name": "ipython",
        "version": 3
      },
      "file_extension": ".py",
      "mimetype": "text/x-python",
      "name": "python",
      "nbconvert_exporter": "python",
      "pygments_lexer": "ipython3",
      "version": "3.8.5"
    },
    "colab": {
      "provenance": [],
      "include_colab_link": true
    }
  },
  "nbformat": 4,
  "nbformat_minor": 5
}