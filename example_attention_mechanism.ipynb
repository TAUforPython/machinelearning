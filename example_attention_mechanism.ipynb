{
  "cells": [
    {
      "cell_type": "markdown",
      "metadata": {
        "id": "view-in-github",
        "colab_type": "text"
      },
      "source": [
        "<a href=\"https://colab.research.google.com/github/TAUforPython/machinelearning/blob/main/example_attention_mechanism.ipynb\" target=\"_parent\"><img src=\"https://colab.research.google.com/assets/colab-badge.svg\" alt=\"Open In Colab\"/></a>"
      ]
    },
    {
      "cell_type": "markdown",
      "metadata": {
        "id": "4S7r_rnZtypL"
      },
      "source": [
        "# Example of Attention mechanism"
      ]
    },
    {
      "cell_type": "code",
      "execution_count": 12,
      "metadata": {
        "id": "rEAYT7f6typN"
      },
      "outputs": [],
      "source": [
        "# basic\n",
        "import math\n",
        "\n",
        "# PyTorch\n",
        "import torch\n",
        "import torch.nn.functional as F\n",
        "\n",
        "# visualisation\n",
        "import matplotlib.pyplot as plt\n",
        "import seaborn as sns"
      ]
    },
    {
      "cell_type": "code",
      "execution_count": 2,
      "metadata": {
        "id": "GSAkM899typO"
      },
      "outputs": [],
      "source": [
        "# random tensors function from https://rockt.github.io/2018/04/30/einsum\n",
        "def random_tensors(shape, num=1, requires_grad=False):\n",
        "    tensors = [torch.randn(shape, requires_grad=requires_grad) for i in range(0,num)]\n",
        "    return tensors[0] if num == 1 else tensors"
      ]
    },
    {
      "cell_type": "code",
      "source": [
        "Y = {\n",
        "     \"apple\": 9,\n",
        "     \"banana\": 5,\n",
        "     \"chair\": 2,\n",
        "     }\n",
        "print(Y.keys())\n",
        "print(Y.values())\n",
        "\n",
        "query = \"apple\"\n",
        "print(Y[query])"
      ],
      "metadata": {
        "colab": {
          "base_uri": "https://localhost:8080/"
        },
        "id": "ls0-6CxWR0bK",
        "outputId": "0e3da8ae-a995-4e89-e7b9-ed2e44f21de2"
      },
      "execution_count": 276,
      "outputs": [
        {
          "output_type": "stream",
          "name": "stdout",
          "text": [
            "dict_keys(['apple', 'banana', 'chair'])\n",
            "dict_values([9, 5, 2])\n",
            "9\n"
          ]
        }
      ]
    },
    {
      "cell_type": "markdown",
      "source": [
        "For example, say we assign a 60% meaning based match for apple, a 40% match for banana, and 0% match for chair. We compute our final output value as the weighted sum of the values with the percentages:"
      ],
      "metadata": {
        "id": "SVI4bJxgSjbW"
      }
    },
    {
      "cell_type": "code",
      "source": [
        "query = \"fruit\"\n",
        "Y_attn = 0.6 * Y[\"apple\"] + 0.4 * Y[\"banana\"] + 0.0 * Y[\"chair\"]\n",
        "print(Y_attn)"
      ],
      "metadata": {
        "colab": {
          "base_uri": "https://localhost:8080/"
        },
        "id": "kep4UhO0SUBT",
        "outputId": "02778c57-9d06-4efa-aa5e-d57125e35b58"
      },
      "execution_count": 278,
      "outputs": [
        {
          "output_type": "stream",
          "name": "stdout",
          "text": [
            "7.3999999999999995\n"
          ]
        }
      ]
    },
    {
      "cell_type": "markdown",
      "metadata": {
        "id": "25LNeloKtypO"
      },
      "source": [
        "## Attention function"
      ]
    },
    {
      "cell_type": "markdown",
      "source": [
        "Query (Q): Represents the word you’re focusing on.\n",
        "\n",
        "Key (K): Represents every other word in the sentence, helping the model decide which ones are important.\n",
        "\n",
        "Value (V): Contains the actual information that the model will focus on."
      ],
      "metadata": {
        "id": "6UJpOKnxKyRA"
      }
    },
    {
      "cell_type": "code",
      "execution_count": 327,
      "metadata": {
        "colab": {
          "base_uri": "https://localhost:8080/"
        },
        "id": "snicNc3ytypO",
        "outputId": "17c088bf-9f94-495b-f436-630f2e6b0a63"
      },
      "outputs": [
        {
          "output_type": "stream",
          "name": "stdout",
          "text": [
            "tensor([[0., 0., 2.]])\n",
            "tensor([[1., 0., 0.],\n",
            "        [0., 0., 1.],\n",
            "        [0., 0., 1.]])\n"
          ]
        }
      ],
      "source": [
        "# dimensions = batch size x sequence length x embedding dimension\n",
        "#Y = random_tensors([3, 2, 4])\n",
        "\n",
        "#Y = [[1, 2, 3], [4, 5, 6], [7, 8, 9]]\n",
        "\n",
        "#Q = [[2., 0., 0.],[2., 0., 0.],[2., 0., 0.]]\n",
        "\n",
        "K = [[1., 0., 0.],[0., 0., 1.],[0., 0., 1.]]\n",
        "V = [[9., 5., 2.],[5., 5., 5.],[2., 2., 2.]]\n",
        "Q = [[0., 0., 2.]]\n",
        "\n",
        "#K = [[0., 1., 0.]]\n",
        "#V = [[9., 5., 2.]]\n",
        "\n",
        "Q = torch.tensor(Q)\n",
        "K = torch.tensor(K)\n",
        "V = torch.tensor(V)\n",
        "print(Q)\n",
        "print(K)"
      ]
    },
    {
      "cell_type": "code",
      "source": [
        "print(torch.transpose(K,0,1))"
      ],
      "metadata": {
        "colab": {
          "base_uri": "https://localhost:8080/"
        },
        "id": "adj-rZ_c1Byy",
        "outputId": "e62e2636-985d-4bd0-9377-f9c92f28cb96"
      },
      "execution_count": 241,
      "outputs": [
        {
          "output_type": "stream",
          "name": "stdout",
          "text": [
            "tensor([[1., 4., 7.],\n",
            "        [2., 5., 8.],\n",
            "        [3., 6., 9.]])\n"
          ]
        }
      ]
    },
    {
      "cell_type": "code",
      "source": [
        "scores = torch.matmul(Q, torch.transpose(K,0,1)) / math.sqrt(Q.size(-1))\n",
        "print(scores)\n",
        "p_attn = F.softmax(scores, dim = -1)\n",
        "print(p_attn)\n",
        "print(torch.matmul(p_attn, V))"
      ],
      "metadata": {
        "colab": {
          "base_uri": "https://localhost:8080/"
        },
        "id": "dGoYHBD1zl_W",
        "outputId": "9d550f55-2162-41ac-d9dd-65e610c8a6c1"
      },
      "execution_count": 311,
      "outputs": [
        {
          "output_type": "stream",
          "name": "stdout",
          "text": [
            "tensor([[4.6188, 0.0000, 0.0000]])\n",
            "tensor([[0.9807, 0.0097, 0.0097]])\n",
            "tensor([[8.8936, 4.9710, 2.0290]])\n"
          ]
        }
      ]
    },
    {
      "cell_type": "code",
      "execution_count": 226,
      "metadata": {
        "id": "R4ZCeslptypP"
      },
      "outputs": [],
      "source": [
        "# attention function based on http://nlp.seas.harvard.edu/2018/04/03/attention.html#attention\n",
        "def attention_transf(query, key, value):\n",
        "    \"Compute 'Scaled Dot Product Attention'\"\n",
        "\n",
        "    # scaling factor for scores\n",
        "    d_k = query.size(-1)\n",
        "\n",
        "    # matrix multiplication to get every dot product for query and transposed key\n",
        "    scores = torch.matmul(query, key.transpose(-2, -1)) / math.sqrt(d_k)\n",
        "    #scores = torch.matmul(query, torch.transpose(key,0,1)) / math.sqrt(d_k)\n",
        "\n",
        "    # apply softmax of the scores on the last dimensions (= sequence length)\n",
        "    p_attn = F.softmax(scores, dim = -1)\n",
        "\n",
        "    # matrix multiplication of attention matrix and value matrix to get output based\n",
        "    out = torch.matmul(p_attn, value)\n",
        "\n",
        "    return out, p_attn"
      ]
    },
    {
      "cell_type": "code",
      "execution_count": 328,
      "metadata": {
        "id": "5RU3CkZ-typP"
      },
      "outputs": [],
      "source": [
        "# run Y through attention function\n",
        "#out, p_attn = attention_transf(Y, Y, Y)\n",
        "out, p_attn = attention_transf(Q, K, V)"
      ]
    },
    {
      "cell_type": "code",
      "execution_count": 228,
      "metadata": {
        "colab": {
          "base_uri": "https://localhost:8080/"
        },
        "id": "3YYU94UFtypQ",
        "outputId": "4e6128e2-f2ae-41e5-a8a3-e891c6c99133"
      },
      "outputs": [
        {
          "output_type": "execute_result",
          "data": {
            "text/plain": [
              "(torch.Size([3, 3]), torch.Size([3, 3]), torch.Size([3, 3]))"
            ]
          },
          "metadata": {},
          "execution_count": 228
        }
      ],
      "source": [
        "# print shapes\n",
        "Q.shape, p_attn.shape, out.shape"
      ]
    },
    {
      "cell_type": "markdown",
      "metadata": {
        "id": "m8plMpRTtypQ"
      },
      "source": [
        "## Attention shapes step by step"
      ]
    },
    {
      "cell_type": "markdown",
      "metadata": {
        "id": "j2mW_Y3CtypS"
      },
      "source": [
        "### Softmax dimension in attention matrix"
      ]
    },
    {
      "cell_type": "code",
      "execution_count": 318,
      "metadata": {
        "colab": {
          "base_uri": "https://localhost:8080/"
        },
        "id": "f_nPerjNtypS",
        "outputId": "13f7956c-5a16-4f36-ea1d-e93a718abcbf"
      },
      "outputs": [
        {
          "output_type": "stream",
          "name": "stdout",
          "text": [
            "tensor([[0.6134, 0.1933, 0.1933]])\n"
          ]
        }
      ],
      "source": [
        "# check attention matrix shape\n",
        "p_attn.shape\n",
        "print(p_attn)"
      ]
    },
    {
      "cell_type": "code",
      "execution_count": 264,
      "metadata": {
        "colab": {
          "base_uri": "https://localhost:8080/"
        },
        "id": "CE28YnsOtypT",
        "outputId": "8b415823-4f0f-47d3-dbb7-1f8372650fe5"
      },
      "outputs": [
        {
          "output_type": "execute_result",
          "data": {
            "text/plain": [
              "tensor(0.0259)"
            ]
          },
          "metadata": {},
          "execution_count": 264
        }
      ],
      "source": [
        "# print first attention vector = dimension of softmax\n",
        "p_attn[0,0]"
      ]
    },
    {
      "cell_type": "code",
      "execution_count": 265,
      "metadata": {
        "colab": {
          "base_uri": "https://localhost:8080/"
        },
        "id": "YKHKVckttypT",
        "outputId": "6698e567-1fdb-471e-ad6c-e864e05ee6e1"
      },
      "outputs": [
        {
          "output_type": "execute_result",
          "data": {
            "text/plain": [
              "1.0"
            ]
          },
          "metadata": {},
          "execution_count": 265
        }
      ],
      "source": [
        "# verify that softmax adds up to 1\n",
        "p_attn[0].sum().item()"
      ]
    },
    {
      "cell_type": "code",
      "execution_count": 167,
      "metadata": {
        "colab": {
          "base_uri": "https://localhost:8080/"
        },
        "id": "Oxg5PGxdtypT",
        "outputId": "1bd38a94-e4cf-47a7-d78a-c92381a5cf60"
      },
      "outputs": [
        {
          "output_type": "stream",
          "name": "stdout",
          "text": [
            "[1.]\n"
          ]
        }
      ],
      "source": [
        "# verify that softmax adds up to 1 for every row in the attention matrix\n",
        "#p_attn.sum(dim=2)\n",
        "print(p_attn.sum(dim=1).numpy())"
      ]
    },
    {
      "cell_type": "markdown",
      "metadata": {
        "id": "dQVocmUEtypT"
      },
      "source": [
        "## Visualization"
      ]
    },
    {
      "cell_type": "code",
      "execution_count": 329,
      "metadata": {
        "colab": {
          "base_uri": "https://localhost:8080/",
          "height": 571
        },
        "id": "GQOgpkRmtypU",
        "outputId": "2e37fbfe-efde-47f1-c0ab-098f583e14fb"
      },
      "outputs": [
        {
          "output_type": "stream",
          "name": "stdout",
          "text": [
            "tensor([[0., 0., 2.],\n",
            "        [1., 0., 0.],\n",
            "        [0., 0., 1.],\n",
            "        [0., 0., 1.],\n",
            "        [9., 5., 2.],\n",
            "        [5., 5., 5.],\n",
            "        [2., 2., 2.]])\n"
          ]
        },
        {
          "output_type": "display_data",
          "data": {
            "text/plain": [
              "<Figure size 640x480 with 2 Axes>"
            ],
            "image/png": "[encoded data removed]"
          },
          "metadata": {}
        }
      ],
      "source": [
        "# input\n",
        "Y = torch.cat((Q,K,V),axis=0)\n",
        "print(Y)\n",
        "sns.heatmap(Y.numpy(), annot=True, cmap=sns.light_palette('blue', as_cmap=True), linewidths=1).set_title('Input (= query, key, and value)');"
      ]
    },
    {
      "cell_type": "code",
      "execution_count": 330,
      "metadata": {
        "colab": {
          "base_uri": "https://localhost:8080/",
          "height": 452
        },
        "id": "2QxudOJxtypU",
        "outputId": "417b775d-7dec-4e1d-b90a-2e5791833b0c"
      },
      "outputs": [
        {
          "output_type": "display_data",
          "data": {
            "text/plain": [
              "<Figure size 640x480 with 2 Axes>"
            ],
            "image/png": "[encoded data removed]"
          },
          "metadata": {}
        }
      ],
      "source": [
        "# attention matrix\n",
        "# output\n",
        "x_axis_labels = ['K1', 'K2', 'K3']\n",
        "y_axis_labels = ['Q1', 'Q2', 'Q3']\n",
        "sns.heatmap(p_attn.numpy(), annot=True,\n",
        "            xticklabels=x_axis_labels,\n",
        "            yticklabels=y_axis_labels,\n",
        "            cmap=sns.light_palette(\"orange\", as_cmap=True),\n",
        "            linewidths=1).set_title('Attention Function'\n",
        "            );"
      ]
    },
    {
      "cell_type": "code",
      "execution_count": 331,
      "metadata": {
        "colab": {
          "base_uri": "https://localhost:8080/",
          "height": 452
        },
        "id": "ARmlNGJstypU",
        "outputId": "3d4d4925-e77a-4cd6-9654-eebb054e3641"
      },
      "outputs": [
        {
          "output_type": "display_data",
          "data": {
            "text/plain": [
              "<Figure size 640x480 with 2 Axes>"
            ],
            "image/png": "[encoded data removed]"
          },
          "metadata": {}
        }
      ],
      "source": [
        "# output\n",
        "x_axis_labels = ['1', '2', '3']\n",
        "y_axis_labels = ['1', '2', '3']\n",
        "sns.heatmap(out.numpy(), annot=True,\n",
        "            xticklabels=x_axis_labels,\n",
        "            yticklabels=y_axis_labels,\n",
        "            cmap=sns.light_palette(\"green\", as_cmap=True),\n",
        "            linewidths=1).set_title('Output = Attention Function * V'\n",
        "            );"
      ]
    },
    {
      "cell_type": "markdown",
      "metadata": {
        "id": "VPXIl_2RtypU"
      },
      "source": [
        "Example calculation for the the first element in the output:<br>\n",
        "The dot product of the first row of the attention matrix (p_attn[0,0]) with the first column of the value matrix (Y[0,:,0]).<br>\n",
        "0.6 * 0.39 + 0.084 * -0.19 + 0.11 * -0.2 + 0.1 * 1.3 + 0.098 * 0.14 = 0.34 (0.33976)"
      ]
    },
    {
      "cell_type": "code",
      "execution_count": 182,
      "metadata": {
        "colab": {
          "base_uri": "https://localhost:8080/"
        },
        "id": "f2gWRL4-typV",
        "outputId": "76c85a92-71c7-4ac0-e05d-61c52475157c"
      },
      "outputs": [
        {
          "output_type": "execute_result",
          "data": {
            "text/plain": [
              "tensor([[1.]])"
            ]
          },
          "metadata": {},
          "execution_count": 182
        }
      ],
      "source": [
        "p_attn[0,0].view(1,-1)"
      ]
    },
    {
      "cell_type": "code",
      "execution_count": 183,
      "metadata": {
        "colab": {
          "base_uri": "https://localhost:8080/"
        },
        "id": "HpGo6x9NtypV",
        "outputId": "eb2b7780-bbe3-4ae4-be12-567946ae55b4"
      },
      "outputs": [
        {
          "output_type": "execute_result",
          "data": {
            "text/plain": [
              "tensor([[1.],\n",
              "        [2.],\n",
              "        [3.]])"
            ]
          },
          "metadata": {},
          "execution_count": 183
        }
      ],
      "source": [
        "Q[0].view(-1,1)"
      ]
    }
  ],
  "metadata": {
    "kernelspec": {
      "display_name": "Python 3",
      "language": "python",
      "name": "python3"
    },
    "language_info": {
      "codemirror_mode": {
        "name": "ipython",
        "version": 3
      },
      "file_extension": ".py",
      "mimetype": "text/x-python",
      "name": "python",
      "nbconvert_exporter": "python",
      "pygments_lexer": "ipython3",
      "version": "3.6.6"
    },
    "colab": {
      "provenance": [],
      "include_colab_link": true
    }
  },
  "nbformat": 4,
  "nbformat_minor": 0
}