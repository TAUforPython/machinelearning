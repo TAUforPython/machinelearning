{
  "cells": [
    {
      "cell_type": "markdown",
      "metadata": {
        "id": "view-in-github",
        "colab_type": "text"
      },
      "source": [
        "<a href=\"https://colab.research.google.com/github/TAUforPython/machinelearning/blob/main/example%20attention%20mechanism.ipynb\" target=\"_parent\"><img src=\"https://colab.research.google.com/assets/colab-badge.svg\" alt=\"Open In Colab\"/></a>"
      ]
    },
    {
      "cell_type": "markdown",
      "metadata": {
        "id": "4S7r_rnZtypL"
      },
      "source": [
        "# Example of Attention mechanism"
      ]
    },
    {
      "cell_type": "code",
      "execution_count": 1,
      "metadata": {
        "id": "rEAYT7f6typN"
      },
      "outputs": [],
      "source": [
        "# basic\n",
        "import math\n",
        "import numpy\n",
        "# PyTorch\n",
        "import torch\n",
        "import torch.nn.functional as F\n",
        "\n",
        "# visualisation\n",
        "import matplotlib.pyplot as plt\n",
        "import seaborn as sns"
      ]
    },
    {
      "cell_type": "code",
      "execution_count": 2,
      "metadata": {
        "id": "GSAkM899typO"
      },
      "outputs": [],
      "source": [
        "# random tensors function from https://rockt.github.io/2018/04/30/einsum\n",
        "def random_tensors(shape, num=1, requires_grad=False):\n",
        "    tensors = [torch.randn(shape, requires_grad=requires_grad) for i in range(0,num)]\n",
        "    return tensors[0] if num == 1 else tensors"
      ]
    },
    {
      "cell_type": "code",
      "source": [
        "Y = {\n",
        "     \"apple\": 9,\n",
        "     \"banana\": 5,\n",
        "     \"chair\": 2,\n",
        "     }\n",
        "print(Y.keys())\n",
        "print(Y.values())\n",
        "\n",
        "query = \"apple\"\n",
        "print(Y[query])"
      ],
      "metadata": {
        "colab": {
          "base_uri": "https://localhost:8080/"
        },
        "id": "ls0-6CxWR0bK",
        "outputId": "fc5b52d8-ffbd-437e-9c3d-6f135b5087aa"
      },
      "execution_count": 3,
      "outputs": [
        {
          "output_type": "stream",
          "name": "stdout",
          "text": [
            "dict_keys(['apple', 'banana', 'chair'])\n",
            "dict_values([9, 5, 2])\n",
            "9\n"
          ]
        }
      ]
    },
    {
      "cell_type": "markdown",
      "source": [
        "() - tuple = tuple is a sequence of items that can't be changed (immutable).\n",
        "\n",
        "[] - list = list is a sequence of items that can be changed (mutable).\n",
        "\n",
        "{} - dictionary or set = dictionary is a list of key-value pairs, with unique keys (mutable)."
      ],
      "metadata": {
        "id": "kB88ZDqb03iB"
      }
    },
    {
      "cell_type": "code",
      "source": [
        "Y = {\n",
        "     \"apple\": numpy.array([9,0]),\n",
        "     \"banana\":numpy.array([5,0]),\n",
        "     \"chair\": numpy.array([0,2])\n",
        "     }\n",
        "print(Y.keys())\n",
        "print(Y.values())\n",
        "\n",
        "query = \"apple\"\n",
        "print(Y[query])\n",
        "print(Y.values())"
      ],
      "metadata": {
        "colab": {
          "base_uri": "https://localhost:8080/"
        },
        "id": "MuO1ujSE0LuV",
        "outputId": "87c10de2-0492-4097-8ba5-7935e8877393"
      },
      "execution_count": 4,
      "outputs": [
        {
          "output_type": "stream",
          "name": "stdout",
          "text": [
            "dict_keys(['apple', 'banana', 'chair'])\n",
            "dict_values([array([9, 0]), array([5, 0]), array([0, 2])])\n",
            "[9 0]\n",
            "dict_values([array([9, 0]), array([5, 0]), array([0, 2])])\n"
          ]
        }
      ]
    },
    {
      "cell_type": "markdown",
      "source": [
        "For example, say we assign a 60% meaning based match for apple, a 40% match for banana, and 0% match for chair. We compute our final output value as the weighted sum of the values with the percentages:"
      ],
      "metadata": {
        "id": "SVI4bJxgSjbW"
      }
    },
    {
      "cell_type": "code",
      "source": [
        "query = \"fruit\"\n",
        "Y_attn = 0.6 * Y[\"apple\"] + 0.4 * Y[\"banana\"] + 0.0 * Y[\"chair\"]\n",
        "print(Y_attn)"
      ],
      "metadata": {
        "colab": {
          "base_uri": "https://localhost:8080/"
        },
        "id": "kep4UhO0SUBT",
        "outputId": "7756c23a-a687-495d-9812-47fed5272701"
      },
      "execution_count": 5,
      "outputs": [
        {
          "output_type": "stream",
          "name": "stdout",
          "text": [
            "[7.4 0. ]\n"
          ]
        }
      ]
    },
    {
      "cell_type": "code",
      "source": [
        "list(Y.keys())"
      ],
      "metadata": {
        "colab": {
          "base_uri": "https://localhost:8080/"
        },
        "id": "Gf-Kwhmn_NXu",
        "outputId": "ef2891b0-dfcc-4c78-dcd4-936bda1d3bdb"
      },
      "execution_count": 6,
      "outputs": [
        {
          "output_type": "execute_result",
          "data": {
            "text/plain": [
              "['apple', 'banana', 'chair']"
            ]
          },
          "metadata": {},
          "execution_count": 6
        }
      ]
    },
    {
      "cell_type": "code",
      "source": [
        "color = ['red','orange','blue']\n",
        "#label = list(Y.keys())\n",
        "label = ['apple','banana','chair']\n",
        "plt.scatter([9,5,0],[0,0,2], c=color, s=100, label=label,\n",
        "               alpha=0.9, edgecolors='none')\n",
        "\n",
        "plt.legend()\n",
        "plt.grid()"
      ],
      "metadata": {
        "colab": {
          "base_uri": "https://localhost:8080/",
          "height": 430
        },
        "id": "n4XMbAwd3bVj",
        "outputId": "5af588a9-cb3e-4cf8-99f5-1e5a02abadac"
      },
      "execution_count": 7,
      "outputs": [
        {
          "output_type": "display_data",
          "data": {
            "text/plain": [
              "<Figure size 640x480 with 1 Axes>"
            ],
            "image/png": "[encoded data removed]"
          },
          "metadata": {}
        }
      ]
    },
    {
      "cell_type": "markdown",
      "metadata": {
        "id": "25LNeloKtypO"
      },
      "source": [
        "## Attention function"
      ]
    },
    {
      "cell_type": "markdown",
      "source": [
        "Query (Q): Represents the word you’re focusing on.\n",
        "\n",
        "Key (K): Represents every other word in the sentence, helping the model decide which ones are important.\n",
        "\n",
        "Value (V): Contains the actual information that the model will focus on.\n",
        "\n",
        "Each token's embedding vector is transformed into three vectors: Query (Q), Key (K), and Value (V). These vectors are derived by multiplying the input embedding matrix with learned weight matrices for Q, K, and V. Here's a web search analogy to help us build some intuition behind these matrices:\n",
        "\n",
        "Query (Q) is the search text you type in the search engine bar. This is the token you want to \"find more information about\".\n",
        "Key (K) is the title of each web page in the search result window. It represents the possible tokens the query can attend to.\n",
        "Value (V) is the actual content of web pages shown. Once we matched the appropriate search term (Query) with the relevant results (Key), we want to get the content (Value) of the most relevant pages."
      ],
      "metadata": {
        "id": "6UJpOKnxKyRA"
      }
    },
    {
      "cell_type": "code",
      "execution_count": 61,
      "metadata": {
        "colab": {
          "base_uri": "https://localhost:8080/"
        },
        "id": "snicNc3ytypO",
        "outputId": "550526c1-9fa1-423c-b025-e3fc07717350"
      },
      "outputs": [
        {
          "output_type": "stream",
          "name": "stdout",
          "text": [
            "tensor([[0., 3.]])\n",
            "tensor([[1., 0.],\n",
            "        [9., 0.],\n",
            "        [5., 0.]])\n"
          ]
        }
      ],
      "source": [
        "# dimensions = batch size x sequence length x embedding dimension\n",
        "#Y = random_tensors([3, 2, 4])\n",
        "\n",
        "#Q = [[0., 0., 2.]]\n",
        "#K = [[1., 0., 0.],[0., 0., 1.],[0., 0., 1.]]\n",
        "#V = [[9., 5., 2.],[5., 5., 5.],[2., 2., 2.]]\n",
        "\n",
        "Q = [[3.,0.]]\n",
        "K = [[1., 0.],[9., 0.],[5., 0.]]\n",
        "V = [[8., 0.],[6., 1.],[4., 2.]]\n",
        "\n",
        "\n",
        "#Q = [[0., 7.]]\n",
        "#K = [[0., 1.],[0., 9.],[0., 5.]]\n",
        "#V = [[0., 8.],[1., 6.],[2., 4.]]\n",
        "\n",
        "Q = torch.tensor(Q)\n",
        "K = torch.tensor(K)\n",
        "V = torch.tensor(V)\n",
        "print(Q)\n",
        "print(K)"
      ]
    },
    {
      "cell_type": "code",
      "source": [
        "scores = torch.matmul(Q, torch.transpose(K,0,1)) / math.sqrt(Q.size(-1))\n",
        "print(scores)\n",
        "p_attn = F.softmax(scores, dim = -1)\n",
        "print(p_attn)\n",
        "print(torch.matmul(p_attn, V))"
      ],
      "metadata": {
        "colab": {
          "base_uri": "https://localhost:8080/"
        },
        "id": "dGoYHBD1zl_W",
        "outputId": "b8a41da5-76d4-4b43-e632-1795e31e11ad"
      },
      "execution_count": 62,
      "outputs": [
        {
          "output_type": "stream",
          "name": "stdout",
          "text": [
            "tensor([[0., 0., 0.]])\n",
            "tensor([[0.3333, 0.3333, 0.3333]])\n",
            "tensor([[3.3333, 3.6667]])\n"
          ]
        }
      ]
    },
    {
      "cell_type": "code",
      "execution_count": 63,
      "metadata": {
        "id": "R4ZCeslptypP"
      },
      "outputs": [],
      "source": [
        "# attention function based on http://nlp.seas.harvard.edu/2018/04/03/attention.html#attention\n",
        "def attention_transf(query, key, value):\n",
        "    \"Compute 'Scaled Dot Product Attention'\"\n",
        "\n",
        "    # scaling factor for scores\n",
        "    d_k = query.size(-1)\n",
        "\n",
        "    # matrix multiplication to get every dot product for query and transposed key\n",
        "    scores = torch.matmul(query, key.transpose(-2, -1)) / math.sqrt(d_k)\n",
        "    #scores = torch.matmul(query, torch.transpose(key,0,1)) / math.sqrt(d_k)\n",
        "\n",
        "    # apply softmax of the scores on the last dimensions (= sequence length)\n",
        "    p_attn = F.softmax(scores, dim = -1)\n",
        "\n",
        "    # matrix multiplication of attention matrix and value matrix to get output based\n",
        "    out = torch.matmul(p_attn, value)\n",
        "\n",
        "    return out, p_attn"
      ]
    },
    {
      "cell_type": "code",
      "execution_count": 64,
      "metadata": {
        "id": "5RU3CkZ-typP",
        "colab": {
          "base_uri": "https://localhost:8080/"
        },
        "outputId": "dc5862ed-b03b-4f2b-eed4-e0e18f1586a4"
      },
      "outputs": [
        {
          "output_type": "execute_result",
          "data": {
            "text/plain": [
              "1.0"
            ]
          },
          "metadata": {},
          "execution_count": 64
        }
      ],
      "source": [
        "# run Y through attention function\n",
        "#out, p_attn = attention_transf(Y, Y, Y)\n",
        "out, p_attn = attention_transf(Q, K, V)\n",
        "\n",
        "# verify that softmax adds up to 1\n",
        "p_attn[0].sum().item()"
      ]
    },
    {
      "cell_type": "code",
      "execution_count": 65,
      "metadata": {
        "colab": {
          "base_uri": "https://localhost:8080/"
        },
        "id": "3YYU94UFtypQ",
        "outputId": "82dfb80d-844e-4a83-bc7e-2275ce29318e"
      },
      "outputs": [
        {
          "output_type": "execute_result",
          "data": {
            "text/plain": [
              "(torch.Size([1, 2]), torch.Size([1, 3]), torch.Size([1, 2]))"
            ]
          },
          "metadata": {},
          "execution_count": 65
        }
      ],
      "source": [
        "# print shapes\n",
        "Q.shape, p_attn.shape, out.shape"
      ]
    },
    {
      "cell_type": "markdown",
      "metadata": {
        "id": "dQVocmUEtypT"
      },
      "source": [
        "## Visualization"
      ]
    },
    {
      "cell_type": "code",
      "execution_count": 66,
      "metadata": {
        "colab": {
          "base_uri": "https://localhost:8080/",
          "height": 556
        },
        "id": "GQOgpkRmtypU",
        "outputId": "28cea9c1-7b77-4711-a1e9-d6f9e98ef7ad"
      },
      "outputs": [
        {
          "output_type": "stream",
          "name": "stdout",
          "text": [
            "tensor([[0., 3.],\n",
            "        [1., 0.],\n",
            "        [9., 0.],\n",
            "        [5., 0.],\n",
            "        [0., 8.],\n",
            "        [6., 1.],\n",
            "        [4., 2.]])\n"
          ]
        },
        {
          "output_type": "display_data",
          "data": {
            "text/plain": [
              "<Figure size 640x480 with 2 Axes>"
            ],
            "image/png": "[encoded data removed]"
          },
          "metadata": {}
        }
      ],
      "source": [
        "# input\n",
        "Y = torch.cat((Q,K,V),axis=0)\n",
        "text = numpy.array([['Q\\N{SUBSCRIPT ONE}','Q\\N{SUBSCRIPT TWO}'],\n",
        "                ['K1\\N{SUBSCRIPT ONE}','K1\\N{SUBSCRIPT TWO}'],\n",
        "                ['K2\\N{SUBSCRIPT ONE}','K2\\N{SUBSCRIPT TWO}'],\n",
        "                ['K3\\N{SUBSCRIPT ONE}','K3\\N{SUBSCRIPT TWO}'],\n",
        "                ['V1\\N{SUBSCRIPT ONE}','V1\\N{SUBSCRIPT TWO}'],\n",
        "                ['V2\\N{SUBSCRIPT ONE}','V2\\N{SUBSCRIPT TWO}'],\n",
        "                ['V3\\N{SUBSCRIPT ONE}','V3\\N{SUBSCRIPT TWO}']]\n",
        "                )\n",
        "print(Y)\n",
        "plt.axis('off')\n",
        "sns.heatmap(Y.numpy(), annot=text, cmap=sns.light_palette('blue', as_cmap=True), fmt=\"\",linewidths=1).set_title('Input (= query, key, and value)');"
      ]
    },
    {
      "cell_type": "code",
      "execution_count": 67,
      "metadata": {
        "colab": {
          "base_uri": "https://localhost:8080/",
          "height": 237
        },
        "id": "2QxudOJxtypU",
        "outputId": "4467e09c-c0b3-48be-f700-84bf1660eb1e"
      },
      "outputs": [
        {
          "output_type": "display_data",
          "data": {
            "text/plain": [
              "<Figure size 500x200 with 2 Axes>"
            ],
            "image/png": "[encoded data removed]"
          },
          "metadata": {}
        }
      ],
      "source": [
        "# attention matrix\n",
        "# output\n",
        "x_axis_labels = ['K1', 'K2', 'K3']\n",
        "y_axis_labels = ['Q']\n",
        "plt.figure(figsize=(5,2))\n",
        "sns.heatmap(p_attn.numpy(), annot=True,\n",
        "            xticklabels=x_axis_labels,\n",
        "            yticklabels=y_axis_labels,\n",
        "            cmap=sns.light_palette(\"orange\", as_cmap=True),\n",
        "            linewidths=1).set_title('Attention Function'\n",
        "            );"
      ]
    },
    {
      "cell_type": "code",
      "execution_count": 68,
      "metadata": {
        "colab": {
          "base_uri": "https://localhost:8080/",
          "height": 237
        },
        "id": "ARmlNGJstypU",
        "outputId": "3d7c587d-6ce3-4df2-cb8b-f05d141c9dfa"
      },
      "outputs": [
        {
          "output_type": "display_data",
          "data": {
            "text/plain": [
              "<Figure size 500x200 with 2 Axes>"
            ],
            "image/png": "[encoded data removed]"
          },
          "metadata": {}
        }
      ],
      "source": [
        "# output\n",
        "x_axis_labels = ['Q\\N{SUBSCRIPT ONE}', 'Q\\N{SUBSCRIPT TWO}']\n",
        "y_axis_labels = ['V']\n",
        "plt.figure(figsize=(5,2))\n",
        "\n",
        "sns.heatmap(out.numpy(), annot=True,\n",
        "            xticklabels=x_axis_labels,\n",
        "            yticklabels=y_axis_labels,\n",
        "            cmap=sns.light_palette(\"green\", as_cmap=True),\n",
        "            linewidths=1).set_title('Output = Attention Function * V'\n",
        "            );\n"
      ]
    },
    {
      "cell_type": "code",
      "execution_count": 59,
      "metadata": {
        "colab": {
          "base_uri": "https://localhost:8080/"
        },
        "id": "f2gWRL4-typV",
        "outputId": "185f4472-af03-4049-f554-4310b1f83ff1"
      },
      "outputs": [
        {
          "output_type": "execute_result",
          "data": {
            "text/plain": [
              "tensor([[4.2627e-08]])"
            ]
          },
          "metadata": {},
          "execution_count": 59
        }
      ],
      "source": [
        "p_attn[0,0].view(1,-1)"
      ]
    },
    {
      "cell_type": "code",
      "execution_count": 60,
      "metadata": {
        "colab": {
          "base_uri": "https://localhost:8080/"
        },
        "id": "HpGo6x9NtypV",
        "outputId": "1f32cfbc-fa8b-4ab0-e2da-6ba6a4948858"
      },
      "outputs": [
        {
          "output_type": "execute_result",
          "data": {
            "text/plain": [
              "tensor([[3.],\n",
              "        [0.]])"
            ]
          },
          "metadata": {},
          "execution_count": 60
        }
      ],
      "source": [
        "Q[0].view(-1,1)"
      ]
    }
  ],
  "metadata": {
    "kernelspec": {
      "display_name": "Python 3",
      "language": "python",
      "name": "python3"
    },
    "language_info": {
      "codemirror_mode": {
        "name": "ipython",
        "version": 3
      },
      "file_extension": ".py",
      "mimetype": "text/x-python",
      "name": "python",
      "nbconvert_exporter": "python",
      "pygments_lexer": "ipython3",
      "version": "3.6.6"
    },
    "colab": {
      "provenance": [],
      "include_colab_link": true
    }
  },
  "nbformat": 4,
  "nbformat_minor": 0
}