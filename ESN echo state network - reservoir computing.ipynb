{
  "cells": [
    {
      "cell_type": "markdown",
      "metadata": {
        "id": "view-in-github",
        "colab_type": "text"
      },
      "source": [
        "<a href=\"https://colab.research.google.com/github/TAUforPython/machinelearning/blob/main/ESN%20echo%20state%20network%20-%20reservoir%20computing.ipynb\" target=\"_parent\"><img src=\"https://colab.research.google.com/assets/colab-badge.svg\" alt=\"Open In Colab\"/></a>"
      ]
    },
    {
      "cell_type": "markdown",
      "metadata": {
        "id": "pDNcxiYS5m_D"
      },
      "source": [
        "# Neural networks : Echo State Network"
      ]
    },
    {
      "cell_type": "markdown",
      "source": [
        "https://github.com/RomainPastureau/Reservoir-Jupyter/blob/master/Minimal%20ESN%20-%20EN.ipynb"
      ],
      "metadata": {
        "id": "jseu2ghm6aUm"
      }
    },
    {
      "cell_type": "markdown",
      "metadata": {
        "id": "CzJF6Gu75m_E"
      },
      "source": [
        "## A brief introduction"
      ]
    },
    {
      "cell_type": "markdown",
      "metadata": {
        "id": "JqyzVgZi5m_F"
      },
      "source": [
        "<p style=\"text-align:justify\">Since Frank Rosenblatt first created the perceptron in 1957, numerous neural models have surfaced. An <i>echo state network</i> is a Recurrent Neural Network (i.e., where the path may not be linear, allowing the network to have a memory) whose reservoir contains randomly generated neurons. Only the output weights (between the reservoir and the output) can be modified, through supervised learning : we can compare the network output to a « target » output. In this notebook, we will focus on an ESN model developped by Mantas Lukoševičius.</p>"
      ]
    },
    {
      "cell_type": "code",
      "execution_count": 1,
      "metadata": {
        "collapsed": true,
        "id": "BJ5TfB1-5m_F"
      },
      "outputs": [],
      "source": [
        "%matplotlib inline"
      ]
    },
    {
      "cell_type": "markdown",
      "metadata": {
        "id": "ydVdNnMg5m_G"
      },
      "source": [
        "## Module importation"
      ]
    },
    {
      "cell_type": "markdown",
      "metadata": {
        "id": "6Kc651lN5m_G"
      },
      "source": [
        "We'll first import the modules we need. We will need the <i>%matplotlib inline</i> command, which allows to plot graphs directly into the notebook, and the modules <b>numpy</b> (numerical module allowing vectors and matrix handling), <b>matplotlib</b> (which will plot graphs), <b>scipy</b> (whose linalg method will allow the importation of linear algebra functions), and <b>IPython</b> widgets, allowing to interact in real time with the graphs by moving cursors."
      ]
    },
    {
      "cell_type": "code",
      "execution_count": 9,
      "metadata": {
        "id": "2ttAeb7z5m_G"
      },
      "outputs": [],
      "source": [
        "# -*- coding: utf-8 -*-\n",
        "\"\"\"\n",
        "A minimalistic Echo State Networks demo with Mackey-Glass (delay 17) data\n",
        "in \"plain\" scientific Python.\n",
        "by Mantas Lukoševičius 2012\n",
        "http://minds.jacobs-university.de/mantas\n",
        "---\n",
        "Modified by Xavier Hinaut: 2015-2016\n",
        "http://www.xavierhinaut.com\n",
        "\"\"\"\n",
        "import numpy as np\n",
        "import pandas as pd\n",
        "import matplotlib.pyplot as plt\n",
        "from scipy import linalg\n",
        "from ipywidgets import *\n",
        "from IPython.display import *"
      ]
    },
    {
      "cell_type": "markdown",
      "metadata": {
        "id": "qDk66VH65m_H"
      },
      "source": [
        "## Random reset"
      ]
    },
    {
      "cell_type": "markdown",
      "metadata": {
        "id": "KkyrMORB5m_I"
      },
      "source": [
        "We will initiate a first pseudo-random value, depending on the current time when launching the algorithm. This will allow to ensure that two different launchs of the program will not give the same results."
      ]
    },
    {
      "cell_type": "code",
      "execution_count": 23,
      "metadata": {
        "id": "R6U9Lvv75m_I"
      },
      "outputs": [],
      "source": [
        "def set_seed(seed=None):\n",
        "    \"\"\"Making the seed (for random values) variable if None\"\"\"\n",
        "\n",
        "    if seed is None:\n",
        "        import time\n",
        "        seed = int((time.time()*10**6) % 4294967295)\n",
        "        print(seed)\n",
        "    try:\n",
        "        np.random.seed(seed)\n",
        "        print(\"Seed used for random values:\", seed)\n",
        "    except:\n",
        "        print(\"!!! WARNING !!!: Seed was not set correctly.\")\n",
        "    return seed"
      ]
    },
    {
      "cell_type": "markdown",
      "metadata": {
        "id": "lac6LAS55m_I"
      },
      "source": [
        "## Creating a \"Network\" class"
      ]
    },
    {
      "cell_type": "markdown",
      "metadata": {
        "id": "O7UwjFSY5m_I"
      },
      "source": [
        "We create a <i>Network</i> class. When initialized, an object from this class will have 4 default attributes :\n",
        "\n",
        "<ul><li><b>initLen</b> : number of initializing iterations. During this phase, nothing happens: this allows to start the training with an intermediate value, rather than one of the first given values;;</li>\n",
        "<li><b>trainLen</b> : number of training iterations. The network changes the weights between the reservoir and the output, so that it can predict or generate a series;</li>\n",
        "<li><b>testLen</b> : number of testing iterations;</li>\n",
        "<li><b>data</b> : data file. Here, the file contains the first 10'000 iterations of a Mackey-Glass chaotic series. A chaotic series is a series of numbers provided by a function, for which a small alteration of the origin number can have drastic consequences on the following terms.</li></ul>"
      ]
    },
    {
      "cell_type": "markdown",
      "metadata": {
        "id": "cS9irUoo5m_J"
      },
      "source": [
        "The default number of neurons contained in the reservoir is 300 (<b>resSize</b>), while the input and the output contain both one neuron (<b>inSize and outSize</b>). The network can be represented like this : <img src=\"Reservoir.png\"></img>\n",
        "\n",
        "<p style=\"text-align:justify\">Input neurons are connected to reservoir neurons. We save the weights of every connection in a <b style=\"color:#99cc00\">W<sub>in</sub></b> matrix (dim. inSize x resSize). Weights of the connections from reservoir to the output are saved in the <b style=\"color:#ff0000\">W<sub>out</sub></b> matrix (dim. resSize x outSize). Into the reservoir itself, one neuron is linked to every other : weights are saved in the <b style=\"color:#ffcc00\">W</b> matrix (dim. resSize x resSize).</p>\n",
        "\n",
        "<p style=\"text-align:justify\">Values of the reservoir's neurons are saved in a <b style=\"color:#ffcc00\">x</b> matrix (dim. resSize × 1). <b style=\"color:#00baff\">X</b> matrix contains bias (<b style=\"color:#99cc00\">1</b>), input (<b style=\"color:#99cc00\">u</b>) and reservoir's neurons (<b style=\"color:#ffcc00\">x</b>) values, over time (t). This matrix has a (1+inSize+resSize)×(trainLen-initLen) dimension. Finally, we save the ouput neuron values over time in a <b style=\"color:#ff0000\">y</b> matrix (dim. 1×(trainLen-initLen)).</p>\n",
        "\n",
        "<p style=\"text-align:justify\"><b style=\"color:#a7008a\">Y<sub>target</sub></b> matrix represents the « target » values. It matches the <b>data</b> values after initialization and training lengths. Those values will then be compared to the reservoir's output values.</p>"
      ]
    },
    {
      "cell_type": "code",
      "execution_count": 30,
      "metadata": {
        "colab": {
          "base_uri": "https://localhost:8080/"
        },
        "id": "sCLXluX55m_J",
        "outputId": "242854e6-acfb-419e-d7f6-3f3ef21ade07"
      },
      "outputs": [
        {
          "output_type": "stream",
          "name": "stdout",
          "text": [
            "2941344201\n",
            "Seed used for random values: 2941344201\n"
          ]
        }
      ],
      "source": [
        "class Network(object):\n",
        "\n",
        "    def __init__(self, trainLen=2000, testLen=2000, initLen=100) :\n",
        "        self.initLen = initLen\n",
        "        self.trainLen = trainLen\n",
        "        self.testLen = testLen\n",
        "        #self.data = np.loadtxt(\"MackeyGlass_t17.txt\")\n",
        "        data_df=pd.read_csv(\"ecg_1d_timeseries_prediction.csv\",sep=';')\n",
        "        self.data = data_df['ecg_value'].values\n",
        "        self.inSize = self.outSize = 1 #Input/Output dimensions\n",
        "        self.resSize = 300 #Reservoir size (prediction)\n",
        "        #self.resSize = 1000 #Reservoir size (generation)\n",
        "        self.a = 0.3 #Leak rate alpha\n",
        "        self.spectral_radius = 1.25 #Spectral raidus\n",
        "        self.input_scaling = 1. #Input scaling\n",
        "        self.reg =  1e-8 #None #Regularization factor - if None,\n",
        "        #we'd use pseudo-inverse rather than ridge regression\n",
        "\n",
        "        self.mode = 'prediction'\n",
        "        #self.mode = 'generative'\n",
        "\n",
        "        #Change the seed, reservoir performances should be averaged accross\n",
        "        #at least 20 random instances (with the same set of parameters)\n",
        "        seed = None #42\n",
        "\n",
        "        set_seed(seed)\n",
        "\n",
        "nw = Network()"
      ]
    },
    {
      "cell_type": "markdown",
      "metadata": {
        "id": "eWMTq5C55m_J"
      },
      "source": [
        "## Dynamic plot of a data sample"
      ]
    },
    {
      "cell_type": "markdown",
      "metadata": {
        "id": "wqo_55715m_K"
      },
      "source": [
        "We will now display a sample of data from the <i>data</i> file, by plotting the first 5,000 iterations. You can change the number of iterations by moving the cursor."
      ]
    },
    {
      "cell_type": "code",
      "execution_count": 33,
      "metadata": {
        "colab": {
          "base_uri": "https://localhost:8080/",
          "height": 570,
          "referenced_widgets": [
            "6261e2b26bdb4bb693c19fa5637d452e",
            "e971505cd31b46b8b86ccce2d5714e65",
            "3a847ffe181e4df68fc248b5c3ede218",
            "8627b1189d7745d49bf429babdcc551e",
            "428b6acbb07441a99d0bf35698605bc1",
            "11506afd435f453b8983bef4519cd691",
            "8c7b3c55e82245faa445d5e35c6077cf"
          ]
        },
        "id": "oMwsYSgk5m_K",
        "outputId": "7d411f50-8253-40b9-e64e-e606b4119e8e"
      },
      "outputs": [
        {
          "output_type": "display_data",
          "data": {
            "text/plain": [
              "interactive(children=(FloatSlider(value=2000.0, continuous_update=False, description='time steps', max=10000.0…"
            ],
            "application/vnd.jupyter.widget-view+json": {
              "version_major": 2,
              "version_minor": 0,
              "model_id": "6261e2b26bdb4bb693c19fa5637d452e"
            }
          },
          "metadata": {}
        },
        {
          "output_type": "execute_result",
          "data": {
            "text/plain": [
              "<function __main__.plot_figure(f)>"
            ],
            "text/html": [
              "<div style=\"max-width:800px; border: 1px solid var(--colab-border-color);\"><style>\n",
              "      pre.function-repr-contents {\n",
              "        overflow-x: auto;\n",
              "        padding: 8px 12px;\n",
              "        max-height: 500px;\n",
              "      }\n",
              "\n",
              "      pre.function-repr-contents.function-repr-contents-collapsed {\n",
              "        cursor: pointer;\n",
              "        max-height: 100px;\n",
              "      }\n",
              "    </style>\n",
              "    <pre style=\"white-space: initial; background:\n",
              "         var(--colab-secondary-surface-color); padding: 8px 12px;\n",
              "         border-bottom: 1px solid var(--colab-border-color);\"><b>plot_figure</b><br/>def plot_figure(f)</pre><pre class=\"function-repr-contents function-repr-contents-collapsed\" style=\"\"><a class=\"filepath\" style=\"display:none\" href=\"#\">/content/&lt;ipython-input-33-9f5df57c106f&gt;</a>&lt;no docstring&gt;</pre></div>"
            ]
          },
          "metadata": {},
          "execution_count": 33
        }
      ],
      "source": [
        "def plot_figure(f) :\n",
        "    plt.figure(0).clear()\n",
        "    plt.plot(nw.data[0:int(f)])\n",
        "    #plt.ylim([-1.1,1.1])\n",
        "    plt.title('A sample of input data')\n",
        "\n",
        "interact(plot_figure, f=FloatSlider(value=2000,min=1000,max=10000,step=1000,continuous_update=False,description='time steps'))"
      ]
    },
    {
      "cell_type": "markdown",
      "metadata": {
        "id": "cqIWbEp65m_K"
      },
      "source": [
        "## Processing the network with the parameters"
      ]
    },
    {
      "cell_type": "markdown",
      "metadata": {
        "id": "dEsZb1qN5m_L"
      },
      "source": [
        "We first randomly generate <b style=\"color:#99cc00\">W<sub>in</sub></b> input weights, and <b style=\"color:#ffcc00\">W</b> reservoir weights. Then, we create the matrices <b style=\"color:#ffcc00\">x</b>, <b style=\"color:#a7008a\">Y<sub>target</sub></b> and <b style=\"color:#00baff\">X</b>."
      ]
    },
    {
      "cell_type": "code",
      "execution_count": 53,
      "metadata": {
        "collapsed": true,
        "id": "9JjH1N425m_L"
      },
      "outputs": [],
      "source": [
        "def initialization(nw) :\n",
        "\n",
        "    #Weights\n",
        "    nw.Win = (np.random.rand(nw.resSize,1+nw.inSize)-0.5) * nw.input_scaling\n",
        "    nw.W = np.random.rand(nw.resSize,nw.resSize)-0.5\n",
        "\n",
        "    #Matrices\n",
        "    #Allocated memory for the design (collected states) matrix\n",
        "    nw.X = np.zeros((1+nw.inSize+nw.resSize,nw.trainLen-nw.initLen))\n",
        "    #Set the corresponding target matrix directly\n",
        "    nw.Ytarget = nw.data[None,nw.initLen+1:nw.trainLen+1]\n",
        "\n",
        "    #Run the reservoir with the data and collect X\n",
        "    nw.x = np.zeros((nw.resSize,1))\n",
        "\n",
        "    return(nw)"
      ]
    },
    {
      "cell_type": "markdown",
      "metadata": {
        "id": "wP3mlpGT5m_L"
      },
      "source": [
        "We compute <b style=\"color:#ffcc00\">W</b> (reservoir weights) spectral radius (i.e., the biggest of the absolute eigenvalues). This number will then be used to scale the weights : the biggest the spectral radius is, the easiest it will be for the system to remember longer inputs."
      ]
    },
    {
      "cell_type": "code",
      "execution_count": 55,
      "metadata": {
        "collapsed": true,
        "id": "i7wNUj8U5m_L"
      },
      "outputs": [],
      "source": [
        "def compute_spectral_radius(nw):\n",
        "    print('Computing spectral radius...',end=\" \")\n",
        "    rhoW = max(abs(linalg.eig(nw.W)[0]))\n",
        "    print('Done.')\n",
        "    nw.W *= nw.spectral_radius / rhoW\n",
        "\n",
        "    return(nw)"
      ]
    },
    {
      "cell_type": "markdown",
      "metadata": {
        "id": "utvXe0_25m_M"
      },
      "source": [
        "<p style=\"text-align:justify\">We continue with a training phase, which duration depends of the <b>trainLen</b> value. Data from the <i>data</i> file are used in input. The algorithm changes every reservoir neuron value on every step, depending on the <b style=\"color:#99cc00\">W<sub>in</sub></b>. weights, using the following formula :</p></br></br>\n",
        "\n",
        "\n",
        "$$x_{n} = (1-\\alpha)x_{n-1} \\times \\alpha \\tanh(W_{in}.u_{n-1}) + W.x_{n-1}$$\n",
        "\n",
        "\n",
        "<p style=\"text-align:justify\">In this formula, the $\\alpha$ acts as a \"memory\" factor for the network.\n",
        "Once the initialization span (<b>initLen</b>) is over, the algorithm begins to modify the X matrix, which collects neurons states during the simulation : the first neuron is the bias (1), the second one is the input, and every other are the x matrix :</p>\n",
        "$$X_{n} = [1;u_{n};x_{n}]$$"
      ]
    },
    {
      "cell_type": "code",
      "execution_count": 56,
      "metadata": {
        "collapsed": true,
        "id": "tA4c-aqv5m_M"
      },
      "outputs": [],
      "source": [
        "def learning_phase(nw) :\n",
        "    for t in range(nw.trainLen):\n",
        "        #Input data\n",
        "        nw.u = nw.data[t]\n",
        "        nw.x = (1-nw.a)*nw.x + nw.a*np.tanh( np.dot(nw.Win, np.vstack((1,nw.u)) ) + np.dot( nw.W, nw.x ) )\n",
        "        #After the initialization, we start modifying X\n",
        "        if t >= nw.initLen:\n",
        "            nw.X[:,t-nw.initLen] = np.vstack((1,nw.u,nw.x))[:,0]\n",
        "\n",
        "    return(nw)"
      ]
    },
    {
      "cell_type": "markdown",
      "metadata": {
        "id": "3wslMcdM5m_M"
      },
      "source": [
        "Now, we record output weights <b style=\"color:#ff0000\">W<sub>out</sub></b>, and we correct those according to the reservoir's neurons values (<b style=\"color:#00baff\">X</b>) and the target values (<b style=\"color:#a7008a\">Y<sub>target</sub></b>) :\n",
        "\n",
        "\n",
        "$$W_{out} = (Y_{t}.X^{T}).(X.X^{T} + reg.I)^{-1}$$"
      ]
    },
    {
      "cell_type": "code",
      "execution_count": 57,
      "metadata": {
        "collapsed": true,
        "id": "wF39YKrN5m_N"
      },
      "outputs": [],
      "source": [
        "def train_output(nw) :\n",
        "    nw.X_T = nw.X.T\n",
        "    if nw.reg is not None:\n",
        "        # Ridge regression (linear regression with regularization)\n",
        "        nw.Wout = np.dot(np.dot(nw.Ytarget,nw.X_T), linalg.inv(np.dot(nw.X,nw.X_T) + \\\n",
        "            nw.reg*np.eye(1+nw.inSize+nw.resSize) ) )\n",
        "    else:\n",
        "        # Pseudo-inverse\n",
        "        nw.Wout = np.dot(nw.Ytarget, linalg.pinv(nw.X) )\n",
        "\n",
        "    return(nw)"
      ]
    },
    {
      "cell_type": "markdown",
      "metadata": {
        "id": "_KXXV-TI5m_N"
      },
      "source": [
        "When the training is over, we launch network testing. In generative mode, at each iteration, we will use the output to generate the next one. In predictive mode, we will use the real data to try to generate the next one."
      ]
    },
    {
      "cell_type": "code",
      "execution_count": 58,
      "metadata": {
        "collapsed": true,
        "id": "QkknMcBo5m_N"
      },
      "outputs": [],
      "source": [
        "def test(nw) :\n",
        "    #Run the trained ESN in a generative mode. no need to initialize here,\n",
        "    #because x is initialized with training data and we continue from there.\n",
        "    nw.Y = np.zeros((nw.outSize,nw.testLen))\n",
        "    nw.u = nw.data[nw.trainLen]\n",
        "    for t in range(nw.testLen):\n",
        "        nw.x = (1-nw.a)*nw.x + nw.a*np.tanh( np.dot(nw.Win, np.vstack((1,nw.u)) ) + np.dot(nw.W,nw.x ) )\n",
        "        nw.y = np.dot(nw.Wout, np.vstack((1,nw.u,nw.x)) )\n",
        "        nw.Y[:,t] = nw.y\n",
        "        if nw.mode == 'generative':\n",
        "            #Generative mode:\n",
        "            nw.u = nw.y\n",
        "        elif nw.mode == 'prediction':\n",
        "            #Predictive mode:\n",
        "            nw.u = nw.data[nw.trainLen+t+1]\n",
        "        else:\n",
        "            raise(Exception, \"ERROR: 'mode' was not set correctly.\")\n",
        "\n",
        "    return(nw)"
      ]
    },
    {
      "cell_type": "code",
      "execution_count": 59,
      "metadata": {
        "collapsed": true,
        "id": "Otw_tml_5m_N"
      },
      "outputs": [],
      "source": [
        "def compute_error(nw) :\n",
        "    # Computing MSE for the first errorLen iterations\n",
        "    errorLen = 500\n",
        "    mse = sum( np.square( nw.data[nw.trainLen+1:nw.trainLen+errorLen+1] - nw.Y[0,0:errorLen] ) ) / errorLen\n",
        "    print('MSE = ' + str( mse ))\n",
        "\n",
        "    return(nw)"
      ]
    },
    {
      "cell_type": "code",
      "execution_count": 60,
      "metadata": {
        "collapsed": true,
        "id": "lss8-vla5m_N"
      },
      "outputs": [],
      "source": [
        "def compute_network(nw) :\n",
        "    nw = initialization(nw)\n",
        "    nw = compute_spectral_radius(nw)\n",
        "    nw = learning_phase(nw)\n",
        "    nw = train_output(nw)\n",
        "    nw = test(nw)\n",
        "    nw = compute_error(nw)\n",
        "    return(nw)"
      ]
    },
    {
      "cell_type": "markdown",
      "metadata": {
        "id": "yi797bQJ5m_N"
      },
      "source": [
        "## Definition of the network parameters"
      ]
    },
    {
      "cell_type": "markdown",
      "metadata": {
        "id": "Pc72xxGp5m_N"
      },
      "source": [
        "Here, you can modify the network parameters by moving the cursors, then pressing Validate. This will affect every subsequent graph."
      ]
    },
    {
      "cell_type": "code",
      "execution_count": 61,
      "metadata": {
        "colab": {
          "base_uri": "https://localhost:8080/",
          "height": 262,
          "referenced_widgets": [
            "6b1ea616db064a08ace1401768e633d7",
            "450a5ae504434b74b014b23e5965e133",
            "dd1407b34ed046078015a2f3b99b79d8",
            "2701d38d79ca4ffeb4a0f42e188fc2f3",
            "dd5f139a71844dab84b43db6af65aa62",
            "d7300a0cc5e2431f94a0c4aa43f67536",
            "29da0f39ab8d4f20b1cc45c434cc7345",
            "83a768c35f4c4f6e8b05f7ad4d659804",
            "fa174ba3d0494075b25959fcd0ea82f3",
            "96f68c4db56e486e9319d3f6c794ce46",
            "0ae65279ff8b40e0a8305eceda01f94b",
            "e75abc26de154df2ac8fb50091e4296f",
            "b337d65410a84367a4b4a0fd422b611a",
            "8c44b2a8165641b0962225b1d9674798",
            "e9d5fba369674aa7aac02b634d670c71",
            "c5484ec8eee04bf8a129234d58c049cc",
            "1e43edc61043488cb4a2a56796c96d61",
            "97fc311795c14a69a564e0585cd8711e",
            "ff9a92d76cca492b95cb49ae954ffd7c",
            "2551cea8f13d46efb59f6f6883a5945f",
            "79905f5711384a07823367604d2d15a7",
            "cedc69518093476f879344bcc0c464d8",
            "01059f847b194c5c8130b63978a1cf05",
            "de7cf207c0364c69ac045aa481b29519"
          ]
        },
        "id": "dORuv-K35m_N",
        "outputId": "137360f7-0f4f-4055-d259-9906c6e3181d"
      },
      "outputs": [
        {
          "output_type": "stream",
          "name": "stdout",
          "text": [
            "InitLen: 100 TrainLen: 2000 TestLen: 2000\n",
            "ResSize: 300 Spectral Radius: 1.25 Leak Rate: 0.3\n",
            "Computing spectral radius... Done.\n",
            "MSE = 796.6158269981028\n"
          ]
        }
      ],
      "source": [
        "select_mode = ToggleButtons(description='Mode:',\n",
        "    options=['prediction', 'generative'])\n",
        "var1 = FloatSlider(value=300, min=0, max=1000, step=1, description='resSize')\n",
        "var2 = FloatSlider(value=100, min=0, max=2000, step=1, description='initLen')\n",
        "var3 = FloatSlider(value=2000, min=0, max=5000, step=1, description='trainLen')\n",
        "var4 = FloatSlider(value=2000, min=0, max=5000, step=1, description='testLen')\n",
        "var5 = FloatSlider(value=1.25, min=0, max=10, step=0.05, description='spectral radius')\n",
        "var6 = FloatSlider(value=0.3, min=0, max=1, step=0.01, description='leak rate')\n",
        "valid = Button(description='Validate')\n",
        "\n",
        "def record_values(_) :\n",
        "    clear_output()\n",
        "    nw.mode=select_mode.value\n",
        "    nw.resSize=int(var1.value)\n",
        "    nw.initLen=int(var2.value)\n",
        "    nw.trainLen=int(var3.value)\n",
        "    nw.testLen=int(var4.value)\n",
        "    nw.spectral_radius=float(var5.value)\n",
        "    nw.a=float(var6.value)\n",
        "    print(\"InitLen:\", nw.initLen, \"TrainLen:\", nw.trainLen, \"TestLen:\", nw.testLen)\n",
        "    print(\"ResSize:\", nw.resSize, \"Spectral Radius:\", nw.spectral_radius, \"Leak Rate:\", nw.a)\n",
        "    compute_network(nw)\n",
        "    return(nw)\n",
        "\n",
        "display(select_mode)\n",
        "display(var1)\n",
        "display(var2)\n",
        "display(var3)\n",
        "display(var4)\n",
        "display(var5)\n",
        "display(var6)\n",
        "display(valid)\n",
        "\n",
        "valid.on_click(record_values)"
      ]
    },
    {
      "cell_type": "markdown",
      "metadata": {
        "id": "fdh97kpY5m_O"
      },
      "source": [
        "## Graph 1: Comparison between expected and estimated outputs"
      ]
    },
    {
      "cell_type": "code",
      "execution_count": 62,
      "metadata": {
        "colab": {
          "base_uri": "https://localhost:8080/",
          "height": 454,
          "referenced_widgets": [
            "85fc59b091dc4f4d88cc1ff819ac6e91",
            "ca280452238e40459d92e576b7bf8dd1",
            "0e6f8270056041b6bdbb9543de1dd1ef",
            "f552b1265f2147e2a21f68376ff8bf5b",
            "380a1411d19040dbacf9f4dc2df444bc",
            "0dd6a1eb23414472b2162c06fdc9fa64"
          ]
        },
        "id": "ErSDzxNP5m_O",
        "outputId": "c5a9e407-a8c3-42c3-dccc-bad4881fcbd1"
      },
      "outputs": [
        {
          "output_type": "display_data",
          "data": {
            "text/plain": [
              "<Figure size 640x480 with 1 Axes>"
            ],
            "image/png": "[encoded data removed]"
          },
          "metadata": {}
        }
      ],
      "source": [
        "var7 = FloatSlider(value=2000,min=10,max=10000,step=10,description='time steps')\n",
        "valid = Button(description='Validate')\n",
        "\n",
        "def trace_graph1(_) :\n",
        "    clear_output()\n",
        "    f=int(var7.value)\n",
        "    plt.figure(1).clear()\n",
        "    plt.plot( nw.data[nw.trainLen+1:nw.trainLen+f+1], 'g' )\n",
        "    plt.plot( nw.Y.T[0:f], 'b' )\n",
        "    plt.title('Target and generated signals $y(n)$ starting at $n=0$')\n",
        "    if nw.mode == 'generative':\n",
        "        plt.legend(['Target signal', 'Free-running predicted signal'])\n",
        "    elif nw.mode == 'prediction':\n",
        "        plt.legend(['Target signal', 'Predicted signal'])\n",
        "\n",
        "valid.on_click(trace_graph1)\n",
        "\n",
        "display(var7)\n",
        "display(valid)"
      ]
    },
    {
      "cell_type": "markdown",
      "metadata": {
        "id": "8hI5W_1Y5m_O"
      },
      "source": [
        "## Graph 2: Difference between expected and estimated outputs"
      ]
    },
    {
      "cell_type": "code",
      "execution_count": 64,
      "metadata": {
        "colab": {
          "base_uri": "https://localhost:8080/",
          "height": 469,
          "referenced_widgets": [
            "1091ee9f68a94e0a91b2c4b3499db4ad",
            "aa30ee98111945b28b56a85b645cf01f",
            "1d2d8f4e3f2d4e01a976d765d07d31f0",
            "da369505fe224a038a9a604f1191dd31",
            "75e33af38ab34607816a72eda9f90573",
            "0a7d6862957a47c08cb0d0cc7f72e1ee",
            "dfec5be58e9148ffb0bfac4f19b2b064",
            "e497a28f9c114de699d9159e164c4c0e",
            "9eb77b9a80bc4e108c288926adfd81dc"
          ]
        },
        "id": "LYyC2dzS5m_O",
        "outputId": "6866f23e-aab9-4e87-e4be-7b734ff8decd"
      },
      "outputs": [
        {
          "output_type": "stream",
          "name": "stdout",
          "text": [
            "(2000,)\n"
          ]
        },
        {
          "output_type": "display_data",
          "data": {
            "text/plain": [
              "<Figure size 640x480 with 1 Axes>"
            ],
            "image/png": "[encoded data removed]"
          },
          "metadata": {}
        }
      ],
      "source": [
        "var8 = FloatSlider(value=2000,min=10,max=nw.testLen,step=10,description='time steps')\n",
        "var9 = FloatSlider(value=0.2,min=0.001,max=10,step=0.001,description='amplitude')\n",
        "valid = Button(description='Validate')\n",
        "\n",
        "def trace_graph2(_) :\n",
        "    clear_output()\n",
        "    f=int(var8.value)\n",
        "    amp=float(var9.value)\n",
        "    plt.figure(2).clear()\n",
        "    plt.ylim([-amp,amp])\n",
        "    plt.plot(nw.data[nw.trainLen+1:nw.trainLen+f+1]-nw.Y[0][0:f], 'g' )\n",
        "    print(nw.Y[0].shape)\n",
        "    plt.title('Target and predicted signal difference through time')\n",
        "    if nw.mode == 'generative':\n",
        "        plt.legend(['Target signal', 'Free-running predicted signal'])\n",
        "    elif nw.mode == 'prediction':\n",
        "        plt.legend(['Target signal', 'Predicted signal'])\n",
        "\n",
        "valid.on_click(trace_graph2)\n",
        "\n",
        "display(var8)\n",
        "display(var9)\n",
        "display(valid)"
      ]
    },
    {
      "cell_type": "markdown",
      "metadata": {
        "id": "5G1rRbVe5m_O"
      },
      "source": [
        "## Graph 3: Plotting neurons activations (total)"
      ]
    },
    {
      "cell_type": "code",
      "execution_count": 65,
      "metadata": {
        "colab": {
          "base_uri": "https://localhost:8080/",
          "height": 471,
          "referenced_widgets": [
            "785dbc3027cf49dd812573e978ff04c7",
            "487501b33a1644459e335d7faa41f8e0",
            "7ac2edd0d3984c0aa6ed6b807eb32fe4",
            "68a69c52c71d4deea02f2514d1ef6ba1",
            "c838b7da006c4ca28207994cdc800fb5",
            "a8d96f982eb547a888da067831a25544",
            "67b65eacb9154d8a9b1c852c6cd1c955",
            "f477861562124a0b8dc5d300bd002b16",
            "6d64f938d0464f43a27a9e2c625d7cb3"
          ]
        },
        "id": "XocGMnSD5m_O",
        "outputId": "51b92db6-6028-4038-d8e8-6d2d70a82bed"
      },
      "outputs": [
        {
          "output_type": "stream",
          "name": "stdout",
          "text": [
            "(302, 1900)\n"
          ]
        },
        {
          "output_type": "display_data",
          "data": {
            "text/plain": [
              "<Figure size 640x480 with 1 Axes>"
            ],
            "image/png": "[encoded data removed]"
          },
          "metadata": {}
        }
      ],
      "source": [
        "var10 = FloatSlider(value=2000,min=10,max=nw.trainLen-nw.initLen,step=10,description='time steps')\n",
        "var11 = FloatSlider(value=10, min=1, max=nw.resSize, step=1, description='number of neurons')\n",
        "valid = Button(description='Validate')\n",
        "\n",
        "def trace_graph3(_) :\n",
        "    clear_output()\n",
        "    f=int(var10.value)\n",
        "    nb=int(var11.value)\n",
        "    plt.figure(3).clear()\n",
        "    plt.plot( nw.X[2:2+nb,0:f].T )\n",
        "    print(nw.X.shape)\n",
        "    plt.ylim([-1.1,1.1])\n",
        "    plt.title('Activations $\\mathbf{x}(n)$ from Reservoir Neurons ID 0 to '+str(nb-1)+' for '+str(f)+' time steps')\n",
        "\n",
        "valid.on_click(trace_graph3)\n",
        "\n",
        "display(var10)\n",
        "display(var11)\n",
        "display(valid)"
      ]
    },
    {
      "cell_type": "markdown",
      "metadata": {
        "id": "Tt6ixqSd5m_P"
      },
      "source": [
        "## Graph 4: Plotting single neuron activation"
      ]
    },
    {
      "cell_type": "code",
      "execution_count": 66,
      "metadata": {
        "colab": {
          "base_uri": "https://localhost:8080/",
          "height": 454,
          "referenced_widgets": [
            "eca2b37d4d4b43deac3817d8c5ba8ac8",
            "415a9782ec544038881a3e2640d03198",
            "ebcc1eab56334692b02b3e2a9e9fc73e",
            "0b432cb584d741839a4759b43af76a4d",
            "30584b52aaef4f61a79077cbaa0ff647",
            "cce5db3a3976440892b73651bbd2fff6",
            "c480222f31a1477880b500155113cf23",
            "bef7ccccb5324d16af667e68bf0274f0",
            "ce74e0652e2045e28cdc5429632d06ba"
          ]
        },
        "id": "xFCuaKo05m_P",
        "outputId": "97de9fe7-b0d5-4077-82e8-5388cb40851c"
      },
      "outputs": [
        {
          "output_type": "display_data",
          "data": {
            "text/plain": [
              "<Figure size 640x480 with 1 Axes>"
            ],
            "image/png": "[encoded data removed]"
          },
          "metadata": {}
        }
      ],
      "source": [
        "var12 = FloatSlider(value=2000,min=10,max=nw.trainLen-nw.initLen,step=10,description='time steps')\n",
        "var13 = FloatSlider(value=2, min=0, max=nw.resSize-1, step=1, description='neuron ID')\n",
        "valid = Button(description='Validate')\n",
        "\n",
        "def trace_graph4(_) :\n",
        "    clear_output()\n",
        "    f=int(var12.value)\n",
        "    num=int(var13.value)\n",
        "    plt.figure(4).clear()\n",
        "    plt.plot( nw.X[2+num,:f].T )\n",
        "    plt.ylim([-1.1,1.1])\n",
        "    plt.title('Activations $\\mathbf{x}(n)$ from Reservoir Neuron ID '+str(num)+' for '+str(f)+' time steps')\n",
        "\n",
        "valid.on_click(trace_graph4)\n",
        "\n",
        "display(var12)\n",
        "display(var13)\n",
        "display(valid)"
      ]
    },
    {
      "cell_type": "markdown",
      "metadata": {
        "id": "8d7OMSqy5m_P"
      },
      "source": [
        "## Graph 5: Output weights at the end of the simulation"
      ]
    },
    {
      "cell_type": "code",
      "execution_count": 67,
      "metadata": {
        "colab": {
          "base_uri": "https://localhost:8080/",
          "height": 768,
          "referenced_widgets": [
            "d85d68443db54857acb60c1954e85ad6",
            "671083723b174d0bb3744b39837c90af",
            "70b8bde4c8654f8b9be5b6f64368b413"
          ]
        },
        "id": "tfKzyNzD5m_P",
        "outputId": "f37204df-a15e-4eae-af12-288bf6c38b49"
      },
      "outputs": [
        {
          "output_type": "error",
          "ename": "TypeError",
          "evalue": "only length-1 arrays can be converted to Python scalars",
          "traceback": [
            "\u001b[0;31m---------------------------------------------------------------------------\u001b[0m",
            "\u001b[0;31mTypeError\u001b[0m                                 Traceback (most recent call last)",
            "\u001b[0;32m<ipython-input-67-8ec233d8c98c>\u001b[0m in \u001b[0;36mtrace_graph5\u001b[0;34m(_)\u001b[0m\n\u001b[1;32m      4\u001b[0m     \u001b[0mclear_output\u001b[0m\u001b[0;34m(\u001b[0m\u001b[0;34m)\u001b[0m\u001b[0;34m\u001b[0m\u001b[0;34m\u001b[0m\u001b[0m\n\u001b[1;32m      5\u001b[0m     \u001b[0mplt\u001b[0m\u001b[0;34m.\u001b[0m\u001b[0mfigure\u001b[0m\u001b[0;34m(\u001b[0m\u001b[0;36m5\u001b[0m\u001b[0;34m)\u001b[0m\u001b[0;34m.\u001b[0m\u001b[0mclear\u001b[0m\u001b[0;34m(\u001b[0m\u001b[0;34m)\u001b[0m\u001b[0;34m\u001b[0m\u001b[0;34m\u001b[0m\u001b[0m\n\u001b[0;32m----> 6\u001b[0;31m     \u001b[0mplt\u001b[0m\u001b[0;34m.\u001b[0m\u001b[0mbar\u001b[0m\u001b[0;34m(\u001b[0m \u001b[0mrange\u001b[0m\u001b[0;34m(\u001b[0m\u001b[0;36m1\u001b[0m\u001b[0;34m+\u001b[0m\u001b[0mnw\u001b[0m\u001b[0;34m.\u001b[0m\u001b[0minSize\u001b[0m\u001b[0;34m+\u001b[0m\u001b[0mnw\u001b[0m\u001b[0;34m.\u001b[0m\u001b[0mresSize\u001b[0m\u001b[0;34m)\u001b[0m\u001b[0;34m,\u001b[0m \u001b[0mnw\u001b[0m\u001b[0;34m.\u001b[0m\u001b[0mWout\u001b[0m\u001b[0;34m.\u001b[0m\u001b[0mT\u001b[0m \u001b[0;34m)\u001b[0m\u001b[0;34m\u001b[0m\u001b[0;34m\u001b[0m\u001b[0m\n\u001b[0m\u001b[1;32m      7\u001b[0m     \u001b[0mplt\u001b[0m\u001b[0;34m.\u001b[0m\u001b[0mtitle\u001b[0m\u001b[0;34m(\u001b[0m\u001b[0;34m'Output weights $\\mathbf{W}^{out}$'\u001b[0m\u001b[0;34m)\u001b[0m\u001b[0;34m\u001b[0m\u001b[0;34m\u001b[0m\u001b[0m\n\u001b[1;32m      8\u001b[0m \u001b[0;34m\u001b[0m\u001b[0m\n",
            "\u001b[0;32m/usr/local/lib/python3.11/dist-packages/matplotlib/pyplot.py\u001b[0m in \u001b[0;36mbar\u001b[0;34m(x, height, width, bottom, align, data, **kwargs)\u001b[0m\n\u001b[1;32m   2979\u001b[0m     \u001b[0;34m**\u001b[0m\u001b[0mkwargs\u001b[0m\u001b[0;34m,\u001b[0m\u001b[0;34m\u001b[0m\u001b[0;34m\u001b[0m\u001b[0m\n\u001b[1;32m   2980\u001b[0m ) -> BarContainer:\n\u001b[0;32m-> 2981\u001b[0;31m     return gca().bar(\n\u001b[0m\u001b[1;32m   2982\u001b[0m         \u001b[0mx\u001b[0m\u001b[0;34m,\u001b[0m\u001b[0;34m\u001b[0m\u001b[0;34m\u001b[0m\u001b[0m\n\u001b[1;32m   2983\u001b[0m         \u001b[0mheight\u001b[0m\u001b[0;34m,\u001b[0m\u001b[0;34m\u001b[0m\u001b[0;34m\u001b[0m\u001b[0m\n",
            "\u001b[0;32m/usr/local/lib/python3.11/dist-packages/matplotlib/__init__.py\u001b[0m in \u001b[0;36minner\u001b[0;34m(ax, data, *args, **kwargs)\u001b[0m\n\u001b[1;32m   1519\u001b[0m     \u001b[0;32mdef\u001b[0m \u001b[0minner\u001b[0m\u001b[0;34m(\u001b[0m\u001b[0max\u001b[0m\u001b[0;34m,\u001b[0m \u001b[0;34m*\u001b[0m\u001b[0margs\u001b[0m\u001b[0;34m,\u001b[0m \u001b[0mdata\u001b[0m\u001b[0;34m=\u001b[0m\u001b[0;32mNone\u001b[0m\u001b[0;34m,\u001b[0m \u001b[0;34m**\u001b[0m\u001b[0mkwargs\u001b[0m\u001b[0;34m)\u001b[0m\u001b[0;34m:\u001b[0m\u001b[0;34m\u001b[0m\u001b[0;34m\u001b[0m\u001b[0m\n\u001b[1;32m   1520\u001b[0m         \u001b[0;32mif\u001b[0m \u001b[0mdata\u001b[0m \u001b[0;32mis\u001b[0m \u001b[0;32mNone\u001b[0m\u001b[0;34m:\u001b[0m\u001b[0;34m\u001b[0m\u001b[0;34m\u001b[0m\u001b[0m\n\u001b[0;32m-> 1521\u001b[0;31m             return func(\n\u001b[0m\u001b[1;32m   1522\u001b[0m                 \u001b[0max\u001b[0m\u001b[0;34m,\u001b[0m\u001b[0;34m\u001b[0m\u001b[0;34m\u001b[0m\u001b[0m\n\u001b[1;32m   1523\u001b[0m                 \u001b[0;34m*\u001b[0m\u001b[0mmap\u001b[0m\u001b[0;34m(\u001b[0m\u001b[0mcbook\u001b[0m\u001b[0;34m.\u001b[0m\u001b[0msanitize_sequence\u001b[0m\u001b[0;34m,\u001b[0m \u001b[0margs\u001b[0m\u001b[0;34m)\u001b[0m\u001b[0;34m,\u001b[0m\u001b[0;34m\u001b[0m\u001b[0;34m\u001b[0m\u001b[0m\n",
            "\u001b[0;32m/usr/local/lib/python3.11/dist-packages/matplotlib/axes/_axes.py\u001b[0m in \u001b[0;36mbar\u001b[0;34m(self, x, height, width, bottom, align, **kwargs)\u001b[0m\n\u001b[1;32m   2633\u001b[0m                    hatch, patch_labels)\n\u001b[1;32m   2634\u001b[0m         \u001b[0;32mfor\u001b[0m \u001b[0ml\u001b[0m\u001b[0;34m,\u001b[0m \u001b[0mb\u001b[0m\u001b[0;34m,\u001b[0m \u001b[0mw\u001b[0m\u001b[0;34m,\u001b[0m \u001b[0mh\u001b[0m\u001b[0;34m,\u001b[0m \u001b[0mc\u001b[0m\u001b[0;34m,\u001b[0m \u001b[0me\u001b[0m\u001b[0;34m,\u001b[0m \u001b[0mlw\u001b[0m\u001b[0;34m,\u001b[0m \u001b[0mhtch\u001b[0m\u001b[0;34m,\u001b[0m \u001b[0mlbl\u001b[0m \u001b[0;32min\u001b[0m \u001b[0margs\u001b[0m\u001b[0;34m:\u001b[0m\u001b[0;34m\u001b[0m\u001b[0;34m\u001b[0m\u001b[0m\n\u001b[0;32m-> 2635\u001b[0;31m             r = mpatches.Rectangle(\n\u001b[0m\u001b[1;32m   2636\u001b[0m                 \u001b[0mxy\u001b[0m\u001b[0;34m=\u001b[0m\u001b[0;34m(\u001b[0m\u001b[0ml\u001b[0m\u001b[0;34m,\u001b[0m \u001b[0mb\u001b[0m\u001b[0;34m)\u001b[0m\u001b[0;34m,\u001b[0m \u001b[0mwidth\u001b[0m\u001b[0;34m=\u001b[0m\u001b[0mw\u001b[0m\u001b[0;34m,\u001b[0m \u001b[0mheight\u001b[0m\u001b[0;34m=\u001b[0m\u001b[0mh\u001b[0m\u001b[0;34m,\u001b[0m\u001b[0;34m\u001b[0m\u001b[0;34m\u001b[0m\u001b[0m\n\u001b[1;32m   2637\u001b[0m                 \u001b[0mfacecolor\u001b[0m\u001b[0;34m=\u001b[0m\u001b[0mc\u001b[0m\u001b[0;34m,\u001b[0m\u001b[0;34m\u001b[0m\u001b[0;34m\u001b[0m\u001b[0m\n",
            "\u001b[0;32m/usr/local/lib/python3.11/dist-packages/matplotlib/patches.py\u001b[0m in \u001b[0;36m__init__\u001b[0;34m(self, xy, width, height, angle, rotation_point, **kwargs)\u001b[0m\n\u001b[1;32m    770\u001b[0m             \u001b[0;34m%\u001b[0m\u001b[0;34m(\u001b[0m\u001b[0mPatch\u001b[0m\u001b[0;34m:\u001b[0m\u001b[0mkwdoc\u001b[0m\u001b[0;34m)\u001b[0m\u001b[0ms\u001b[0m\u001b[0;34m\u001b[0m\u001b[0;34m\u001b[0m\u001b[0m\n\u001b[1;32m    771\u001b[0m         \"\"\"\n\u001b[0;32m--> 772\u001b[0;31m         \u001b[0msuper\u001b[0m\u001b[0;34m(\u001b[0m\u001b[0;34m)\u001b[0m\u001b[0;34m.\u001b[0m\u001b[0m__init__\u001b[0m\u001b[0;34m(\u001b[0m\u001b[0;34m**\u001b[0m\u001b[0mkwargs\u001b[0m\u001b[0;34m)\u001b[0m\u001b[0;34m\u001b[0m\u001b[0;34m\u001b[0m\u001b[0m\n\u001b[0m\u001b[1;32m    773\u001b[0m         \u001b[0mself\u001b[0m\u001b[0;34m.\u001b[0m\u001b[0m_x0\u001b[0m \u001b[0;34m=\u001b[0m \u001b[0mxy\u001b[0m\u001b[0;34m[\u001b[0m\u001b[0;36m0\u001b[0m\u001b[0;34m]\u001b[0m\u001b[0;34m\u001b[0m\u001b[0;34m\u001b[0m\u001b[0m\n\u001b[1;32m    774\u001b[0m         \u001b[0mself\u001b[0m\u001b[0;34m.\u001b[0m\u001b[0m_y0\u001b[0m \u001b[0;34m=\u001b[0m \u001b[0mxy\u001b[0m\u001b[0;34m[\u001b[0m\u001b[0;36m1\u001b[0m\u001b[0;34m]\u001b[0m\u001b[0;34m\u001b[0m\u001b[0;34m\u001b[0m\u001b[0m\n",
            "\u001b[0;32m/usr/local/lib/python3.11/dist-packages/matplotlib/patches.py\u001b[0m in \u001b[0;36m__init__\u001b[0;34m(self, edgecolor, facecolor, color, linewidth, linestyle, antialiased, hatch, fill, capstyle, joinstyle, **kwargs)\u001b[0m\n\u001b[1;32m     90\u001b[0m \u001b[0;34m\u001b[0m\u001b[0m\n\u001b[1;32m     91\u001b[0m         \u001b[0mself\u001b[0m\u001b[0;34m.\u001b[0m\u001b[0mset_linestyle\u001b[0m\u001b[0;34m(\u001b[0m\u001b[0mlinestyle\u001b[0m\u001b[0;34m)\u001b[0m\u001b[0;34m\u001b[0m\u001b[0;34m\u001b[0m\u001b[0m\n\u001b[0;32m---> 92\u001b[0;31m         \u001b[0mself\u001b[0m\u001b[0;34m.\u001b[0m\u001b[0mset_linewidth\u001b[0m\u001b[0;34m(\u001b[0m\u001b[0mlinewidth\u001b[0m\u001b[0;34m)\u001b[0m\u001b[0;34m\u001b[0m\u001b[0;34m\u001b[0m\u001b[0m\n\u001b[0m\u001b[1;32m     93\u001b[0m         \u001b[0mself\u001b[0m\u001b[0;34m.\u001b[0m\u001b[0mset_antialiased\u001b[0m\u001b[0;34m(\u001b[0m\u001b[0mantialiased\u001b[0m\u001b[0;34m)\u001b[0m\u001b[0;34m\u001b[0m\u001b[0;34m\u001b[0m\u001b[0m\n\u001b[1;32m     94\u001b[0m         \u001b[0mself\u001b[0m\u001b[0;34m.\u001b[0m\u001b[0mset_hatch\u001b[0m\u001b[0;34m(\u001b[0m\u001b[0mhatch\u001b[0m\u001b[0;34m)\u001b[0m\u001b[0;34m\u001b[0m\u001b[0;34m\u001b[0m\u001b[0m\n",
            "\u001b[0;32m/usr/local/lib/python3.11/dist-packages/matplotlib/patches.py\u001b[0m in \u001b[0;36mset_linewidth\u001b[0;34m(self, w)\u001b[0m\n\u001b[1;32m    437\u001b[0m         \u001b[0;32mif\u001b[0m \u001b[0mw\u001b[0m \u001b[0;32mis\u001b[0m \u001b[0;32mNone\u001b[0m\u001b[0;34m:\u001b[0m\u001b[0;34m\u001b[0m\u001b[0;34m\u001b[0m\u001b[0m\n\u001b[1;32m    438\u001b[0m             \u001b[0mw\u001b[0m \u001b[0;34m=\u001b[0m \u001b[0mmpl\u001b[0m\u001b[0;34m.\u001b[0m\u001b[0mrcParams\u001b[0m\u001b[0;34m[\u001b[0m\u001b[0;34m'patch.linewidth'\u001b[0m\u001b[0;34m]\u001b[0m\u001b[0;34m\u001b[0m\u001b[0;34m\u001b[0m\u001b[0m\n\u001b[0;32m--> 439\u001b[0;31m         \u001b[0mself\u001b[0m\u001b[0;34m.\u001b[0m\u001b[0m_linewidth\u001b[0m \u001b[0;34m=\u001b[0m \u001b[0mfloat\u001b[0m\u001b[0;34m(\u001b[0m\u001b[0mw\u001b[0m\u001b[0;34m)\u001b[0m\u001b[0;34m\u001b[0m\u001b[0;34m\u001b[0m\u001b[0m\n\u001b[0m\u001b[1;32m    440\u001b[0m         self._dash_pattern = mlines._scale_dashes(\n\u001b[1;32m    441\u001b[0m             *self._unscaled_dash_pattern, w)\n",
            "\u001b[0;31mTypeError\u001b[0m: only length-1 arrays can be converted to Python scalars"
          ]
        },
        {
          "output_type": "display_data",
          "data": {
            "text/plain": [
              "<Figure size 640x480 with 1 Axes>"
            ],
            "image/png": "[encoded data removed]"
          },
          "metadata": {}
        }
      ],
      "source": [
        "valid = Button(description='Show')\n",
        "\n",
        "def trace_graph5(_) :\n",
        "    clear_output()\n",
        "    plt.figure(5).clear()\n",
        "    plt.bar( range(1+nw.inSize+nw.resSize), nw.Wout.T )\n",
        "    plt.title('Output weights $\\mathbf{W}^{out}$')\n",
        "\n",
        "valid.on_click(trace_graph5)\n",
        "\n",
        "display(valid)"
      ]
    }
  ],
  "metadata": {
    "anaconda-cloud": {},
    "kernelspec": {
      "display_name": "Python 3",
      "language": "python",
      "name": "python3"
    },
    "language_info": {
      "codemirror_mode": {
        "name": "ipython",
        "version": 3
      },
      "file_extension": ".py",
      "mimetype": "text/x-python",
      "name": "python",
      "nbconvert_exporter": "python",
      "pygments_lexer": "ipython3",
      "version": "3.5.2"
    },
    "colab": {
      "provenance": [],
      "include_colab_link": true
    },
    "widgets": {
      "application/vnd.jupyter.widget-state+json": {
        "6261e2b26bdb4bb693c19fa5637d452e": {
          "model_module": "@jupyter-widgets/controls",
          "model_name": "VBoxModel",
          "model_module_version": "1.5.0",
          "state": {
            "_dom_classes": [
              "widget-interact"
            ],
            "_model_module": "@jupyter-widgets/controls",
            "_model_module_version": "1.5.0",
            "_model_name": "VBoxModel",
            "_view_count": null,
            "_view_module": "@jupyter-widgets/controls",
            "_view_module_version": "1.5.0",
            "_view_name": "VBoxView",
            "box_style": "",
            "children": [
              "IPY_MODEL_e971505cd31b46b8b86ccce2d5714e65",
              "IPY_MODEL_3a847ffe181e4df68fc248b5c3ede218"
            ],
            "layout": "IPY_MODEL_8627b1189d7745d49bf429babdcc551e"
          }
        },
        "e971505cd31b46b8b86ccce2d5714e65": {
          "model_module": "@jupyter-widgets/controls",
          "model_name": "FloatSliderModel",
          "model_module_version": "1.5.0",
          "state": {
            "_dom_classes": [],
            "_model_module": "@jupyter-widgets/controls",
            "_model_module_version": "1.5.0",
            "_model_name": "FloatSliderModel",
            "_view_count": null,
            "_view_module": "@jupyter-widgets/controls",
            "_view_module_version": "1.5.0",
            "_view_name": "FloatSliderView",
            "continuous_update": false,
            "description": "time steps",
            "description_tooltip": null,
            "disabled": false,
            "layout": "IPY_MODEL_428b6acbb07441a99d0bf35698605bc1",
            "max": 10000,
            "min": 1000,
            "orientation": "horizontal",
            "readout": true,
            "readout_format": ".2f",
            "step": 1000,
            "style": "IPY_MODEL_11506afd435f453b8983bef4519cd691",
            "value": 8000
          }
        },
        "3a847ffe181e4df68fc248b5c3ede218": {
          "model_module": "@jupyter-widgets/output",
          "model_name": "OutputModel",
          "model_module_version": "1.0.0",
          "state": {
            "_dom_classes": [],
            "_model_module": "@jupyter-widgets/output",
            "_model_module_version": "1.0.0",
            "_model_name": "OutputModel",
            "_view_count": null,
            "_view_module": "@jupyter-widgets/output",
            "_view_module_version": "1.0.0",
            "_view_name": "OutputView",
            "layout": "IPY_MODEL_8c7b3c55e82245faa445d5e35c6077cf",
            "msg_id": "",
            "outputs": [
              {
                "output_type": "display_data",
                "data": {
                  "text/plain": "<Figure size 640x480 with 1 Axes>",
                  "image/png": "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\n"
                },
                "metadata": {}
              }
            ]
          }
        },
        "8627b1189d7745d49bf429babdcc551e": {
          "model_module": "@jupyter-widgets/base",
          "model_name": "LayoutModel",
          "model_module_version": "1.2.0",
          "state": {
            "_model_module": "@jupyter-widgets/base",
            "_model_module_version": "1.2.0",
            "_model_name": "LayoutModel",
            "_view_count": null,
            "_view_module": "@jupyter-widgets/base",
            "_view_module_version": "1.2.0",
            "_view_name": "LayoutView",
            "align_content": null,
            "align_items": null,
            "align_self": null,
            "border": null,
            "bottom": null,
            "display": null,
            "flex": null,
            "flex_flow": null,
            "grid_area": null,
            "grid_auto_columns": null,
            "grid_auto_flow": null,
            "grid_auto_rows": null,
            "grid_column": null,
            "grid_gap": null,
            "grid_row": null,
            "grid_template_areas": null,
            "grid_template_columns": null,
            "grid_template_rows": null,
            "height": null,
            "justify_content": null,
            "justify_items": null,
            "left": null,
            "margin": null,
            "max_height": null,
            "max_width": null,
            "min_height": null,
            "min_width": null,
            "object_fit": null,
            "object_position": null,
            "order": null,
            "overflow": null,
            "overflow_x": null,
            "overflow_y": null,
            "padding": null,
            "right": null,
            "top": null,
            "visibility": null,
            "width": null
          }
        },
        "428b6acbb07441a99d0bf35698605bc1": {
          "model_module": "@jupyter-widgets/base",
          "model_name": "LayoutModel",
          "model_module_version": "1.2.0",
          "state": {
            "_model_module": "@jupyter-widgets/base",
            "_model_module_version": "1.2.0",
            "_model_name": "LayoutModel",
            "_view_count": null,
            "_view_module": "@jupyter-widgets/base",
            "_view_module_version": "1.2.0",
            "_view_name": "LayoutView",
            "align_content": null,
            "align_items": null,
            "align_self": null,
            "border": null,
            "bottom": null,
            "display": null,
            "flex": null,
            "flex_flow": null,
            "grid_area": null,
            "grid_auto_columns": null,
            "grid_auto_flow": null,
            "grid_auto_rows": null,
            "grid_column": null,
            "grid_gap": null,
            "grid_row": null,
            "grid_template_areas": null,
            "grid_template_columns": null,
            "grid_template_rows": null,
            "height": null,
            "justify_content": null,
            "justify_items": null,
            "left": null,
            "margin": null,
            "max_height": null,
            "max_width": null,
            "min_height": null,
            "min_width": null,
            "object_fit": null,
            "object_position": null,
            "order": null,
            "overflow": null,
            "overflow_x": null,
            "overflow_y": null,
            "padding": null,
            "right": null,
            "top": null,
            "visibility": null,
            "width": null
          }
        },
        "11506afd435f453b8983bef4519cd691": {
          "model_module": "@jupyter-widgets/controls",
          "model_name": "SliderStyleModel",
          "model_module_version": "1.5.0",
          "state": {
            "_model_module": "@jupyter-widgets/controls",
            "_model_module_version": "1.5.0",
            "_model_name": "SliderStyleModel",
            "_view_count": null,
            "_view_module": "@jupyter-widgets/base",
            "_view_module_version": "1.2.0",
            "_view_name": "StyleView",
            "description_width": "",
            "handle_color": null
          }
        },
        "8c7b3c55e82245faa445d5e35c6077cf": {
          "model_module": "@jupyter-widgets/base",
          "model_name": "LayoutModel",
          "model_module_version": "1.2.0",
          "state": {
            "_model_module": "@jupyter-widgets/base",
            "_model_module_version": "1.2.0",
            "_model_name": "LayoutModel",
            "_view_count": null,
            "_view_module": "@jupyter-widgets/base",
            "_view_module_version": "1.2.0",
            "_view_name": "LayoutView",
            "align_content": null,
            "align_items": null,
            "align_self": null,
            "border": null,
            "bottom": null,
            "display": null,
            "flex": null,
            "flex_flow": null,
            "grid_area": null,
            "grid_auto_columns": null,
            "grid_auto_flow": null,
            "grid_auto_rows": null,
            "grid_column": null,
            "grid_gap": null,
            "grid_row": null,
            "grid_template_areas": null,
            "grid_template_columns": null,
            "grid_template_rows": null,
            "height": null,
            "justify_content": null,
            "justify_items": null,
            "left": null,
            "margin": null,
            "max_height": null,
            "max_width": null,
            "min_height": null,
            "min_width": null,
            "object_fit": null,
            "object_position": null,
            "order": null,
            "overflow": null,
            "overflow_x": null,
            "overflow_y": null,
            "padding": null,
            "right": null,
            "top": null,
            "visibility": null,
            "width": null
          }
        },
        "6b1ea616db064a08ace1401768e633d7": {
          "model_module": "@jupyter-widgets/controls",
          "model_name": "ToggleButtonsModel",
          "model_module_version": "1.5.0",
          "state": {
            "_dom_classes": [],
            "_model_module": "@jupyter-widgets/controls",
            "_model_module_version": "1.5.0",
            "_model_name": "ToggleButtonsModel",
            "_options_labels": [
              "prediction",
              "generative"
            ],
            "_view_count": null,
            "_view_module": "@jupyter-widgets/controls",
            "_view_module_version": "1.5.0",
            "_view_name": "ToggleButtonsView",
            "button_style": "",
            "description": "Mode:",
            "description_tooltip": null,
            "disabled": false,
            "icons": [],
            "index": 0,
            "layout": "IPY_MODEL_450a5ae504434b74b014b23e5965e133",
            "style": "IPY_MODEL_dd1407b34ed046078015a2f3b99b79d8",
            "tooltips": []
          }
        },
        "450a5ae504434b74b014b23e5965e133": {
          "model_module": "@jupyter-widgets/base",
          "model_name": "LayoutModel",
          "model_module_version": "1.2.0",
          "state": {
            "_model_module": "@jupyter-widgets/base",
            "_model_module_version": "1.2.0",
            "_model_name": "LayoutModel",
            "_view_count": null,
            "_view_module": "@jupyter-widgets/base",
            "_view_module_version": "1.2.0",
            "_view_name": "LayoutView",
            "align_content": null,
            "align_items": null,
            "align_self": null,
            "border": null,
            "bottom": null,
            "display": null,
            "flex": null,
            "flex_flow": null,
            "grid_area": null,
            "grid_auto_columns": null,
            "grid_auto_flow": null,
            "grid_auto_rows": null,
            "grid_column": null,
            "grid_gap": null,
            "grid_row": null,
            "grid_template_areas": null,
            "grid_template_columns": null,
            "grid_template_rows": null,
            "height": null,
            "justify_content": null,
            "justify_items": null,
            "left": null,
            "margin": null,
            "max_height": null,
            "max_width": null,
            "min_height": null,
            "min_width": null,
            "object_fit": null,
            "object_position": null,
            "order": null,
            "overflow": null,
            "overflow_x": null,
            "overflow_y": null,
            "padding": null,
            "right": null,
            "top": null,
            "visibility": null,
            "width": null
          }
        },
        "dd1407b34ed046078015a2f3b99b79d8": {
          "model_module": "@jupyter-widgets/controls",
          "model_name": "ToggleButtonsStyleModel",
          "model_module_version": "1.5.0",
          "state": {
            "_model_module": "@jupyter-widgets/controls",
            "_model_module_version": "1.5.0",
            "_model_name": "ToggleButtonsStyleModel",
            "_view_count": null,
            "_view_module": "@jupyter-widgets/base",
            "_view_module_version": "1.2.0",
            "_view_name": "StyleView",
            "button_width": "",
            "description_width": "",
            "font_weight": ""
          }
        },
        "2701d38d79ca4ffeb4a0f42e188fc2f3": {
          "model_module": "@jupyter-widgets/controls",
          "model_name": "FloatSliderModel",
          "model_module_version": "1.5.0",
          "state": {
            "_dom_classes": [],
            "_model_module": "@jupyter-widgets/controls",
            "_model_module_version": "1.5.0",
            "_model_name": "FloatSliderModel",
            "_view_count": null,
            "_view_module": "@jupyter-widgets/controls",
            "_view_module_version": "1.5.0",
            "_view_name": "FloatSliderView",
            "continuous_update": true,
            "description": "resSize",
            "description_tooltip": null,
            "disabled": false,
            "layout": "IPY_MODEL_dd5f139a71844dab84b43db6af65aa62",
            "max": 1000,
            "min": 0,
            "orientation": "horizontal",
            "readout": true,
            "readout_format": ".2f",
            "step": 1,
            "style": "IPY_MODEL_d7300a0cc5e2431f94a0c4aa43f67536",
            "value": 300
          }
        },
        "dd5f139a71844dab84b43db6af65aa62": {
          "model_module": "@jupyter-widgets/base",
          "model_name": "LayoutModel",
          "model_module_version": "1.2.0",
          "state": {
            "_model_module": "@jupyter-widgets/base",
            "_model_module_version": "1.2.0",
            "_model_name": "LayoutModel",
            "_view_count": null,
            "_view_module": "@jupyter-widgets/base",
            "_view_module_version": "1.2.0",
            "_view_name": "LayoutView",
            "align_content": null,
            "align_items": null,
            "align_self": null,
            "border": null,
            "bottom": null,
            "display": null,
            "flex": null,
            "flex_flow": null,
            "grid_area": null,
            "grid_auto_columns": null,
            "grid_auto_flow": null,
            "grid_auto_rows": null,
            "grid_column": null,
            "grid_gap": null,
            "grid_row": null,
            "grid_template_areas": null,
            "grid_template_columns": null,
            "grid_template_rows": null,
            "height": null,
            "justify_content": null,
            "justify_items": null,
            "left": null,
            "margin": null,
            "max_height": null,
            "max_width": null,
            "min_height": null,
            "min_width": null,
            "object_fit": null,
            "object_position": null,
            "order": null,
            "overflow": null,
            "overflow_x": null,
            "overflow_y": null,
            "padding": null,
            "right": null,
            "top": null,
            "visibility": null,
            "width": null
          }
        },
        "d7300a0cc5e2431f94a0c4aa43f67536": {
          "model_module": "@jupyter-widgets/controls",
          "model_name": "SliderStyleModel",
          "model_module_version": "1.5.0",
          "state": {
            "_model_module": "@jupyter-widgets/controls",
            "_model_module_version": "1.5.0",
            "_model_name": "SliderStyleModel",
            "_view_count": null,
            "_view_module": "@jupyter-widgets/base",
            "_view_module_version": "1.2.0",
            "_view_name": "StyleView",
            "description_width": "",
            "handle_color": null
          }
        },
        "29da0f39ab8d4f20b1cc45c434cc7345": {
          "model_module": "@jupyter-widgets/controls",
          "model_name": "FloatSliderModel",
          "model_module_version": "1.5.0",
          "state": {
            "_dom_classes": [],
            "_model_module": "@jupyter-widgets/controls",
            "_model_module_version": "1.5.0",
            "_model_name": "FloatSliderModel",
            "_view_count": null,
            "_view_module": "@jupyter-widgets/controls",
            "_view_module_version": "1.5.0",
            "_view_name": "FloatSliderView",
            "continuous_update": true,
            "description": "initLen",
            "description_tooltip": null,
            "disabled": false,
            "layout": "IPY_MODEL_83a768c35f4c4f6e8b05f7ad4d659804",
            "max": 2000,
            "min": 0,
            "orientation": "horizontal",
            "readout": true,
            "readout_format": ".2f",
            "step": 1,
            "style": "IPY_MODEL_fa174ba3d0494075b25959fcd0ea82f3",
            "value": 100
          }
        },
        "83a768c35f4c4f6e8b05f7ad4d659804": {
          "model_module": "@jupyter-widgets/base",
          "model_name": "LayoutModel",
          "model_module_version": "1.2.0",
          "state": {
            "_model_module": "@jupyter-widgets/base",
            "_model_module_version": "1.2.0",
            "_model_name": "LayoutModel",
            "_view_count": null,
            "_view_module": "@jupyter-widgets/base",
            "_view_module_version": "1.2.0",
            "_view_name": "LayoutView",
            "align_content": null,
            "align_items": null,
            "align_self": null,
            "border": null,
            "bottom": null,
            "display": null,
            "flex": null,
            "flex_flow": null,
            "grid_area": null,
            "grid_auto_columns": null,
            "grid_auto_flow": null,
            "grid_auto_rows": null,
            "grid_column": null,
            "grid_gap": null,
            "grid_row": null,
            "grid_template_areas": null,
            "grid_template_columns": null,
            "grid_template_rows": null,
            "height": null,
            "justify_content": null,
            "justify_items": null,
            "left": null,
            "margin": null,
            "max_height": null,
            "max_width": null,
            "min_height": null,
            "min_width": null,
            "object_fit": null,
            "object_position": null,
            "order": null,
            "overflow": null,
            "overflow_x": null,
            "overflow_y": null,
            "padding": null,
            "right": null,
            "top": null,
            "visibility": null,
            "width": null
          }
        },
        "fa174ba3d0494075b25959fcd0ea82f3": {
          "model_module": "@jupyter-widgets/controls",
          "model_name": "SliderStyleModel",
          "model_module_version": "1.5.0",
          "state": {
            "_model_module": "@jupyter-widgets/controls",
            "_model_module_version": "1.5.0",
            "_model_name": "SliderStyleModel",
            "_view_count": null,
            "_view_module": "@jupyter-widgets/base",
            "_view_module_version": "1.2.0",
            "_view_name": "StyleView",
            "description_width": "",
            "handle_color": null
          }
        },
        "96f68c4db56e486e9319d3f6c794ce46": {
          "model_module": "@jupyter-widgets/controls",
          "model_name": "FloatSliderModel",
          "model_module_version": "1.5.0",
          "state": {
            "_dom_classes": [],
            "_model_module": "@jupyter-widgets/controls",
            "_model_module_version": "1.5.0",
            "_model_name": "FloatSliderModel",
            "_view_count": null,
            "_view_module": "@jupyter-widgets/controls",
            "_view_module_version": "1.5.0",
            "_view_name": "FloatSliderView",
            "continuous_update": true,
            "description": "trainLen",
            "description_tooltip": null,
            "disabled": false,
            "layout": "IPY_MODEL_0ae65279ff8b40e0a8305eceda01f94b",
            "max": 5000,
            "min": 0,
            "orientation": "horizontal",
            "readout": true,
            "readout_format": ".2f",
            "step": 1,
            "style": "IPY_MODEL_e75abc26de154df2ac8fb50091e4296f",
            "value": 2000
          }
        },
        "0ae65279ff8b40e0a8305eceda01f94b": {
          "model_module": "@jupyter-widgets/base",
          "model_name": "LayoutModel",
          "model_module_version": "1.2.0",
          "state": {
            "_model_module": "@jupyter-widgets/base",
            "_model_module_version": "1.2.0",
            "_model_name": "LayoutModel",
            "_view_count": null,
            "_view_module": "@jupyter-widgets/base",
            "_view_module_version": "1.2.0",
            "_view_name": "LayoutView",
            "align_content": null,
            "align_items": null,
            "align_self": null,
            "border": null,
            "bottom": null,
            "display": null,
            "flex": null,
            "flex_flow": null,
            "grid_area": null,
            "grid_auto_columns": null,
            "grid_auto_flow": null,
            "grid_auto_rows": null,
            "grid_column": null,
            "grid_gap": null,
            "grid_row": null,
            "grid_template_areas": null,
            "grid_template_columns": null,
            "grid_template_rows": null,
            "height": null,
            "justify_content": null,
            "justify_items": null,
            "left": null,
            "margin": null,
            "max_height": null,
            "max_width": null,
            "min_height": null,
            "min_width": null,
            "object_fit": null,
            "object_position": null,
            "order": null,
            "overflow": null,
            "overflow_x": null,
            "overflow_y": null,
            "padding": null,
            "right": null,
            "top": null,
            "visibility": null,
            "width": null
          }
        },
        "e75abc26de154df2ac8fb50091e4296f": {
          "model_module": "@jupyter-widgets/controls",
          "model_name": "SliderStyleModel",
          "model_module_version": "1.5.0",
          "state": {
            "_model_module": "@jupyter-widgets/controls",
            "_model_module_version": "1.5.0",
            "_model_name": "SliderStyleModel",
            "_view_count": null,
            "_view_module": "@jupyter-widgets/base",
            "_view_module_version": "1.2.0",
            "_view_name": "StyleView",
            "description_width": "",
            "handle_color": null
          }
        },
        "b337d65410a84367a4b4a0fd422b611a": {
          "model_module": "@jupyter-widgets/controls",
          "model_name": "FloatSliderModel",
          "model_module_version": "1.5.0",
          "state": {
            "_dom_classes": [],
            "_model_module": "@jupyter-widgets/controls",
            "_model_module_version": "1.5.0",
            "_model_name": "FloatSliderModel",
            "_view_count": null,
            "_view_module": "@jupyter-widgets/controls",
            "_view_module_version": "1.5.0",
            "_view_name": "FloatSliderView",
            "continuous_update": true,
            "description": "testLen",
            "description_tooltip": null,
            "disabled": false,
            "layout": "IPY_MODEL_8c44b2a8165641b0962225b1d9674798",
            "max": 5000,
            "min": 0,
            "orientation": "horizontal",
            "readout": true,
            "readout_format": ".2f",
            "step": 1,
            "style": "IPY_MODEL_e9d5fba369674aa7aac02b634d670c71",
            "value": 2000
          }
        },
        "8c44b2a8165641b0962225b1d9674798": {
          "model_module": "@jupyter-widgets/base",
          "model_name": "LayoutModel",
          "model_module_version": "1.2.0",
          "state": {
            "_model_module": "@jupyter-widgets/base",
            "_model_module_version": "1.2.0",
            "_model_name": "LayoutModel",
            "_view_count": null,
            "_view_module": "@jupyter-widgets/base",
            "_view_module_version": "1.2.0",
            "_view_name": "LayoutView",
            "align_content": null,
            "align_items": null,
            "align_self": null,
            "border": null,
            "bottom": null,
            "display": null,
            "flex": null,
            "flex_flow": null,
            "grid_area": null,
            "grid_auto_columns": null,
            "grid_auto_flow": null,
            "grid_auto_rows": null,
            "grid_column": null,
            "grid_gap": null,
            "grid_row": null,
            "grid_template_areas": null,
            "grid_template_columns": null,
            "grid_template_rows": null,
            "height": null,
            "justify_content": null,
            "justify_items": null,
            "left": null,
            "margin": null,
            "max_height": null,
            "max_width": null,
            "min_height": null,
            "min_width": null,
            "object_fit": null,
            "object_position": null,
            "order": null,
            "overflow": null,
            "overflow_x": null,
            "overflow_y": null,
            "padding": null,
            "right": null,
            "top": null,
            "visibility": null,
            "width": null
          }
        },
        "e9d5fba369674aa7aac02b634d670c71": {
          "model_module": "@jupyter-widgets/controls",
          "model_name": "SliderStyleModel",
          "model_module_version": "1.5.0",
          "state": {
            "_model_module": "@jupyter-widgets/controls",
            "_model_module_version": "1.5.0",
            "_model_name": "SliderStyleModel",
            "_view_count": null,
            "_view_module": "@jupyter-widgets/base",
            "_view_module_version": "1.2.0",
            "_view_name": "StyleView",
            "description_width": "",
            "handle_color": null
          }
        },
        "c5484ec8eee04bf8a129234d58c049cc": {
          "model_module": "@jupyter-widgets/controls",
          "model_name": "FloatSliderModel",
          "model_module_version": "1.5.0",
          "state": {
            "_dom_classes": [],
            "_model_module": "@jupyter-widgets/controls",
            "_model_module_version": "1.5.0",
            "_model_name": "FloatSliderModel",
            "_view_count": null,
            "_view_module": "@jupyter-widgets/controls",
            "_view_module_version": "1.5.0",
            "_view_name": "FloatSliderView",
            "continuous_update": true,
            "description": "spectral radius",
            "description_tooltip": null,
            "disabled": false,
            "layout": "IPY_MODEL_1e43edc61043488cb4a2a56796c96d61",
            "max": 10,
            "min": 0,
            "orientation": "horizontal",
            "readout": true,
            "readout_format": ".2f",
            "step": 0.05,
            "style": "IPY_MODEL_97fc311795c14a69a564e0585cd8711e",
            "value": 1.25
          }
        },
        "1e43edc61043488cb4a2a56796c96d61": {
          "model_module": "@jupyter-widgets/base",
          "model_name": "LayoutModel",
          "model_module_version": "1.2.0",
          "state": {
            "_model_module": "@jupyter-widgets/base",
            "_model_module_version": "1.2.0",
            "_model_name": "LayoutModel",
            "_view_count": null,
            "_view_module": "@jupyter-widgets/base",
            "_view_module_version": "1.2.0",
            "_view_name": "LayoutView",
            "align_content": null,
            "align_items": null,
            "align_self": null,
            "border": null,
            "bottom": null,
            "display": null,
            "flex": null,
            "flex_flow": null,
            "grid_area": null,
            "grid_auto_columns": null,
            "grid_auto_flow": null,
            "grid_auto_rows": null,
            "grid_column": null,
            "grid_gap": null,
            "grid_row": null,
            "grid_template_areas": null,
            "grid_template_columns": null,
            "grid_template_rows": null,
            "height": null,
            "justify_content": null,
            "justify_items": null,
            "left": null,
            "margin": null,
            "max_height": null,
            "max_width": null,
            "min_height": null,
            "min_width": null,
            "object_fit": null,
            "object_position": null,
            "order": null,
            "overflow": null,
            "overflow_x": null,
            "overflow_y": null,
            "padding": null,
            "right": null,
            "top": null,
            "visibility": null,
            "width": null
          }
        },
        "97fc311795c14a69a564e0585cd8711e": {
          "model_module": "@jupyter-widgets/controls",
          "model_name": "SliderStyleModel",
          "model_module_version": "1.5.0",
          "state": {
            "_model_module": "@jupyter-widgets/controls",
            "_model_module_version": "1.5.0",
            "_model_name": "SliderStyleModel",
            "_view_count": null,
            "_view_module": "@jupyter-widgets/base",
            "_view_module_version": "1.2.0",
            "_view_name": "StyleView",
            "description_width": "",
            "handle_color": null
          }
        },
        "ff9a92d76cca492b95cb49ae954ffd7c": {
          "model_module": "@jupyter-widgets/controls",
          "model_name": "FloatSliderModel",
          "model_module_version": "1.5.0",
          "state": {
            "_dom_classes": [],
            "_model_module": "@jupyter-widgets/controls",
            "_model_module_version": "1.5.0",
            "_model_name": "FloatSliderModel",
            "_view_count": null,
            "_view_module": "@jupyter-widgets/controls",
            "_view_module_version": "1.5.0",
            "_view_name": "FloatSliderView",
            "continuous_update": true,
            "description": "leak rate",
            "description_tooltip": null,
            "disabled": false,
            "layout": "IPY_MODEL_2551cea8f13d46efb59f6f6883a5945f",
            "max": 1,
            "min": 0,
            "orientation": "horizontal",
            "readout": true,
            "readout_format": ".2f",
            "step": 0.01,
            "style": "IPY_MODEL_79905f5711384a07823367604d2d15a7",
            "value": 0.3
          }
        },
        "2551cea8f13d46efb59f6f6883a5945f": {
          "model_module": "@jupyter-widgets/base",
          "model_name": "LayoutModel",
          "model_module_version": "1.2.0",
          "state": {
            "_model_module": "@jupyter-widgets/base",
            "_model_module_version": "1.2.0",
            "_model_name": "LayoutModel",
            "_view_count": null,
            "_view_module": "@jupyter-widgets/base",
            "_view_module_version": "1.2.0",
            "_view_name": "LayoutView",
            "align_content": null,
            "align_items": null,
            "align_self": null,
            "border": null,
            "bottom": null,
            "display": null,
            "flex": null,
            "flex_flow": null,
            "grid_area": null,
            "grid_auto_columns": null,
            "grid_auto_flow": null,
            "grid_auto_rows": null,
            "grid_column": null,
            "grid_gap": null,
            "grid_row": null,
            "grid_template_areas": null,
            "grid_template_columns": null,
            "grid_template_rows": null,
            "height": null,
            "justify_content": null,
            "justify_items": null,
            "left": null,
            "margin": null,
            "max_height": null,
            "max_width": null,
            "min_height": null,
            "min_width": null,
            "object_fit": null,
            "object_position": null,
            "order": null,
            "overflow": null,
            "overflow_x": null,
            "overflow_y": null,
            "padding": null,
            "right": null,
            "top": null,
            "visibility": null,
            "width": null
          }
        },
        "79905f5711384a07823367604d2d15a7": {
          "model_module": "@jupyter-widgets/controls",
          "model_name": "SliderStyleModel",
          "model_module_version": "1.5.0",
          "state": {
            "_model_module": "@jupyter-widgets/controls",
            "_model_module_version": "1.5.0",
            "_model_name": "SliderStyleModel",
            "_view_count": null,
            "_view_module": "@jupyter-widgets/base",
            "_view_module_version": "1.2.0",
            "_view_name": "StyleView",
            "description_width": "",
            "handle_color": null
          }
        },
        "cedc69518093476f879344bcc0c464d8": {
          "model_module": "@jupyter-widgets/controls",
          "model_name": "ButtonModel",
          "model_module_version": "1.5.0",
          "state": {
            "_dom_classes": [],
            "_model_module": "@jupyter-widgets/controls",
            "_model_module_version": "1.5.0",
            "_model_name": "ButtonModel",
            "_view_count": null,
            "_view_module": "@jupyter-widgets/controls",
            "_view_module_version": "1.5.0",
            "_view_name": "ButtonView",
            "button_style": "",
            "description": "Validate",
            "disabled": false,
            "icon": "",
            "layout": "IPY_MODEL_01059f847b194c5c8130b63978a1cf05",
            "style": "IPY_MODEL_de7cf207c0364c69ac045aa481b29519",
            "tooltip": ""
          }
        },
        "01059f847b194c5c8130b63978a1cf05": {
          "model_module": "@jupyter-widgets/base",
          "model_name": "LayoutModel",
          "model_module_version": "1.2.0",
          "state": {
            "_model_module": "@jupyter-widgets/base",
            "_model_module_version": "1.2.0",
            "_model_name": "LayoutModel",
            "_view_count": null,
            "_view_module": "@jupyter-widgets/base",
            "_view_module_version": "1.2.0",
            "_view_name": "LayoutView",
            "align_content": null,
            "align_items": null,
            "align_self": null,
            "border": null,
            "bottom": null,
            "display": null,
            "flex": null,
            "flex_flow": null,
            "grid_area": null,
            "grid_auto_columns": null,
            "grid_auto_flow": null,
            "grid_auto_rows": null,
            "grid_column": null,
            "grid_gap": null,
            "grid_row": null,
            "grid_template_areas": null,
            "grid_template_columns": null,
            "grid_template_rows": null,
            "height": null,
            "justify_content": null,
            "justify_items": null,
            "left": null,
            "margin": null,
            "max_height": null,
            "max_width": null,
            "min_height": null,
            "min_width": null,
            "object_fit": null,
            "object_position": null,
            "order": null,
            "overflow": null,
            "overflow_x": null,
            "overflow_y": null,
            "padding": null,
            "right": null,
            "top": null,
            "visibility": null,
            "width": null
          }
        },
        "de7cf207c0364c69ac045aa481b29519": {
          "model_module": "@jupyter-widgets/controls",
          "model_name": "ButtonStyleModel",
          "model_module_version": "1.5.0",
          "state": {
            "_model_module": "@jupyter-widgets/controls",
            "_model_module_version": "1.5.0",
            "_model_name": "ButtonStyleModel",
            "_view_count": null,
            "_view_module": "@jupyter-widgets/base",
            "_view_module_version": "1.2.0",
            "_view_name": "StyleView",
            "button_color": null,
            "font_weight": ""
          }
        },
        "85fc59b091dc4f4d88cc1ff819ac6e91": {
          "model_module": "@jupyter-widgets/controls",
          "model_name": "FloatSliderModel",
          "model_module_version": "1.5.0",
          "state": {
            "_dom_classes": [],
            "_model_module": "@jupyter-widgets/controls",
            "_model_module_version": "1.5.0",
            "_model_name": "FloatSliderModel",
            "_view_count": null,
            "_view_module": "@jupyter-widgets/controls",
            "_view_module_version": "1.5.0",
            "_view_name": "FloatSliderView",
            "continuous_update": true,
            "description": "time steps",
            "description_tooltip": null,
            "disabled": false,
            "layout": "IPY_MODEL_ca280452238e40459d92e576b7bf8dd1",
            "max": 10000,
            "min": 10,
            "orientation": "horizontal",
            "readout": true,
            "readout_format": ".2f",
            "step": 10,
            "style": "IPY_MODEL_0e6f8270056041b6bdbb9543de1dd1ef",
            "value": 5300
          }
        },
        "ca280452238e40459d92e576b7bf8dd1": {
          "model_module": "@jupyter-widgets/base",
          "model_name": "LayoutModel",
          "model_module_version": "1.2.0",
          "state": {
            "_model_module": "@jupyter-widgets/base",
            "_model_module_version": "1.2.0",
            "_model_name": "LayoutModel",
            "_view_count": null,
            "_view_module": "@jupyter-widgets/base",
            "_view_module_version": "1.2.0",
            "_view_name": "LayoutView",
            "align_content": null,
            "align_items": null,
            "align_self": null,
            "border": null,
            "bottom": null,
            "display": null,
            "flex": null,
            "flex_flow": null,
            "grid_area": null,
            "grid_auto_columns": null,
            "grid_auto_flow": null,
            "grid_auto_rows": null,
            "grid_column": null,
            "grid_gap": null,
            "grid_row": null,
            "grid_template_areas": null,
            "grid_template_columns": null,
            "grid_template_rows": null,
            "height": null,
            "justify_content": null,
            "justify_items": null,
            "left": null,
            "margin": null,
            "max_height": null,
            "max_width": null,
            "min_height": null,
            "min_width": null,
            "object_fit": null,
            "object_position": null,
            "order": null,
            "overflow": null,
            "overflow_x": null,
            "overflow_y": null,
            "padding": null,
            "right": null,
            "top": null,
            "visibility": null,
            "width": null
          }
        },
        "0e6f8270056041b6bdbb9543de1dd1ef": {
          "model_module": "@jupyter-widgets/controls",
          "model_name": "SliderStyleModel",
          "model_module_version": "1.5.0",
          "state": {
            "_model_module": "@jupyter-widgets/controls",
            "_model_module_version": "1.5.0",
            "_model_name": "SliderStyleModel",
            "_view_count": null,
            "_view_module": "@jupyter-widgets/base",
            "_view_module_version": "1.2.0",
            "_view_name": "StyleView",
            "description_width": "",
            "handle_color": null
          }
        },
        "f552b1265f2147e2a21f68376ff8bf5b": {
          "model_module": "@jupyter-widgets/controls",
          "model_name": "ButtonModel",
          "model_module_version": "1.5.0",
          "state": {
            "_dom_classes": [],
            "_model_module": "@jupyter-widgets/controls",
            "_model_module_version": "1.5.0",
            "_model_name": "ButtonModel",
            "_view_count": null,
            "_view_module": "@jupyter-widgets/controls",
            "_view_module_version": "1.5.0",
            "_view_name": "ButtonView",
            "button_style": "",
            "description": "Validate",
            "disabled": false,
            "icon": "",
            "layout": "IPY_MODEL_380a1411d19040dbacf9f4dc2df444bc",
            "style": "IPY_MODEL_0dd6a1eb23414472b2162c06fdc9fa64",
            "tooltip": ""
          }
        },
        "380a1411d19040dbacf9f4dc2df444bc": {
          "model_module": "@jupyter-widgets/base",
          "model_name": "LayoutModel",
          "model_module_version": "1.2.0",
          "state": {
            "_model_module": "@jupyter-widgets/base",
            "_model_module_version": "1.2.0",
            "_model_name": "LayoutModel",
            "_view_count": null,
            "_view_module": "@jupyter-widgets/base",
            "_view_module_version": "1.2.0",
            "_view_name": "LayoutView",
            "align_content": null,
            "align_items": null,
            "align_self": null,
            "border": null,
            "bottom": null,
            "display": null,
            "flex": null,
            "flex_flow": null,
            "grid_area": null,
            "grid_auto_columns": null,
            "grid_auto_flow": null,
            "grid_auto_rows": null,
            "grid_column": null,
            "grid_gap": null,
            "grid_row": null,
            "grid_template_areas": null,
            "grid_template_columns": null,
            "grid_template_rows": null,
            "height": null,
            "justify_content": null,
            "justify_items": null,
            "left": null,
            "margin": null,
            "max_height": null,
            "max_width": null,
            "min_height": null,
            "min_width": null,
            "object_fit": null,
            "object_position": null,
            "order": null,
            "overflow": null,
            "overflow_x": null,
            "overflow_y": null,
            "padding": null,
            "right": null,
            "top": null,
            "visibility": null,
            "width": null
          }
        },
        "0dd6a1eb23414472b2162c06fdc9fa64": {
          "model_module": "@jupyter-widgets/controls",
          "model_name": "ButtonStyleModel",
          "model_module_version": "1.5.0",
          "state": {
            "_model_module": "@jupyter-widgets/controls",
            "_model_module_version": "1.5.0",
            "_model_name": "ButtonStyleModel",
            "_view_count": null,
            "_view_module": "@jupyter-widgets/base",
            "_view_module_version": "1.2.0",
            "_view_name": "StyleView",
            "button_color": null,
            "font_weight": ""
          }
        },
        "1091ee9f68a94e0a91b2c4b3499db4ad": {
          "model_module": "@jupyter-widgets/controls",
          "model_name": "FloatSliderModel",
          "model_module_version": "1.5.0",
          "state": {
            "_dom_classes": [],
            "_model_module": "@jupyter-widgets/controls",
            "_model_module_version": "1.5.0",
            "_model_name": "FloatSliderModel",
            "_view_count": null,
            "_view_module": "@jupyter-widgets/controls",
            "_view_module_version": "1.5.0",
            "_view_name": "FloatSliderView",
            "continuous_update": true,
            "description": "time steps",
            "description_tooltip": null,
            "disabled": false,
            "layout": "IPY_MODEL_aa30ee98111945b28b56a85b645cf01f",
            "max": 2000,
            "min": 10,
            "orientation": "horizontal",
            "readout": true,
            "readout_format": ".2f",
            "step": 10,
            "style": "IPY_MODEL_1d2d8f4e3f2d4e01a976d765d07d31f0",
            "value": 1110
          }
        },
        "aa30ee98111945b28b56a85b645cf01f": {
          "model_module": "@jupyter-widgets/base",
          "model_name": "LayoutModel",
          "model_module_version": "1.2.0",
          "state": {
            "_model_module": "@jupyter-widgets/base",
            "_model_module_version": "1.2.0",
            "_model_name": "LayoutModel",
            "_view_count": null,
            "_view_module": "@jupyter-widgets/base",
            "_view_module_version": "1.2.0",
            "_view_name": "LayoutView",
            "align_content": null,
            "align_items": null,
            "align_self": null,
            "border": null,
            "bottom": null,
            "display": null,
            "flex": null,
            "flex_flow": null,
            "grid_area": null,
            "grid_auto_columns": null,
            "grid_auto_flow": null,
            "grid_auto_rows": null,
            "grid_column": null,
            "grid_gap": null,
            "grid_row": null,
            "grid_template_areas": null,
            "grid_template_columns": null,
            "grid_template_rows": null,
            "height": null,
            "justify_content": null,
            "justify_items": null,
            "left": null,
            "margin": null,
            "max_height": null,
            "max_width": null,
            "min_height": null,
            "min_width": null,
            "object_fit": null,
            "object_position": null,
            "order": null,
            "overflow": null,
            "overflow_x": null,
            "overflow_y": null,
            "padding": null,
            "right": null,
            "top": null,
            "visibility": null,
            "width": null
          }
        },
        "1d2d8f4e3f2d4e01a976d765d07d31f0": {
          "model_module": "@jupyter-widgets/controls",
          "model_name": "SliderStyleModel",
          "model_module_version": "1.5.0",
          "state": {
            "_model_module": "@jupyter-widgets/controls",
            "_model_module_version": "1.5.0",
            "_model_name": "SliderStyleModel",
            "_view_count": null,
            "_view_module": "@jupyter-widgets/base",
            "_view_module_version": "1.2.0",
            "_view_name": "StyleView",
            "description_width": "",
            "handle_color": null
          }
        },
        "da369505fe224a038a9a604f1191dd31": {
          "model_module": "@jupyter-widgets/controls",
          "model_name": "FloatSliderModel",
          "model_module_version": "1.5.0",
          "state": {
            "_dom_classes": [],
            "_model_module": "@jupyter-widgets/controls",
            "_model_module_version": "1.5.0",
            "_model_name": "FloatSliderModel",
            "_view_count": null,
            "_view_module": "@jupyter-widgets/controls",
            "_view_module_version": "1.5.0",
            "_view_name": "FloatSliderView",
            "continuous_update": true,
            "description": "amplitude",
            "description_tooltip": null,
            "disabled": false,
            "layout": "IPY_MODEL_75e33af38ab34607816a72eda9f90573",
            "max": 10,
            "min": 0.001,
            "orientation": "horizontal",
            "readout": true,
            "readout_format": ".2f",
            "step": 0.001,
            "style": "IPY_MODEL_0a7d6862957a47c08cb0d0cc7f72e1ee",
            "value": 5.873
          }
        },
        "75e33af38ab34607816a72eda9f90573": {
          "model_module": "@jupyter-widgets/base",
          "model_name": "LayoutModel",
          "model_module_version": "1.2.0",
          "state": {
            "_model_module": "@jupyter-widgets/base",
            "_model_module_version": "1.2.0",
            "_model_name": "LayoutModel",
            "_view_count": null,
            "_view_module": "@jupyter-widgets/base",
            "_view_module_version": "1.2.0",
            "_view_name": "LayoutView",
            "align_content": null,
            "align_items": null,
            "align_self": null,
            "border": null,
            "bottom": null,
            "display": null,
            "flex": null,
            "flex_flow": null,
            "grid_area": null,
            "grid_auto_columns": null,
            "grid_auto_flow": null,
            "grid_auto_rows": null,
            "grid_column": null,
            "grid_gap": null,
            "grid_row": null,
            "grid_template_areas": null,
            "grid_template_columns": null,
            "grid_template_rows": null,
            "height": null,
            "justify_content": null,
            "justify_items": null,
            "left": null,
            "margin": null,
            "max_height": null,
            "max_width": null,
            "min_height": null,
            "min_width": null,
            "object_fit": null,
            "object_position": null,
            "order": null,
            "overflow": null,
            "overflow_x": null,
            "overflow_y": null,
            "padding": null,
            "right": null,
            "top": null,
            "visibility": null,
            "width": null
          }
        },
        "0a7d6862957a47c08cb0d0cc7f72e1ee": {
          "model_module": "@jupyter-widgets/controls",
          "model_name": "SliderStyleModel",
          "model_module_version": "1.5.0",
          "state": {
            "_model_module": "@jupyter-widgets/controls",
            "_model_module_version": "1.5.0",
            "_model_name": "SliderStyleModel",
            "_view_count": null,
            "_view_module": "@jupyter-widgets/base",
            "_view_module_version": "1.2.0",
            "_view_name": "StyleView",
            "description_width": "",
            "handle_color": null
          }
        },
        "dfec5be58e9148ffb0bfac4f19b2b064": {
          "model_module": "@jupyter-widgets/controls",
          "model_name": "ButtonModel",
          "model_module_version": "1.5.0",
          "state": {
            "_dom_classes": [],
            "_model_module": "@jupyter-widgets/controls",
            "_model_module_version": "1.5.0",
            "_model_name": "ButtonModel",
            "_view_count": null,
            "_view_module": "@jupyter-widgets/controls",
            "_view_module_version": "1.5.0",
            "_view_name": "ButtonView",
            "button_style": "",
            "description": "Validate",
            "disabled": false,
            "icon": "",
            "layout": "IPY_MODEL_e497a28f9c114de699d9159e164c4c0e",
            "style": "IPY_MODEL_9eb77b9a80bc4e108c288926adfd81dc",
            "tooltip": ""
          }
        },
        "e497a28f9c114de699d9159e164c4c0e": {
          "model_module": "@jupyter-widgets/base",
          "model_name": "LayoutModel",
          "model_module_version": "1.2.0",
          "state": {
            "_model_module": "@jupyter-widgets/base",
            "_model_module_version": "1.2.0",
            "_model_name": "LayoutModel",
            "_view_count": null,
            "_view_module": "@jupyter-widgets/base",
            "_view_module_version": "1.2.0",
            "_view_name": "LayoutView",
            "align_content": null,
            "align_items": null,
            "align_self": null,
            "border": null,
            "bottom": null,
            "display": null,
            "flex": null,
            "flex_flow": null,
            "grid_area": null,
            "grid_auto_columns": null,
            "grid_auto_flow": null,
            "grid_auto_rows": null,
            "grid_column": null,
            "grid_gap": null,
            "grid_row": null,
            "grid_template_areas": null,
            "grid_template_columns": null,
            "grid_template_rows": null,
            "height": null,
            "justify_content": null,
            "justify_items": null,
            "left": null,
            "margin": null,
            "max_height": null,
            "max_width": null,
            "min_height": null,
            "min_width": null,
            "object_fit": null,
            "object_position": null,
            "order": null,
            "overflow": null,
            "overflow_x": null,
            "overflow_y": null,
            "padding": null,
            "right": null,
            "top": null,
            "visibility": null,
            "width": null
          }
        },
        "9eb77b9a80bc4e108c288926adfd81dc": {
          "model_module": "@jupyter-widgets/controls",
          "model_name": "ButtonStyleModel",
          "model_module_version": "1.5.0",
          "state": {
            "_model_module": "@jupyter-widgets/controls",
            "_model_module_version": "1.5.0",
            "_model_name": "ButtonStyleModel",
            "_view_count": null,
            "_view_module": "@jupyter-widgets/base",
            "_view_module_version": "1.2.0",
            "_view_name": "StyleView",
            "button_color": null,
            "font_weight": ""
          }
        },
        "785dbc3027cf49dd812573e978ff04c7": {
          "model_module": "@jupyter-widgets/controls",
          "model_name": "FloatSliderModel",
          "model_module_version": "1.5.0",
          "state": {
            "_dom_classes": [],
            "_model_module": "@jupyter-widgets/controls",
            "_model_module_version": "1.5.0",
            "_model_name": "FloatSliderModel",
            "_view_count": null,
            "_view_module": "@jupyter-widgets/controls",
            "_view_module_version": "1.5.0",
            "_view_name": "FloatSliderView",
            "continuous_update": true,
            "description": "time steps",
            "description_tooltip": null,
            "disabled": false,
            "layout": "IPY_MODEL_487501b33a1644459e335d7faa41f8e0",
            "max": 1900,
            "min": 10,
            "orientation": "horizontal",
            "readout": true,
            "readout_format": ".2f",
            "step": 10,
            "style": "IPY_MODEL_7ac2edd0d3984c0aa6ed6b807eb32fe4",
            "value": 1900
          }
        },
        "487501b33a1644459e335d7faa41f8e0": {
          "model_module": "@jupyter-widgets/base",
          "model_name": "LayoutModel",
          "model_module_version": "1.2.0",
          "state": {
            "_model_module": "@jupyter-widgets/base",
            "_model_module_version": "1.2.0",
            "_model_name": "LayoutModel",
            "_view_count": null,
            "_view_module": "@jupyter-widgets/base",
            "_view_module_version": "1.2.0",
            "_view_name": "LayoutView",
            "align_content": null,
            "align_items": null,
            "align_self": null,
            "border": null,
            "bottom": null,
            "display": null,
            "flex": null,
            "flex_flow": null,
            "grid_area": null,
            "grid_auto_columns": null,
            "grid_auto_flow": null,
            "grid_auto_rows": null,
            "grid_column": null,
            "grid_gap": null,
            "grid_row": null,
            "grid_template_areas": null,
            "grid_template_columns": null,
            "grid_template_rows": null,
            "height": null,
            "justify_content": null,
            "justify_items": null,
            "left": null,
            "margin": null,
            "max_height": null,
            "max_width": null,
            "min_height": null,
            "min_width": null,
            "object_fit": null,
            "object_position": null,
            "order": null,
            "overflow": null,
            "overflow_x": null,
            "overflow_y": null,
            "padding": null,
            "right": null,
            "top": null,
            "visibility": null,
            "width": null
          }
        },
        "7ac2edd0d3984c0aa6ed6b807eb32fe4": {
          "model_module": "@jupyter-widgets/controls",
          "model_name": "SliderStyleModel",
          "model_module_version": "1.5.0",
          "state": {
            "_model_module": "@jupyter-widgets/controls",
            "_model_module_version": "1.5.0",
            "_model_name": "SliderStyleModel",
            "_view_count": null,
            "_view_module": "@jupyter-widgets/base",
            "_view_module_version": "1.2.0",
            "_view_name": "StyleView",
            "description_width": "",
            "handle_color": null
          }
        },
        "68a69c52c71d4deea02f2514d1ef6ba1": {
          "model_module": "@jupyter-widgets/controls",
          "model_name": "FloatSliderModel",
          "model_module_version": "1.5.0",
          "state": {
            "_dom_classes": [],
            "_model_module": "@jupyter-widgets/controls",
            "_model_module_version": "1.5.0",
            "_model_name": "FloatSliderModel",
            "_view_count": null,
            "_view_module": "@jupyter-widgets/controls",
            "_view_module_version": "1.5.0",
            "_view_name": "FloatSliderView",
            "continuous_update": true,
            "description": "number of neurons",
            "description_tooltip": null,
            "disabled": false,
            "layout": "IPY_MODEL_c838b7da006c4ca28207994cdc800fb5",
            "max": 300,
            "min": 1,
            "orientation": "horizontal",
            "readout": true,
            "readout_format": ".2f",
            "step": 1,
            "style": "IPY_MODEL_a8d96f982eb547a888da067831a25544",
            "value": 86
          }
        },
        "c838b7da006c4ca28207994cdc800fb5": {
          "model_module": "@jupyter-widgets/base",
          "model_name": "LayoutModel",
          "model_module_version": "1.2.0",
          "state": {
            "_model_module": "@jupyter-widgets/base",
            "_model_module_version": "1.2.0",
            "_model_name": "LayoutModel",
            "_view_count": null,
            "_view_module": "@jupyter-widgets/base",
            "_view_module_version": "1.2.0",
            "_view_name": "LayoutView",
            "align_content": null,
            "align_items": null,
            "align_self": null,
            "border": null,
            "bottom": null,
            "display": null,
            "flex": null,
            "flex_flow": null,
            "grid_area": null,
            "grid_auto_columns": null,
            "grid_auto_flow": null,
            "grid_auto_rows": null,
            "grid_column": null,
            "grid_gap": null,
            "grid_row": null,
            "grid_template_areas": null,
            "grid_template_columns": null,
            "grid_template_rows": null,
            "height": null,
            "justify_content": null,
            "justify_items": null,
            "left": null,
            "margin": null,
            "max_height": null,
            "max_width": null,
            "min_height": null,
            "min_width": null,
            "object_fit": null,
            "object_position": null,
            "order": null,
            "overflow": null,
            "overflow_x": null,
            "overflow_y": null,
            "padding": null,
            "right": null,
            "top": null,
            "visibility": null,
            "width": null
          }
        },
        "a8d96f982eb547a888da067831a25544": {
          "model_module": "@jupyter-widgets/controls",
          "model_name": "SliderStyleModel",
          "model_module_version": "1.5.0",
          "state": {
            "_model_module": "@jupyter-widgets/controls",
            "_model_module_version": "1.5.0",
            "_model_name": "SliderStyleModel",
            "_view_count": null,
            "_view_module": "@jupyter-widgets/base",
            "_view_module_version": "1.2.0",
            "_view_name": "StyleView",
            "description_width": "",
            "handle_color": null
          }
        },
        "67b65eacb9154d8a9b1c852c6cd1c955": {
          "model_module": "@jupyter-widgets/controls",
          "model_name": "ButtonModel",
          "model_module_version": "1.5.0",
          "state": {
            "_dom_classes": [],
            "_model_module": "@jupyter-widgets/controls",
            "_model_module_version": "1.5.0",
            "_model_name": "ButtonModel",
            "_view_count": null,
            "_view_module": "@jupyter-widgets/controls",
            "_view_module_version": "1.5.0",
            "_view_name": "ButtonView",
            "button_style": "",
            "description": "Validate",
            "disabled": false,
            "icon": "",
            "layout": "IPY_MODEL_f477861562124a0b8dc5d300bd002b16",
            "style": "IPY_MODEL_6d64f938d0464f43a27a9e2c625d7cb3",
            "tooltip": ""
          }
        },
        "f477861562124a0b8dc5d300bd002b16": {
          "model_module": "@jupyter-widgets/base",
          "model_name": "LayoutModel",
          "model_module_version": "1.2.0",
          "state": {
            "_model_module": "@jupyter-widgets/base",
            "_model_module_version": "1.2.0",
            "_model_name": "LayoutModel",
            "_view_count": null,
            "_view_module": "@jupyter-widgets/base",
            "_view_module_version": "1.2.0",
            "_view_name": "LayoutView",
            "align_content": null,
            "align_items": null,
            "align_self": null,
            "border": null,
            "bottom": null,
            "display": null,
            "flex": null,
            "flex_flow": null,
            "grid_area": null,
            "grid_auto_columns": null,
            "grid_auto_flow": null,
            "grid_auto_rows": null,
            "grid_column": null,
            "grid_gap": null,
            "grid_row": null,
            "grid_template_areas": null,
            "grid_template_columns": null,
            "grid_template_rows": null,
            "height": null,
            "justify_content": null,
            "justify_items": null,
            "left": null,
            "margin": null,
            "max_height": null,
            "max_width": null,
            "min_height": null,
            "min_width": null,
            "object_fit": null,
            "object_position": null,
            "order": null,
            "overflow": null,
            "overflow_x": null,
            "overflow_y": null,
            "padding": null,
            "right": null,
            "top": null,
            "visibility": null,
            "width": null
          }
        },
        "6d64f938d0464f43a27a9e2c625d7cb3": {
          "model_module": "@jupyter-widgets/controls",
          "model_name": "ButtonStyleModel",
          "model_module_version": "1.5.0",
          "state": {
            "_model_module": "@jupyter-widgets/controls",
            "_model_module_version": "1.5.0",
            "_model_name": "ButtonStyleModel",
            "_view_count": null,
            "_view_module": "@jupyter-widgets/base",
            "_view_module_version": "1.2.0",
            "_view_name": "StyleView",
            "button_color": null,
            "font_weight": ""
          }
        },
        "eca2b37d4d4b43deac3817d8c5ba8ac8": {
          "model_module": "@jupyter-widgets/controls",
          "model_name": "FloatSliderModel",
          "model_module_version": "1.5.0",
          "state": {
            "_dom_classes": [],
            "_model_module": "@jupyter-widgets/controls",
            "_model_module_version": "1.5.0",
            "_model_name": "FloatSliderModel",
            "_view_count": null,
            "_view_module": "@jupyter-widgets/controls",
            "_view_module_version": "1.5.0",
            "_view_name": "FloatSliderView",
            "continuous_update": true,
            "description": "time steps",
            "description_tooltip": null,
            "disabled": false,
            "layout": "IPY_MODEL_415a9782ec544038881a3e2640d03198",
            "max": 1900,
            "min": 10,
            "orientation": "horizontal",
            "readout": true,
            "readout_format": ".2f",
            "step": 10,
            "style": "IPY_MODEL_ebcc1eab56334692b02b3e2a9e9fc73e",
            "value": 1900
          }
        },
        "415a9782ec544038881a3e2640d03198": {
          "model_module": "@jupyter-widgets/base",
          "model_name": "LayoutModel",
          "model_module_version": "1.2.0",
          "state": {
            "_model_module": "@jupyter-widgets/base",
            "_model_module_version": "1.2.0",
            "_model_name": "LayoutModel",
            "_view_count": null,
            "_view_module": "@jupyter-widgets/base",
            "_view_module_version": "1.2.0",
            "_view_name": "LayoutView",
            "align_content": null,
            "align_items": null,
            "align_self": null,
            "border": null,
            "bottom": null,
            "display": null,
            "flex": null,
            "flex_flow": null,
            "grid_area": null,
            "grid_auto_columns": null,
            "grid_auto_flow": null,
            "grid_auto_rows": null,
            "grid_column": null,
            "grid_gap": null,
            "grid_row": null,
            "grid_template_areas": null,
            "grid_template_columns": null,
            "grid_template_rows": null,
            "height": null,
            "justify_content": null,
            "justify_items": null,
            "left": null,
            "margin": null,
            "max_height": null,
            "max_width": null,
            "min_height": null,
            "min_width": null,
            "object_fit": null,
            "object_position": null,
            "order": null,
            "overflow": null,
            "overflow_x": null,
            "overflow_y": null,
            "padding": null,
            "right": null,
            "top": null,
            "visibility": null,
            "width": null
          }
        },
        "ebcc1eab56334692b02b3e2a9e9fc73e": {
          "model_module": "@jupyter-widgets/controls",
          "model_name": "SliderStyleModel",
          "model_module_version": "1.5.0",
          "state": {
            "_model_module": "@jupyter-widgets/controls",
            "_model_module_version": "1.5.0",
            "_model_name": "SliderStyleModel",
            "_view_count": null,
            "_view_module": "@jupyter-widgets/base",
            "_view_module_version": "1.2.0",
            "_view_name": "StyleView",
            "description_width": "",
            "handle_color": null
          }
        },
        "0b432cb584d741839a4759b43af76a4d": {
          "model_module": "@jupyter-widgets/controls",
          "model_name": "FloatSliderModel",
          "model_module_version": "1.5.0",
          "state": {
            "_dom_classes": [],
            "_model_module": "@jupyter-widgets/controls",
            "_model_module_version": "1.5.0",
            "_model_name": "FloatSliderModel",
            "_view_count": null,
            "_view_module": "@jupyter-widgets/controls",
            "_view_module_version": "1.5.0",
            "_view_name": "FloatSliderView",
            "continuous_update": true,
            "description": "neuron ID",
            "description_tooltip": null,
            "disabled": false,
            "layout": "IPY_MODEL_30584b52aaef4f61a79077cbaa0ff647",
            "max": 299,
            "min": 0,
            "orientation": "horizontal",
            "readout": true,
            "readout_format": ".2f",
            "step": 1,
            "style": "IPY_MODEL_cce5db3a3976440892b73651bbd2fff6",
            "value": 2
          }
        },
        "30584b52aaef4f61a79077cbaa0ff647": {
          "model_module": "@jupyter-widgets/base",
          "model_name": "LayoutModel",
          "model_module_version": "1.2.0",
          "state": {
            "_model_module": "@jupyter-widgets/base",
            "_model_module_version": "1.2.0",
            "_model_name": "LayoutModel",
            "_view_count": null,
            "_view_module": "@jupyter-widgets/base",
            "_view_module_version": "1.2.0",
            "_view_name": "LayoutView",
            "align_content": null,
            "align_items": null,
            "align_self": null,
            "border": null,
            "bottom": null,
            "display": null,
            "flex": null,
            "flex_flow": null,
            "grid_area": null,
            "grid_auto_columns": null,
            "grid_auto_flow": null,
            "grid_auto_rows": null,
            "grid_column": null,
            "grid_gap": null,
            "grid_row": null,
            "grid_template_areas": null,
            "grid_template_columns": null,
            "grid_template_rows": null,
            "height": null,
            "justify_content": null,
            "justify_items": null,
            "left": null,
            "margin": null,
            "max_height": null,
            "max_width": null,
            "min_height": null,
            "min_width": null,
            "object_fit": null,
            "object_position": null,
            "order": null,
            "overflow": null,
            "overflow_x": null,
            "overflow_y": null,
            "padding": null,
            "right": null,
            "top": null,
            "visibility": null,
            "width": null
          }
        },
        "cce5db3a3976440892b73651bbd2fff6": {
          "model_module": "@jupyter-widgets/controls",
          "model_name": "SliderStyleModel",
          "model_module_version": "1.5.0",
          "state": {
            "_model_module": "@jupyter-widgets/controls",
            "_model_module_version": "1.5.0",
            "_model_name": "SliderStyleModel",
            "_view_count": null,
            "_view_module": "@jupyter-widgets/base",
            "_view_module_version": "1.2.0",
            "_view_name": "StyleView",
            "description_width": "",
            "handle_color": null
          }
        },
        "c480222f31a1477880b500155113cf23": {
          "model_module": "@jupyter-widgets/controls",
          "model_name": "ButtonModel",
          "model_module_version": "1.5.0",
          "state": {
            "_dom_classes": [],
            "_model_module": "@jupyter-widgets/controls",
            "_model_module_version": "1.5.0",
            "_model_name": "ButtonModel",
            "_view_count": null,
            "_view_module": "@jupyter-widgets/controls",
            "_view_module_version": "1.5.0",
            "_view_name": "ButtonView",
            "button_style": "",
            "description": "Validate",
            "disabled": false,
            "icon": "",
            "layout": "IPY_MODEL_bef7ccccb5324d16af667e68bf0274f0",
            "style": "IPY_MODEL_ce74e0652e2045e28cdc5429632d06ba",
            "tooltip": ""
          }
        },
        "bef7ccccb5324d16af667e68bf0274f0": {
          "model_module": "@jupyter-widgets/base",
          "model_name": "LayoutModel",
          "model_module_version": "1.2.0",
          "state": {
            "_model_module": "@jupyter-widgets/base",
            "_model_module_version": "1.2.0",
            "_model_name": "LayoutModel",
            "_view_count": null,
            "_view_module": "@jupyter-widgets/base",
            "_view_module_version": "1.2.0",
            "_view_name": "LayoutView",
            "align_content": null,
            "align_items": null,
            "align_self": null,
            "border": null,
            "bottom": null,
            "display": null,
            "flex": null,
            "flex_flow": null,
            "grid_area": null,
            "grid_auto_columns": null,
            "grid_auto_flow": null,
            "grid_auto_rows": null,
            "grid_column": null,
            "grid_gap": null,
            "grid_row": null,
            "grid_template_areas": null,
            "grid_template_columns": null,
            "grid_template_rows": null,
            "height": null,
            "justify_content": null,
            "justify_items": null,
            "left": null,
            "margin": null,
            "max_height": null,
            "max_width": null,
            "min_height": null,
            "min_width": null,
            "object_fit": null,
            "object_position": null,
            "order": null,
            "overflow": null,
            "overflow_x": null,
            "overflow_y": null,
            "padding": null,
            "right": null,
            "top": null,
            "visibility": null,
            "width": null
          }
        },
        "ce74e0652e2045e28cdc5429632d06ba": {
          "model_module": "@jupyter-widgets/controls",
          "model_name": "ButtonStyleModel",
          "model_module_version": "1.5.0",
          "state": {
            "_model_module": "@jupyter-widgets/controls",
            "_model_module_version": "1.5.0",
            "_model_name": "ButtonStyleModel",
            "_view_count": null,
            "_view_module": "@jupyter-widgets/base",
            "_view_module_version": "1.2.0",
            "_view_name": "StyleView",
            "button_color": null,
            "font_weight": ""
          }
        },
        "d85d68443db54857acb60c1954e85ad6": {
          "model_module": "@jupyter-widgets/controls",
          "model_name": "ButtonModel",
          "model_module_version": "1.5.0",
          "state": {
            "_dom_classes": [],
            "_model_module": "@jupyter-widgets/controls",
            "_model_module_version": "1.5.0",
            "_model_name": "ButtonModel",
            "_view_count": null,
            "_view_module": "@jupyter-widgets/controls",
            "_view_module_version": "1.5.0",
            "_view_name": "ButtonView",
            "button_style": "",
            "description": "Show",
            "disabled": false,
            "icon": "",
            "layout": "IPY_MODEL_671083723b174d0bb3744b39837c90af",
            "style": "IPY_MODEL_70b8bde4c8654f8b9be5b6f64368b413",
            "tooltip": ""
          }
        },
        "671083723b174d0bb3744b39837c90af": {
          "model_module": "@jupyter-widgets/base",
          "model_name": "LayoutModel",
          "model_module_version": "1.2.0",
          "state": {
            "_model_module": "@jupyter-widgets/base",
            "_model_module_version": "1.2.0",
            "_model_name": "LayoutModel",
            "_view_count": null,
            "_view_module": "@jupyter-widgets/base",
            "_view_module_version": "1.2.0",
            "_view_name": "LayoutView",
            "align_content": null,
            "align_items": null,
            "align_self": null,
            "border": null,
            "bottom": null,
            "display": null,
            "flex": null,
            "flex_flow": null,
            "grid_area": null,
            "grid_auto_columns": null,
            "grid_auto_flow": null,
            "grid_auto_rows": null,
            "grid_column": null,
            "grid_gap": null,
            "grid_row": null,
            "grid_template_areas": null,
            "grid_template_columns": null,
            "grid_template_rows": null,
            "height": null,
            "justify_content": null,
            "justify_items": null,
            "left": null,
            "margin": null,
            "max_height": null,
            "max_width": null,
            "min_height": null,
            "min_width": null,
            "object_fit": null,
            "object_position": null,
            "order": null,
            "overflow": null,
            "overflow_x": null,
            "overflow_y": null,
            "padding": null,
            "right": null,
            "top": null,
            "visibility": null,
            "width": null
          }
        },
        "70b8bde4c8654f8b9be5b6f64368b413": {
          "model_module": "@jupyter-widgets/controls",
          "model_name": "ButtonStyleModel",
          "model_module_version": "1.5.0",
          "state": {
            "_model_module": "@jupyter-widgets/controls",
            "_model_module_version": "1.5.0",
            "_model_name": "ButtonStyleModel",
            "_view_count": null,
            "_view_module": "@jupyter-widgets/base",
            "_view_module_version": "1.2.0",
            "_view_name": "StyleView",
            "button_color": null,
            "font_weight": ""
          }
        }
      }
    }
  },
  "nbformat": 4,
  "nbformat_minor": 0
}